{
 "cells": [
  {
   "cell_type": "code",
   "execution_count": 1,
   "metadata": {},
   "outputs": [],
   "source": [
    "import numpy as np\n",
    "import csv\n",
    "import pandas as pd\n",
    "import matplotlib.pyplot as plt"
   ]
  },
  {
   "cell_type": "code",
   "execution_count": 2,
   "metadata": {},
   "outputs": [],
   "source": [
    "kiva_loans = pd.read_csv(\"C:\\\\Users\\\\Martin Mbaya\\\\Desktop\\\\Parsel Tongue\\\\IBM\\\\Kaggle Projects\\\\Kiva\\\\data-science-for-good-kiva-crowdfunding\\\\kiva_loans.csv\")\n",
    "kiva_mpi_region_locations = pd.read_csv(\"C:\\\\Users\\\\Martin Mbaya\\\\Desktop\\\\Parsel Tongue\\\\IBM\\\\Kaggle Projects\\\\Kiva\\\\data-science-for-good-kiva-crowdfunding\\\\kiva_mpi_region_locations.csv\")\n",
    "loan_theme_ids = pd.read_csv(\"C:\\\\Users\\\\Martin Mbaya\\\\Desktop\\\\Parsel Tongue\\\\IBM\\\\Kaggle Projects\\\\Kiva\\\\data-science-for-good-kiva-crowdfunding\\\\loan_theme_ids.csv\")\n",
    "loan_themes_by_region = pd.read_csv(\"C:\\\\Users\\\\Martin Mbaya\\\\Desktop\\\\Parsel Tongue\\\\IBM\\\\Kaggle Projects\\\\Kiva\\\\data-science-for-good-kiva-crowdfunding\\\\loan_themes_by_region.csv\")"
   ]
  },
  {
   "cell_type": "code",
   "execution_count": 3,
   "metadata": {},
   "outputs": [
    {
     "data": {
      "text/plain": [
       "Index(['id', 'funded_amount', 'loan_amount', 'activity', 'sector', 'use',\n",
       "       'country_code', 'country', 'region', 'currency', 'partner_id',\n",
       "       'posted_time', 'disbursed_time', 'funded_time', 'term_in_months',\n",
       "       'lender_count', 'tags', 'borrower_genders', 'repayment_interval',\n",
       "       'date'],\n",
       "      dtype='object')"
      ]
     },
     "execution_count": 3,
     "metadata": {},
     "output_type": "execute_result"
    }
   ],
   "source": [
    "# kiva_loans.dtypes\n",
    "# kiva_loans.head()\n",
    "kiva_loans.columns"
   ]
  },
  {
   "cell_type": "code",
   "execution_count": 4,
   "metadata": {},
   "outputs": [],
   "source": [
    "# kiva_loans.disbursed_time = pd.to_datetime(kiva_loans.disbursed_time)\n",
    "# # kiva_loans.posted_time = pd.to_datetime(kiva_loans.posted_time)\n",
    "# kiva_loans.funded_time = pd.to_datetime(kiva_loans.funded_time)\n",
    "# kiva_loans.dtypes\n",
    "# kiva_loans.head(6)\n",
    "# time_to_fund = pd.to_datetime(kiva_loans.funded_time) - pd.to_datetime(kiva_loans.disbursed_time)\n",
    "kiva_loans[\"time_to_fund\"] = (pd.to_datetime(kiva_loans.funded_time) - pd.to_datetime(kiva_loans.disbursed_time))\n",
    "kiva_loans = kiva_loans.drop(['posted_time','loan_amount','use','tags','disbursed_time', 'funded_time', 'date', 'currency'], axis=1)"
   ]
  },
  {
   "cell_type": "code",
   "execution_count": 5,
   "metadata": {},
   "outputs": [
    {
     "data": {
      "text/html": [
       "<div>\n",
       "<style scoped>\n",
       "    .dataframe tbody tr th:only-of-type {\n",
       "        vertical-align: middle;\n",
       "    }\n",
       "\n",
       "    .dataframe tbody tr th {\n",
       "        vertical-align: top;\n",
       "    }\n",
       "\n",
       "    .dataframe thead th {\n",
       "        text-align: right;\n",
       "    }\n",
       "</style>\n",
       "<table border=\"1\" class=\"dataframe\">\n",
       "  <thead>\n",
       "    <tr style=\"text-align: right;\">\n",
       "      <th></th>\n",
       "      <th>LocationName</th>\n",
       "      <th>ISO</th>\n",
       "      <th>country</th>\n",
       "      <th>region</th>\n",
       "      <th>world_region</th>\n",
       "      <th>MPI</th>\n",
       "      <th>geo</th>\n",
       "      <th>lat</th>\n",
       "      <th>lon</th>\n",
       "    </tr>\n",
       "  </thead>\n",
       "  <tbody>\n",
       "    <tr>\n",
       "      <th>0</th>\n",
       "      <td>Badakhshan, Afghanistan</td>\n",
       "      <td>AFG</td>\n",
       "      <td>Afghanistan</td>\n",
       "      <td>Badakhshan</td>\n",
       "      <td>South Asia</td>\n",
       "      <td>0.387</td>\n",
       "      <td>(36.7347725, 70.81199529999999)</td>\n",
       "      <td>36.734772</td>\n",
       "      <td>70.811995</td>\n",
       "    </tr>\n",
       "    <tr>\n",
       "      <th>1</th>\n",
       "      <td>Badghis, Afghanistan</td>\n",
       "      <td>AFG</td>\n",
       "      <td>Afghanistan</td>\n",
       "      <td>Badghis</td>\n",
       "      <td>South Asia</td>\n",
       "      <td>0.466</td>\n",
       "      <td>(35.1671339, 63.7695384)</td>\n",
       "      <td>35.167134</td>\n",
       "      <td>63.769538</td>\n",
       "    </tr>\n",
       "    <tr>\n",
       "      <th>2</th>\n",
       "      <td>Baghlan, Afghanistan</td>\n",
       "      <td>AFG</td>\n",
       "      <td>Afghanistan</td>\n",
       "      <td>Baghlan</td>\n",
       "      <td>South Asia</td>\n",
       "      <td>0.300</td>\n",
       "      <td>(35.8042947, 69.2877535)</td>\n",
       "      <td>35.804295</td>\n",
       "      <td>69.287754</td>\n",
       "    </tr>\n",
       "    <tr>\n",
       "      <th>3</th>\n",
       "      <td>Balkh, Afghanistan</td>\n",
       "      <td>AFG</td>\n",
       "      <td>Afghanistan</td>\n",
       "      <td>Balkh</td>\n",
       "      <td>South Asia</td>\n",
       "      <td>0.301</td>\n",
       "      <td>(36.7550603, 66.8975372)</td>\n",
       "      <td>36.755060</td>\n",
       "      <td>66.897537</td>\n",
       "    </tr>\n",
       "    <tr>\n",
       "      <th>4</th>\n",
       "      <td>Bamyan, Afghanistan</td>\n",
       "      <td>AFG</td>\n",
       "      <td>Afghanistan</td>\n",
       "      <td>Bamyan</td>\n",
       "      <td>South Asia</td>\n",
       "      <td>0.325</td>\n",
       "      <td>(34.8100067, 67.8212104)</td>\n",
       "      <td>34.810007</td>\n",
       "      <td>67.821210</td>\n",
       "    </tr>\n",
       "  </tbody>\n",
       "</table>\n",
       "</div>"
      ],
      "text/plain": [
       "              LocationName  ISO      country      region world_region    MPI  \\\n",
       "0  Badakhshan, Afghanistan  AFG  Afghanistan  Badakhshan   South Asia  0.387   \n",
       "1     Badghis, Afghanistan  AFG  Afghanistan     Badghis   South Asia  0.466   \n",
       "2     Baghlan, Afghanistan  AFG  Afghanistan     Baghlan   South Asia  0.300   \n",
       "3       Balkh, Afghanistan  AFG  Afghanistan       Balkh   South Asia  0.301   \n",
       "4      Bamyan, Afghanistan  AFG  Afghanistan      Bamyan   South Asia  0.325   \n",
       "\n",
       "                               geo        lat        lon  \n",
       "0  (36.7347725, 70.81199529999999)  36.734772  70.811995  \n",
       "1         (35.1671339, 63.7695384)  35.167134  63.769538  \n",
       "2         (35.8042947, 69.2877535)  35.804295  69.287754  \n",
       "3         (36.7550603, 66.8975372)  36.755060  66.897537  \n",
       "4         (34.8100067, 67.8212104)  34.810007  67.821210  "
      ]
     },
     "execution_count": 5,
     "metadata": {},
     "output_type": "execute_result"
    }
   ],
   "source": [
    "# kiva_loans.describe()\n",
    "kiva_mpi_region_locations.head()"
   ]
  },
  {
   "cell_type": "code",
   "execution_count": 6,
   "metadata": {
    "scrolled": true
   },
   "outputs": [],
   "source": [
    "# kiva_mpi_region_locations.ix[2700:]\n",
    "# kiva_mpi_region_locations[kiva_mpi_region_locations.isnull().any(axis=1)]\n",
    "# kiva_mpi_region_locations.dropna(axis=0, how='any')\n",
    "# kiva_mpi_region_locations.dropna(axis=0, how='all')\n",
    "# kiva_mpi_region_locations.drop(['LocationName', 'lat', 'lon'], axis=1)\n",
    "kiva_mpi_region_locations = kiva_mpi_region_locations.dropna(thresh=2);\n",
    "kiva_mpi_region_locations = kiva_mpi_region_locations.drop(['LocationName', 'lat', 'lon'], axis=1);"
   ]
  },
  {
   "cell_type": "code",
   "execution_count": 65,
   "metadata": {},
   "outputs": [
    {
     "data": {
      "text/html": [
       "<div>\n",
       "<style scoped>\n",
       "    .dataframe tbody tr th:only-of-type {\n",
       "        vertical-align: middle;\n",
       "    }\n",
       "\n",
       "    .dataframe tbody tr th {\n",
       "        vertical-align: top;\n",
       "    }\n",
       "\n",
       "    .dataframe thead th {\n",
       "        text-align: right;\n",
       "    }\n",
       "</style>\n",
       "<table border=\"1\" class=\"dataframe\">\n",
       "  <thead>\n",
       "    <tr style=\"text-align: right;\">\n",
       "      <th></th>\n",
       "      <th>id</th>\n",
       "      <th>Loan Theme ID</th>\n",
       "      <th>Loan Theme Type</th>\n",
       "      <th>Partner ID</th>\n",
       "    </tr>\n",
       "  </thead>\n",
       "  <tbody>\n",
       "    <tr>\n",
       "      <th>0</th>\n",
       "      <td>638631</td>\n",
       "      <td>a1050000000skGl</td>\n",
       "      <td>General</td>\n",
       "      <td>151.0</td>\n",
       "    </tr>\n",
       "    <tr>\n",
       "      <th>1</th>\n",
       "      <td>640322</td>\n",
       "      <td>a1050000000skGl</td>\n",
       "      <td>General</td>\n",
       "      <td>151.0</td>\n",
       "    </tr>\n",
       "    <tr>\n",
       "      <th>2</th>\n",
       "      <td>641006</td>\n",
       "      <td>a1050000002X1ij</td>\n",
       "      <td>Higher Education</td>\n",
       "      <td>160.0</td>\n",
       "    </tr>\n",
       "    <tr>\n",
       "      <th>3</th>\n",
       "      <td>641019</td>\n",
       "      <td>a1050000002X1ij</td>\n",
       "      <td>Higher Education</td>\n",
       "      <td>160.0</td>\n",
       "    </tr>\n",
       "    <tr>\n",
       "      <th>4</th>\n",
       "      <td>641594</td>\n",
       "      <td>a1050000002VbsW</td>\n",
       "      <td>Subsistence Agriculture</td>\n",
       "      <td>336.0</td>\n",
       "    </tr>\n",
       "  </tbody>\n",
       "</table>\n",
       "</div>"
      ],
      "text/plain": [
       "       id    Loan Theme ID          Loan Theme Type  Partner ID\n",
       "0  638631  a1050000000skGl                  General       151.0\n",
       "1  640322  a1050000000skGl                  General       151.0\n",
       "2  641006  a1050000002X1ij         Higher Education       160.0\n",
       "3  641019  a1050000002X1ij         Higher Education       160.0\n",
       "4  641594  a1050000002VbsW  Subsistence Agriculture       336.0"
      ]
     },
     "execution_count": 65,
     "metadata": {},
     "output_type": "execute_result"
    }
   ],
   "source": [
    "loan_theme_ids.head()"
   ]
  },
  {
   "cell_type": "code",
   "execution_count": 7,
   "metadata": {},
   "outputs": [],
   "source": [
    "loan_themes_by_region.columns\n",
    "loan_themes_by_region = loan_themes_by_region.drop(['Field Partner Name', 'sector', 'LocationName', 'lat', 'lon', 'names','mpi_region', 'geocode_old', 'geocode', 'mpi_geo'], axis=1)"
   ]
  },
  {
   "cell_type": "code",
   "execution_count": 8,
   "metadata": {},
   "outputs": [
    {
     "data": {
      "text/html": [
       "<div>\n",
       "<style scoped>\n",
       "    .dataframe tbody tr th:only-of-type {\n",
       "        vertical-align: middle;\n",
       "    }\n",
       "\n",
       "    .dataframe tbody tr th {\n",
       "        vertical-align: top;\n",
       "    }\n",
       "\n",
       "    .dataframe thead th {\n",
       "        text-align: right;\n",
       "    }\n",
       "</style>\n",
       "<table border=\"1\" class=\"dataframe\">\n",
       "  <thead>\n",
       "    <tr style=\"text-align: right;\">\n",
       "      <th></th>\n",
       "      <th>Partner ID</th>\n",
       "      <th>Loan Theme ID</th>\n",
       "      <th>Loan Theme Type</th>\n",
       "      <th>country</th>\n",
       "      <th>forkiva</th>\n",
       "      <th>region</th>\n",
       "      <th>ISO</th>\n",
       "      <th>number</th>\n",
       "      <th>amount</th>\n",
       "      <th>geo</th>\n",
       "      <th>rural_pct</th>\n",
       "    </tr>\n",
       "  </thead>\n",
       "  <tbody>\n",
       "    <tr>\n",
       "      <th>0</th>\n",
       "      <td>9</td>\n",
       "      <td>a1050000000slfi</td>\n",
       "      <td>Higher Education</td>\n",
       "      <td>Cambodia</td>\n",
       "      <td>No</td>\n",
       "      <td>Banteay Meanchey</td>\n",
       "      <td>KHM</td>\n",
       "      <td>1</td>\n",
       "      <td>450</td>\n",
       "      <td>(13.6672596, 102.8975098)</td>\n",
       "      <td>90.0</td>\n",
       "    </tr>\n",
       "    <tr>\n",
       "      <th>1</th>\n",
       "      <td>9</td>\n",
       "      <td>a10500000068jPe</td>\n",
       "      <td>Vulnerable Populations</td>\n",
       "      <td>Cambodia</td>\n",
       "      <td>No</td>\n",
       "      <td>Battambang Province</td>\n",
       "      <td>KHM</td>\n",
       "      <td>58</td>\n",
       "      <td>20275</td>\n",
       "      <td>(13.0286971, 102.989615)</td>\n",
       "      <td>90.0</td>\n",
       "    </tr>\n",
       "    <tr>\n",
       "      <th>2</th>\n",
       "      <td>9</td>\n",
       "      <td>a1050000000slfi</td>\n",
       "      <td>Higher Education</td>\n",
       "      <td>Cambodia</td>\n",
       "      <td>No</td>\n",
       "      <td>Battambang Province</td>\n",
       "      <td>KHM</td>\n",
       "      <td>7</td>\n",
       "      <td>9150</td>\n",
       "      <td>(13.0286971, 102.989615)</td>\n",
       "      <td>90.0</td>\n",
       "    </tr>\n",
       "    <tr>\n",
       "      <th>3</th>\n",
       "      <td>9</td>\n",
       "      <td>a10500000068jPe</td>\n",
       "      <td>Vulnerable Populations</td>\n",
       "      <td>Cambodia</td>\n",
       "      <td>No</td>\n",
       "      <td>Kampong Cham Province</td>\n",
       "      <td>KHM</td>\n",
       "      <td>1383</td>\n",
       "      <td>604950</td>\n",
       "      <td>(12.0982918, 105.3131185)</td>\n",
       "      <td>90.0</td>\n",
       "    </tr>\n",
       "    <tr>\n",
       "      <th>4</th>\n",
       "      <td>9</td>\n",
       "      <td>a1050000002X1Uu</td>\n",
       "      <td>Sanitation</td>\n",
       "      <td>Cambodia</td>\n",
       "      <td>No</td>\n",
       "      <td>Kampong Cham Province</td>\n",
       "      <td>KHM</td>\n",
       "      <td>3</td>\n",
       "      <td>275</td>\n",
       "      <td>(12.0982918, 105.3131185)</td>\n",
       "      <td>90.0</td>\n",
       "    </tr>\n",
       "  </tbody>\n",
       "</table>\n",
       "</div>"
      ],
      "text/plain": [
       "   Partner ID    Loan Theme ID         Loan Theme Type   country forkiva  \\\n",
       "0           9  a1050000000slfi        Higher Education  Cambodia      No   \n",
       "1           9  a10500000068jPe  Vulnerable Populations  Cambodia      No   \n",
       "2           9  a1050000000slfi        Higher Education  Cambodia      No   \n",
       "3           9  a10500000068jPe  Vulnerable Populations  Cambodia      No   \n",
       "4           9  a1050000002X1Uu              Sanitation  Cambodia      No   \n",
       "\n",
       "                  region  ISO  number  amount                        geo  \\\n",
       "0       Banteay Meanchey  KHM       1     450  (13.6672596, 102.8975098)   \n",
       "1    Battambang Province  KHM      58   20275   (13.0286971, 102.989615)   \n",
       "2    Battambang Province  KHM       7    9150   (13.0286971, 102.989615)   \n",
       "3  Kampong Cham Province  KHM    1383  604950  (12.0982918, 105.3131185)   \n",
       "4  Kampong Cham Province  KHM       3     275  (12.0982918, 105.3131185)   \n",
       "\n",
       "   rural_pct  \n",
       "0       90.0  \n",
       "1       90.0  \n",
       "2       90.0  \n",
       "3       90.0  \n",
       "4       90.0  "
      ]
     },
     "execution_count": 8,
     "metadata": {},
     "output_type": "execute_result"
    }
   ],
   "source": [
    "loan_themes_by_region.head()"
   ]
  },
  {
   "cell_type": "code",
   "execution_count": null,
   "metadata": {},
   "outputs": [],
   "source": []
  },
  {
   "cell_type": "code",
   "execution_count": 9,
   "metadata": {},
   "outputs": [],
   "source": [
    "compiled_file = kiva_loans"
   ]
  },
  {
   "cell_type": "code",
   "execution_count": 11,
   "metadata": {},
   "outputs": [
    {
     "data": {
      "text/plain": [
       "Index(['id', 'funded_amount', 'activity', 'sector', 'country_code', 'country',\n",
       "       'region', 'partner_id', 'term_in_months', 'lender_count',\n",
       "       'borrower_genders', 'repayment_interval', 'time_to_fund'],\n",
       "      dtype='object')"
      ]
     },
     "execution_count": 11,
     "metadata": {},
     "output_type": "execute_result"
    }
   ],
   "source": [
    "compiled_file.head()\n",
    "compiled_file.columns"
   ]
  },
  {
   "cell_type": "code",
   "execution_count": 12,
   "metadata": {},
   "outputs": [
    {
     "data": {
      "text/plain": [
       "Index(['ISO', 'country', 'region', 'world_region', 'MPI', 'geo'], dtype='object')"
      ]
     },
     "execution_count": 12,
     "metadata": {},
     "output_type": "execute_result"
    }
   ],
   "source": [
    "kiva_mpi_region_locations.columns"
   ]
  },
  {
   "cell_type": "code",
   "execution_count": 21,
   "metadata": {},
   "outputs": [
    {
     "ename": "SyntaxError",
     "evalue": "invalid syntax (<ipython-input-21-bcf984621eee>, line 1)",
     "output_type": "error",
     "traceback": [
      "\u001b[1;36m  File \u001b[1;32m\"<ipython-input-21-bcf984621eee>\"\u001b[1;36m, line \u001b[1;32m1\u001b[0m\n\u001b[1;33m    Get_mpi = [mpis for mpis in kiva_mpi_region_locations.MPI if k==v for k,v in compiled_file.region, kiva_mpi_region_locations.region]\u001b[0m\n\u001b[1;37m                                                                                                     ^\u001b[0m\n\u001b[1;31mSyntaxError\u001b[0m\u001b[1;31m:\u001b[0m invalid syntax\n"
     ]
    }
   ],
   "source": [
    "Get_mpi = [mpis for k in compiled\n"
   ]
  },
  {
   "cell_type": "code",
   "execution_count": 22,
   "metadata": {},
   "outputs": [
    {
     "ename": "KeyboardInterrupt",
     "evalue": "",
     "output_type": "error",
     "traceback": [
      "\u001b[1;31m---------------------------------------------------------------------------\u001b[0m",
      "\u001b[1;31mKeyboardInterrupt\u001b[0m                         Traceback (most recent call last)",
      "\u001b[1;32m<ipython-input-22-c72dbbb6c3af>\u001b[0m in \u001b[0;36m<module>\u001b[1;34m()\u001b[0m\n\u001b[0;32m      2\u001b[0m \u001b[1;32mfor\u001b[0m \u001b[0mk\u001b[0m \u001b[1;32min\u001b[0m \u001b[0mcompiled_file\u001b[0m\u001b[1;33m.\u001b[0m\u001b[0mregion\u001b[0m\u001b[1;33m:\u001b[0m\u001b[1;33m\u001b[0m\u001b[0m\n\u001b[0;32m      3\u001b[0m     \u001b[1;32mfor\u001b[0m \u001b[0mv\u001b[0m \u001b[1;32min\u001b[0m \u001b[0mrange\u001b[0m\u001b[1;33m(\u001b[0m\u001b[0mlen\u001b[0m\u001b[1;33m(\u001b[0m\u001b[0mkiva_mpi_region_locations\u001b[0m\u001b[1;33m.\u001b[0m\u001b[0mregion\u001b[0m\u001b[1;33m)\u001b[0m\u001b[1;33m)\u001b[0m\u001b[1;33m:\u001b[0m\u001b[1;33m\u001b[0m\u001b[0m\n\u001b[1;32m----> 4\u001b[1;33m         \u001b[1;32mif\u001b[0m \u001b[0mk\u001b[0m \u001b[1;33m==\u001b[0m \u001b[0mkiva_mpi_region_locations\u001b[0m\u001b[1;33m.\u001b[0m\u001b[0mregion\u001b[0m\u001b[1;33m[\u001b[0m\u001b[0mv\u001b[0m\u001b[1;33m]\u001b[0m\u001b[1;33m:\u001b[0m\u001b[1;33m\u001b[0m\u001b[0m\n\u001b[0m\u001b[0;32m      5\u001b[0m             \u001b[0mGet_mpi\u001b[0m\u001b[1;33m.\u001b[0m\u001b[0mappend\u001b[0m\u001b[1;33m(\u001b[0m\u001b[0mkiva_mpi_region_locations\u001b[0m\u001b[1;33m.\u001b[0m\u001b[0mMPI\u001b[0m\u001b[1;33m[\u001b[0m\u001b[0mv\u001b[0m\u001b[1;33m]\u001b[0m\u001b[1;33m)\u001b[0m\u001b[1;33m\u001b[0m\u001b[0m\n\u001b[0;32m      6\u001b[0m \u001b[1;33m\u001b[0m\u001b[0m\n",
      "\u001b[1;32mc:\\users\\martin mbaya\\appdata\\local\\programs\\python\\python35\\lib\\site-packages\\pandas\\core\\generic.py\u001b[0m in \u001b[0;36m__getattr__\u001b[1;34m(self, name)\u001b[0m\n\u001b[0;32m   3611\u001b[0m         \u001b[1;32melse\u001b[0m\u001b[1;33m:\u001b[0m\u001b[1;33m\u001b[0m\u001b[0m\n\u001b[0;32m   3612\u001b[0m             \u001b[1;32mif\u001b[0m \u001b[0mname\u001b[0m \u001b[1;32min\u001b[0m \u001b[0mself\u001b[0m\u001b[1;33m.\u001b[0m\u001b[0m_info_axis\u001b[0m\u001b[1;33m:\u001b[0m\u001b[1;33m\u001b[0m\u001b[0m\n\u001b[1;32m-> 3613\u001b[1;33m                 \u001b[1;32mreturn\u001b[0m \u001b[0mself\u001b[0m\u001b[1;33m[\u001b[0m\u001b[0mname\u001b[0m\u001b[1;33m]\u001b[0m\u001b[1;33m\u001b[0m\u001b[0m\n\u001b[0m\u001b[0;32m   3614\u001b[0m             \u001b[1;32mreturn\u001b[0m \u001b[0mobject\u001b[0m\u001b[1;33m.\u001b[0m\u001b[0m__getattribute__\u001b[0m\u001b[1;33m(\u001b[0m\u001b[0mself\u001b[0m\u001b[1;33m,\u001b[0m \u001b[0mname\u001b[0m\u001b[1;33m)\u001b[0m\u001b[1;33m\u001b[0m\u001b[0m\n\u001b[0;32m   3615\u001b[0m \u001b[1;33m\u001b[0m\u001b[0m\n",
      "\u001b[1;31mKeyboardInterrupt\u001b[0m: "
     ]
    }
   ],
   "source": [
    "Get_mpi = []\n",
    "for k in compiled_file.region:\n",
    "    for v in range(len(kiva_mpi_region_locations.region)):\n",
    "        if k == kiva_mpi_region_locations.region[v]:\n",
    "            Get_mpi.append(kiva_mpi_region_locations.MPI[v])\n",
    "            "
   ]
  }
 ],
 "metadata": {
  "kernelspec": {
   "display_name": "Python 3",
   "language": "python",
   "name": "python3"
  },
  "language_info": {
   "codemirror_mode": {
    "name": "ipython",
    "version": 3
   },
   "file_extension": ".py",
   "mimetype": "text/x-python",
   "name": "python",
   "nbconvert_exporter": "python",
   "pygments_lexer": "ipython3",
   "version": "3.5.0"
  }
 },
 "nbformat": 4,
 "nbformat_minor": 2
}
