{
  "nbformat": 4,
  "nbformat_minor": 0,
  "metadata": {
    "colab": {
      "name": "Kiva Kenya.ipynb",
      "version": "0.3.2",
      "views": {},
      "default_view": {},
      "provenance": [],
      "collapsed_sections": []
    },
    "kernelspec": {
      "name": "python3",
      "display_name": "Python 3"
    },
    "accelerator": "GPU"
  },
  "cells": [
    {
      "metadata": {
        "id": "U83xcutzULBV",
        "colab_type": "text"
      },
      "cell_type": "markdown",
      "source": [
        "# Import Necessary Modules"
      ]
    },
    {
      "metadata": {
        "id": "o8m0q6elXlp_",
        "colab_type": "code",
        "colab": {
          "autoexec": {
            "startup": false,
            "wait_interval": 0
          },
          "base_uri": "https://localhost:8080/",
          "height": 34
        },
        "outputId": "4a3d440f-d4ee-4959-a917-9becd356f5fb",
        "executionInfo": {
          "status": "ok",
          "timestamp": 1526279161880,
          "user_tz": -180,
          "elapsed": 3240,
          "user": {
            "displayName": "martin muchui",
            "photoUrl": "https://lh3.googleusercontent.com/a/default-user=s128",
            "userId": "118445864454602802747"
          }
        }
      },
      "cell_type": "code",
      "source": [
        "!pip install -U -q PyDrive \n",
        "from pydrive.auth import GoogleAuth\n",
        "from pydrive.drive import GoogleDrive\n",
        "from google.colab import auth\n",
        "from oauth2client.client import GoogleCredentials\n",
        "\n",
        "import pandas as pd\n",
        "import matplotlib.pyplot as plt\n",
        "import seaborn as sns\n",
        "import numpy as np\n",
        "%matplotlib inline\n",
        "\n",
        "from sklearn.preprocessing import OneHotEncoder, LabelEncoder\n",
        "from sklearn import linear_model, metrics\n",
        "from sklearn import preprocessing\n",
        "from sklearn.metrics import accuracy_score\n",
        "from sklearn.model_selection import train_test_split\n",
        "\n",
        "import tensorflow as tf\n",
        "tf.test.gpu_device_name()"
      ],
      "execution_count": 163,
      "outputs": [
        {
          "output_type": "execute_result",
          "data": {
            "text/plain": [
              "'/device:GPU:0'"
            ]
          },
          "metadata": {
            "tags": []
          },
          "execution_count": 163
        }
      ]
    },
    {
      "metadata": {
        "id": "tgLkPL1jVCA7",
        "colab_type": "text"
      },
      "cell_type": "markdown",
      "source": [
        "# Load Data from Google Drive"
      ]
    },
    {
      "metadata": {
        "id": "9CZEuBPfX2TN",
        "colab_type": "code",
        "colab": {
          "autoexec": {
            "startup": false,
            "wait_interval": 0
          },
          "base_uri": "https://localhost:8080/",
          "height": 202
        },
        "outputId": "da1e5098-e963-4b69-82e7-3de50135c58d",
        "executionInfo": {
          "status": "ok",
          "timestamp": 1526282206731,
          "user_tz": -180,
          "elapsed": 8350,
          "user": {
            "displayName": "martin muchui",
            "photoUrl": "https://lh3.googleusercontent.com/a/default-user=s128",
            "userId": "118445864454602802747"
          }
        }
      },
      "cell_type": "code",
      "source": [
        "# 1. Authenticate and create the PyDrive client.\n",
        "auth.authenticate_user()\n",
        "gauth = GoogleAuth()\n",
        "gauth.credentials = GoogleCredentials.get_application_default()\n",
        "drive = GoogleDrive(gauth)\n",
        "\n",
        "file_list = drive.ListFile({'q': \"'1sLFU_eR_2d31kBVl60Wm9ztZ7dqKAAau' in parents and trashed=false\"}).GetList()\n",
        "for file1 in file_list:\n",
        "  try:\n",
        "    f_holder = drive.CreateFile({'id': file1['id']})\n",
        "    f_holder.GetContentFile(file1['title'])\n",
        "    print('title: %s, id: %s' % (file1['title'], file1['id']))\n",
        "  except Exception as e:\n",
        "    print(e)\n",
        "  kenya_loans = pd.read_csv(\"kenya_loans.csv\")\n",
        "    "
      ],
      "execution_count": 225,
      "outputs": [
        {
          "output_type": "stream",
          "text": [
            "title: kenya_loans.csv, id: 1uWvHyvzxCp44Na38xwx3FLgDziAIM7kT\n",
            "title: wb_subnational_poverty_data.csv, id: 1PHLWhaI0-EQ61GnwZ-77eI47TBZPp5Sy\n",
            "title: Untitled.ipynb, id: 1ra_xxCVVoNK0jb_i0AHH5PLPvEo8pgBf\n",
            "title: subnational_poverty_footnote.csv, id: 1FAH2ysuv8fXVSDaOAOPuNFZxivcUJ6xD\n",
            "title: subnational_poverty_country.csv, id: 1sAAnalPC_hHqJMz-5TRvt7fIJ2FCcSkF\n",
            "title: MPI_subnational.csv, id: 1P3Qc2g0f1FkDWtpsbU82vTeFeuhxJqgN\n",
            "title: MPI_national.csv, id: 12Nk_U_5fRlfDNuQPqXctJfUHzPFguv-Z\n",
            "No downloadLink/exportLinks for mimetype found in metadata\n",
            "No downloadLink/exportLinks for mimetype found in metadata\n",
            "No downloadLink/exportLinks for mimetype found in metadata\n",
            "No downloadLink/exportLinks for mimetype found in metadata\n"
          ],
          "name": "stdout"
        }
      ]
    },
    {
      "metadata": {
        "id": "6-uUF5AGWPKS",
        "colab_type": "text"
      },
      "cell_type": "markdown",
      "source": [
        "# Data Preprocessing"
      ]
    },
    {
      "metadata": {
        "id": "w9caIUIOBlA4",
        "colab_type": "code",
        "colab": {
          "autoexec": {
            "startup": false,
            "wait_interval": 0
          },
          "base_uri": "https://localhost:8080/",
          "height": 284
        },
        "outputId": "4b4532d1-983a-4e54-d5a1-6d3e6b36faf0",
        "executionInfo": {
          "status": "ok",
          "timestamp": 1526280648597,
          "user_tz": -180,
          "elapsed": 934,
          "user": {
            "displayName": "martin muchui",
            "photoUrl": "https://lh3.googleusercontent.com/a/default-user=s128",
            "userId": "118445864454602802747"
          }
        }
      },
      "cell_type": "code",
      "source": [
        "# statistical summary of data\n",
        "kenya_loans.describe()"
      ],
      "execution_count": 190,
      "outputs": [
        {
          "output_type": "execute_result",
          "data": {
            "text/html": [
              "<div>\n",
              "<style scoped>\n",
              "    .dataframe tbody tr th:only-of-type {\n",
              "        vertical-align: middle;\n",
              "    }\n",
              "\n",
              "    .dataframe tbody tr th {\n",
              "        vertical-align: top;\n",
              "    }\n",
              "\n",
              "    .dataframe thead th {\n",
              "        text-align: right;\n",
              "    }\n",
              "</style>\n",
              "<table border=\"1\" class=\"dataframe\">\n",
              "  <thead>\n",
              "    <tr style=\"text-align: right;\">\n",
              "      <th></th>\n",
              "      <th>id</th>\n",
              "      <th>funded_amount</th>\n",
              "      <th>partner_id</th>\n",
              "      <th>term_in_months</th>\n",
              "      <th>lender_count</th>\n",
              "      <th>MPI</th>\n",
              "      <th>Poverty Gap</th>\n",
              "      <th>rural_pct</th>\n",
              "      <th>Severity of Poverty</th>\n",
              "    </tr>\n",
              "  </thead>\n",
              "  <tbody>\n",
              "    <tr>\n",
              "      <th>count</th>\n",
              "      <td>6.183900e+04</td>\n",
              "      <td>61839.000000</td>\n",
              "      <td>61839.000000</td>\n",
              "      <td>61839.000000</td>\n",
              "      <td>61839.000000</td>\n",
              "      <td>61839.000000</td>\n",
              "      <td>61839.000000</td>\n",
              "      <td>60620.000000</td>\n",
              "      <td>61839.000000</td>\n",
              "    </tr>\n",
              "    <tr>\n",
              "      <th>mean</th>\n",
              "      <td>9.959779e+05</td>\n",
              "      <td>461.291418</td>\n",
              "      <td>181.976859</td>\n",
              "      <td>13.601465</td>\n",
              "      <td>14.017820</td>\n",
              "      <td>0.197718</td>\n",
              "      <td>9.241762</td>\n",
              "      <td>70.614748</td>\n",
              "      <td>3.621525</td>\n",
              "    </tr>\n",
              "    <tr>\n",
              "      <th>std</th>\n",
              "      <td>1.922022e+05</td>\n",
              "      <td>759.314374</td>\n",
              "      <td>75.812857</td>\n",
              "      <td>7.833545</td>\n",
              "      <td>22.328336</td>\n",
              "      <td>0.053038</td>\n",
              "      <td>4.200141</td>\n",
              "      <td>38.834722</td>\n",
              "      <td>2.090779</td>\n",
              "    </tr>\n",
              "    <tr>\n",
              "      <th>min</th>\n",
              "      <td>6.531570e+05</td>\n",
              "      <td>25.000000</td>\n",
              "      <td>133.000000</td>\n",
              "      <td>2.000000</td>\n",
              "      <td>1.000000</td>\n",
              "      <td>0.020000</td>\n",
              "      <td>2.400000</td>\n",
              "      <td>0.000000</td>\n",
              "      <td>0.500000</td>\n",
              "    </tr>\n",
              "    <tr>\n",
              "      <th>25%</th>\n",
              "      <td>8.399360e+05</td>\n",
              "      <td>225.000000</td>\n",
              "      <td>138.000000</td>\n",
              "      <td>11.000000</td>\n",
              "      <td>7.000000</td>\n",
              "      <td>0.205000</td>\n",
              "      <td>7.500000</td>\n",
              "      <td>65.000000</td>\n",
              "      <td>2.700000</td>\n",
              "    </tr>\n",
              "    <tr>\n",
              "      <th>50%</th>\n",
              "      <td>9.952440e+05</td>\n",
              "      <td>350.000000</td>\n",
              "      <td>156.000000</td>\n",
              "      <td>14.000000</td>\n",
              "      <td>10.000000</td>\n",
              "      <td>0.205000</td>\n",
              "      <td>9.100000</td>\n",
              "      <td>99.000000</td>\n",
              "      <td>3.400000</td>\n",
              "    </tr>\n",
              "    <tr>\n",
              "      <th>75%</th>\n",
              "      <td>1.174202e+06</td>\n",
              "      <td>550.000000</td>\n",
              "      <td>164.000000</td>\n",
              "      <td>14.000000</td>\n",
              "      <td>17.000000</td>\n",
              "      <td>0.223000</td>\n",
              "      <td>10.800000</td>\n",
              "      <td>99.000000</td>\n",
              "      <td>4.000000</td>\n",
              "    </tr>\n",
              "    <tr>\n",
              "      <th>max</th>\n",
              "      <td>1.335884e+06</td>\n",
              "      <td>50000.000000</td>\n",
              "      <td>529.000000</td>\n",
              "      <td>122.000000</td>\n",
              "      <td>1589.000000</td>\n",
              "      <td>0.509000</td>\n",
              "      <td>46.000000</td>\n",
              "      <td>99.000000</td>\n",
              "      <td>30.800000</td>\n",
              "    </tr>\n",
              "  </tbody>\n",
              "</table>\n",
              "</div>"
            ],
            "text/plain": [
              "                 id  funded_amount    partner_id  term_in_months  \\\n",
              "count  6.183900e+04   61839.000000  61839.000000    61839.000000   \n",
              "mean   9.959779e+05     461.291418    181.976859       13.601465   \n",
              "std    1.922022e+05     759.314374     75.812857        7.833545   \n",
              "min    6.531570e+05      25.000000    133.000000        2.000000   \n",
              "25%    8.399360e+05     225.000000    138.000000       11.000000   \n",
              "50%    9.952440e+05     350.000000    156.000000       14.000000   \n",
              "75%    1.174202e+06     550.000000    164.000000       14.000000   \n",
              "max    1.335884e+06   50000.000000    529.000000      122.000000   \n",
              "\n",
              "       lender_count           MPI   Poverty Gap     rural_pct  \\\n",
              "count  61839.000000  61839.000000  61839.000000  60620.000000   \n",
              "mean      14.017820      0.197718      9.241762     70.614748   \n",
              "std       22.328336      0.053038      4.200141     38.834722   \n",
              "min        1.000000      0.020000      2.400000      0.000000   \n",
              "25%        7.000000      0.205000      7.500000     65.000000   \n",
              "50%       10.000000      0.205000      9.100000     99.000000   \n",
              "75%       17.000000      0.223000     10.800000     99.000000   \n",
              "max     1589.000000      0.509000     46.000000     99.000000   \n",
              "\n",
              "       Severity of Poverty  \n",
              "count         61839.000000  \n",
              "mean              3.621525  \n",
              "std               2.090779  \n",
              "min               0.500000  \n",
              "25%               2.700000  \n",
              "50%               3.400000  \n",
              "75%               4.000000  \n",
              "max              30.800000  "
            ]
          },
          "metadata": {
            "tags": []
          },
          "execution_count": 190
        }
      ]
    },
    {
      "metadata": {
        "id": "jkO7-SSjWgrz",
        "colab_type": "text"
      },
      "cell_type": "markdown",
      "source": [
        "**Remove rows with NA (blank) cells**"
      ]
    },
    {
      "metadata": {
        "id": "KZsJrsEt_KID",
        "colab_type": "code",
        "colab": {
          "autoexec": {
            "startup": false,
            "wait_interval": 0
          }
        }
      },
      "cell_type": "code",
      "source": [
        "kenya_loans = kenya_loans.dropna()"
      ],
      "execution_count": 0,
      "outputs": []
    },
    {
      "metadata": {
        "id": "sRk5NKb4CbTN",
        "colab_type": "code",
        "colab": {
          "autoexec": {
            "startup": false,
            "wait_interval": 0
          },
          "base_uri": "https://localhost:8080/",
          "height": 299
        },
        "outputId": "c7f1f885-9f74-471b-ea3a-14c17b678414",
        "executionInfo": {
          "status": "ok",
          "timestamp": 1526280660688,
          "user_tz": -180,
          "elapsed": 1609,
          "user": {
            "displayName": "martin muchui",
            "photoUrl": "https://lh3.googleusercontent.com/a/default-user=s128",
            "userId": "118445864454602802747"
          }
        }
      },
      "cell_type": "code",
      "source": [
        "kenya_loans.head()"
      ],
      "execution_count": 193,
      "outputs": [
        {
          "output_type": "execute_result",
          "data": {
            "text/html": [
              "<div>\n",
              "<style scoped>\n",
              "    .dataframe tbody tr th:only-of-type {\n",
              "        vertical-align: middle;\n",
              "    }\n",
              "\n",
              "    .dataframe tbody tr th {\n",
              "        vertical-align: top;\n",
              "    }\n",
              "\n",
              "    .dataframe thead th {\n",
              "        text-align: right;\n",
              "    }\n",
              "</style>\n",
              "<table border=\"1\" class=\"dataframe\">\n",
              "  <thead>\n",
              "    <tr style=\"text-align: right;\">\n",
              "      <th></th>\n",
              "      <th>id</th>\n",
              "      <th>funded_amount</th>\n",
              "      <th>activity</th>\n",
              "      <th>sector</th>\n",
              "      <th>partner_id</th>\n",
              "      <th>term_in_months</th>\n",
              "      <th>lender_count</th>\n",
              "      <th>borrower_genders</th>\n",
              "      <th>repayment_interval</th>\n",
              "      <th>time_to_fund</th>\n",
              "      <th>MPI</th>\n",
              "      <th>Poverty Gap</th>\n",
              "      <th>Loan Theme ID</th>\n",
              "      <th>Loan Theme Type</th>\n",
              "      <th>For_Kiva</th>\n",
              "      <th>rural_pct</th>\n",
              "      <th>Severity of Poverty</th>\n",
              "    </tr>\n",
              "  </thead>\n",
              "  <tbody>\n",
              "    <tr>\n",
              "      <th>0</th>\n",
              "      <td>653185</td>\n",
              "      <td>250</td>\n",
              "      <td>Fruits &amp; Vegetables</td>\n",
              "      <td>Food</td>\n",
              "      <td>164</td>\n",
              "      <td>13</td>\n",
              "      <td>7</td>\n",
              "      <td>female</td>\n",
              "      <td>irregular</td>\n",
              "      <td>21</td>\n",
              "      <td>0.242</td>\n",
              "      <td>7.7</td>\n",
              "      <td>a1050000000wf14</td>\n",
              "      <td>General</td>\n",
              "      <td>No</td>\n",
              "      <td>99.0</td>\n",
              "      <td>2.7</td>\n",
              "    </tr>\n",
              "    <tr>\n",
              "      <th>1</th>\n",
              "      <td>653237</td>\n",
              "      <td>250</td>\n",
              "      <td>Cosmetics Sales</td>\n",
              "      <td>Retail</td>\n",
              "      <td>164</td>\n",
              "      <td>14</td>\n",
              "      <td>3</td>\n",
              "      <td>female</td>\n",
              "      <td>irregular</td>\n",
              "      <td>26</td>\n",
              "      <td>0.242</td>\n",
              "      <td>7.5</td>\n",
              "      <td>a1050000000wf14</td>\n",
              "      <td>General</td>\n",
              "      <td>No</td>\n",
              "      <td>99.0</td>\n",
              "      <td>3.3</td>\n",
              "    </tr>\n",
              "    <tr>\n",
              "      <th>2</th>\n",
              "      <td>653229</td>\n",
              "      <td>250</td>\n",
              "      <td>Tailoring</td>\n",
              "      <td>Services</td>\n",
              "      <td>164</td>\n",
              "      <td>14</td>\n",
              "      <td>1</td>\n",
              "      <td>female</td>\n",
              "      <td>irregular</td>\n",
              "      <td>24</td>\n",
              "      <td>0.242</td>\n",
              "      <td>7.5</td>\n",
              "      <td>a1050000000wf14</td>\n",
              "      <td>General</td>\n",
              "      <td>No</td>\n",
              "      <td>99.0</td>\n",
              "      <td>3.3</td>\n",
              "    </tr>\n",
              "    <tr>\n",
              "      <th>3</th>\n",
              "      <td>653247</td>\n",
              "      <td>250</td>\n",
              "      <td>Food Stall</td>\n",
              "      <td>Food</td>\n",
              "      <td>164</td>\n",
              "      <td>13</td>\n",
              "      <td>9</td>\n",
              "      <td>female</td>\n",
              "      <td>irregular</td>\n",
              "      <td>31</td>\n",
              "      <td>0.242</td>\n",
              "      <td>7.7</td>\n",
              "      <td>a1050000000wf14</td>\n",
              "      <td>General</td>\n",
              "      <td>No</td>\n",
              "      <td>99.0</td>\n",
              "      <td>2.7</td>\n",
              "    </tr>\n",
              "    <tr>\n",
              "      <th>4</th>\n",
              "      <td>653345</td>\n",
              "      <td>600</td>\n",
              "      <td>Fruits &amp; Vegetables</td>\n",
              "      <td>Food</td>\n",
              "      <td>164</td>\n",
              "      <td>14</td>\n",
              "      <td>22</td>\n",
              "      <td>female</td>\n",
              "      <td>irregular</td>\n",
              "      <td>25</td>\n",
              "      <td>0.242</td>\n",
              "      <td>7.5</td>\n",
              "      <td>a1050000000wf14</td>\n",
              "      <td>General</td>\n",
              "      <td>No</td>\n",
              "      <td>99.0</td>\n",
              "      <td>3.3</td>\n",
              "    </tr>\n",
              "  </tbody>\n",
              "</table>\n",
              "</div>"
            ],
            "text/plain": [
              "       id  funded_amount             activity    sector  partner_id  \\\n",
              "0  653185            250  Fruits & Vegetables      Food         164   \n",
              "1  653237            250      Cosmetics Sales    Retail         164   \n",
              "2  653229            250            Tailoring  Services         164   \n",
              "3  653247            250           Food Stall      Food         164   \n",
              "4  653345            600  Fruits & Vegetables      Food         164   \n",
              "\n",
              "   term_in_months  lender_count borrower_genders repayment_interval  \\\n",
              "0              13             7           female          irregular   \n",
              "1              14             3           female          irregular   \n",
              "2              14             1           female          irregular   \n",
              "3              13             9           female          irregular   \n",
              "4              14            22           female          irregular   \n",
              "\n",
              "   time_to_fund    MPI  Poverty Gap    Loan Theme ID Loan Theme Type For_Kiva  \\\n",
              "0            21  0.242          7.7  a1050000000wf14         General       No   \n",
              "1            26  0.242          7.5  a1050000000wf14         General       No   \n",
              "2            24  0.242          7.5  a1050000000wf14         General       No   \n",
              "3            31  0.242          7.7  a1050000000wf14         General       No   \n",
              "4            25  0.242          7.5  a1050000000wf14         General       No   \n",
              "\n",
              "   rural_pct  Severity of Poverty  \n",
              "0       99.0                  2.7  \n",
              "1       99.0                  3.3  \n",
              "2       99.0                  3.3  \n",
              "3       99.0                  2.7  \n",
              "4       99.0                  3.3  "
            ]
          },
          "metadata": {
            "tags": []
          },
          "execution_count": 193
        }
      ]
    },
    {
      "metadata": {
        "id": "MULal7HvaMdZ",
        "colab_type": "text"
      },
      "cell_type": "markdown",
      "source": [
        "# **Visualize relationships in data**"
      ]
    },
    {
      "metadata": {
        "id": "5NG8cFSZCkY6",
        "colab_type": "code",
        "colab": {
          "autoexec": {
            "startup": false,
            "wait_interval": 0
          }
        }
      },
      "cell_type": "code",
      "source": [
        "data = kenya_loans\n",
        "labels = data['Severity of Poverty']"
      ],
      "execution_count": 0,
      "outputs": []
    },
    {
      "metadata": {
        "id": "V_d0KU4TeXiK",
        "colab_type": "code",
        "colab": {
          "autoexec": {
            "startup": false,
            "wait_interval": 0
          },
          "base_uri": "https://localhost:8080/",
          "height": 758
        },
        "outputId": "6e55fca1-bfd5-4d0f-a09e-f7610271a557",
        "executionInfo": {
          "status": "ok",
          "timestamp": 1526282228770,
          "user_tz": -180,
          "elapsed": 1626,
          "user": {
            "displayName": "martin muchui",
            "photoUrl": "https://lh3.googleusercontent.com/a/default-user=s128",
            "userId": "118445864454602802747"
          }
        }
      },
      "cell_type": "code",
      "source": [
        "#Correlation Matrix\n",
        "corr = data.corr()\n",
        "plt.figure(figsize=(20,12))\n",
        "sns.heatmap(corr, \n",
        "            xticklabels=corr.columns.values,\n",
        "            yticklabels=corr.columns.values, annot=True, cmap='cubehelix', square=True)\n",
        "plt.title('Correlation between different features')"
      ],
      "execution_count": 228,
      "outputs": [
        {
          "output_type": "execute_result",
          "data": {
            "text/plain": [
              "Text(0.5,1,'Correlation between different features')"
            ]
          },
          "metadata": {
            "tags": []
          },
          "execution_count": 228
        },
        {
          "output_type": "display_data",
          "data": {
            "image/png": "[encoded data removed]",
            "text/plain": [
              "<matplotlib.figure.Figure at 0x7ff7d2180780>"
            ]
          },
          "metadata": {
            "tags": []
          }
        }
      ]
    },
    {
      "metadata": {
        "id": "XpN01Cpsfem1",
        "colab_type": "code",
        "colab": {
          "autoexec": {
            "startup": false,
            "wait_interval": 0
          },
          "base_uri": "https://localhost:8080/",
          "height": 572
        },
        "outputId": "5f2a5852-2213-4725-89d9-56370f6caa0e",
        "executionInfo": {
          "status": "ok",
          "timestamp": 1526282309774,
          "user_tz": -180,
          "elapsed": 2482,
          "user": {
            "displayName": "martin muchui",
            "photoUrl": "https://lh3.googleusercontent.com/a/default-user=s128",
            "userId": "118445864454602802747"
          }
        }
      },
      "cell_type": "code",
      "source": [
        "plt.figure(figsize=(15,8))\n",
        "count = data['region'].value_counts().head(10)\n",
        "sns.barplot(count.values, count.index)\n",
        "for i, v in enumerate(count.values):\n",
        "    plt.text(0.8,i,v,color='k',fontsize=19)\n",
        "plt.xlabel('Count', fontsize=14)\n",
        "plt.ylabel('Most funded regions in Kenya', fontsize=14)\n",
        "plt.title(\"Top 10 funded regions in Kenya\", fontsize=20)"
      ],
      "execution_count": 230,
      "outputs": [
        {
          "output_type": "stream",
          "text": [
            "/usr/local/lib/python3.6/dist-packages/seaborn/categorical.py:1428: FutureWarning: remove_na is deprecated and is a private function. Do not use.\n",
            "  stat_data = remove_na(group_data)\n"
          ],
          "name": "stderr"
        },
        {
          "output_type": "execute_result",
          "data": {
            "text/plain": [
              "Text(0.5,1,'Top 10 funded regions in Kenya')"
            ]
          },
          "metadata": {
            "tags": []
          },
          "execution_count": 230
        },
        {
          "output_type": "display_data",
          "data": {
            "image/png": "[encoded data removed]",
            "text/plain": [
              "<matplotlib.figure.Figure at 0x7ff7d26d6908>"
            ]
          },
          "metadata": {
            "tags": []
          }
        }
      ]
    },
    {
      "metadata": {
        "id": "kbwWKq2ChHWR",
        "colab_type": "code",
        "colab": {
          "autoexec": {
            "startup": false,
            "wait_interval": 0
          },
          "base_uri": "https://localhost:8080/",
          "height": 572
        },
        "outputId": "fe0f9c46-4397-4887-b024-3ecb2957c2de",
        "executionInfo": {
          "status": "ok",
          "timestamp": 1526282382900,
          "user_tz": -180,
          "elapsed": 1136,
          "user": {
            "displayName": "martin muchui",
            "photoUrl": "https://lh3.googleusercontent.com/a/default-user=s128",
            "userId": "118445864454602802747"
          }
        }
      },
      "cell_type": "code",
      "source": [
        "plt.figure(figsize=(15,8))\n",
        "count = data['sector'].value_counts().head(10)\n",
        "sns.barplot(count.values, count.index)\n",
        "for i, v in enumerate(count.values):\n",
        "    plt.text(0.8,i,v,color='k',fontsize=19)\n",
        "plt.xlabel('Count', fontsize=14)\n",
        "plt.ylabel('Most funded sectors in Kenya', fontsize=14)\n",
        "plt.title(\"Top 10 funded sectorss in Kenya\", fontsize=20)"
      ],
      "execution_count": 232,
      "outputs": [
        {
          "output_type": "stream",
          "text": [
            "/usr/local/lib/python3.6/dist-packages/seaborn/categorical.py:1428: FutureWarning: remove_na is deprecated and is a private function. Do not use.\n",
            "  stat_data = remove_na(group_data)\n"
          ],
          "name": "stderr"
        },
        {
          "output_type": "execute_result",
          "data": {
            "text/plain": [
              "Text(0.5,1,'Top 10 funded sectorss in Kenya')"
            ]
          },
          "metadata": {
            "tags": []
          },
          "execution_count": 232
        },
        {
          "output_type": "display_data",
          "data": {
            "image/png": "[encoded data removed]",
            "text/plain": [
              "<matplotlib.figure.Figure at 0x7ff7d302e0b8>"
            ]
          },
          "metadata": {
            "tags": []
          }
        }
      ]
    },
    {
      "metadata": {
        "id": "dhVWx2QZXD9r",
        "colab_type": "text"
      },
      "cell_type": "markdown",
      "source": [
        "*Drop columns with data that we'll not require to build a model*"
      ]
    },
    {
      "metadata": {
        "id": "w0GMSPpl_3bY",
        "colab_type": "code",
        "colab": {
          "autoexec": {
            "startup": false,
            "wait_interval": 0
          }
        }
      },
      "cell_type": "code",
      "source": [
        "kenya_loans['time_to_fund'] = [int(i[:2]) for i in kenya_loans.time_to_fund]\n",
        "kenya_loans = kenya_loans.drop(['country_code', 'country', 'region'], axis=1)"
      ],
      "execution_count": 0,
      "outputs": []
    },
    {
      "metadata": {
        "id": "vNYGMv49XgGl",
        "colab_type": "text"
      },
      "cell_type": "markdown",
      "source": [
        "*Notice how many unique values are contained in 'borrower_genders' column.\n",
        "These would lead to many unnecessary columns being created after label encoding has been done*"
      ]
    },
    {
      "metadata": {
        "id": "VODrzrV-PbWe",
        "colab_type": "code",
        "colab": {
          "autoexec": {
            "startup": false,
            "wait_interval": 0
          },
          "base_uri": "https://localhost:8080/",
          "height": 34
        },
        "outputId": "a8ec81e6-5e08-4e7f-9be9-b331ebd10e22",
        "executionInfo": {
          "status": "ok",
          "timestamp": 1526281628116,
          "user_tz": -180,
          "elapsed": 2239,
          "user": {
            "displayName": "martin muchui",
            "photoUrl": "https://lh3.googleusercontent.com/a/default-user=s128",
            "userId": "118445864454602802747"
          }
        }
      },
      "cell_type": "code",
      "source": [
        "len(set(data['borrower_genders']))\n"
      ],
      "execution_count": 219,
      "outputs": [
        {
          "output_type": "execute_result",
          "data": {
            "text/plain": [
              "4689"
            ]
          },
          "metadata": {
            "tags": []
          },
          "execution_count": 219
        }
      ]
    },
    {
      "metadata": {
        "id": "2CHftARUYDlH",
        "colab_type": "text"
      },
      "cell_type": "markdown",
      "source": [
        "Separate labels from the rest of the data"
      ]
    },
    {
      "metadata": {
        "id": "4Oh9YZs6YSbr",
        "colab_type": "text"
      },
      "cell_type": "markdown",
      "source": [
        "Reduce the number of unique gender values to \"male\" and \"female\""
      ]
    },
    {
      "metadata": {
        "id": "7Wk5rgL3PzKm",
        "colab_type": "code",
        "colab": {
          "autoexec": {
            "startup": false,
            "wait_interval": 0
          }
        }
      },
      "cell_type": "code",
      "source": [
        "data.borrower_genders = [\"male\" if i[0]==\"m\" else \"female\" for i in data.borrower_genders]"
      ],
      "execution_count": 0,
      "outputs": []
    },
    {
      "metadata": {
        "id": "1BUlYdo9DGQn",
        "colab_type": "code",
        "colab": {
          "autoexec": {
            "startup": false,
            "wait_interval": 0
          }
        }
      },
      "cell_type": "code",
      "source": [
        "set(data.activity);"
      ],
      "execution_count": 0,
      "outputs": []
    },
    {
      "metadata": {
        "id": "KsygpaT1C3gw",
        "colab_type": "code",
        "colab": {
          "autoexec": {
            "startup": false,
            "wait_interval": 0
          }
        }
      },
      "cell_type": "code",
      "source": [
        "data = data.drop(['id', 'activity','Severity of Poverty', 'Loan Theme ID'], axis=1)"
      ],
      "execution_count": 0,
      "outputs": []
    },
    {
      "metadata": {
        "id": "6IOvGizAENhv",
        "colab_type": "code",
        "colab": {
          "autoexec": {
            "startup": false,
            "wait_interval": 0
          },
          "base_uri": "https://localhost:8080/",
          "height": 195
        },
        "outputId": "bc1e7d11-8a0a-456f-c297-6ba0e875638e",
        "executionInfo": {
          "status": "ok",
          "timestamp": 1526281147751,
          "user_tz": -180,
          "elapsed": 1572,
          "user": {
            "displayName": "martin muchui",
            "photoUrl": "https://lh3.googleusercontent.com/a/default-user=s128",
            "userId": "118445864454602802747"
          }
        }
      },
      "cell_type": "code",
      "source": [
        "data.head()"
      ],
      "execution_count": 206,
      "outputs": [
        {
          "output_type": "execute_result",
          "data": {
            "text/html": [
              "<div>\n",
              "<style scoped>\n",
              "    .dataframe tbody tr th:only-of-type {\n",
              "        vertical-align: middle;\n",
              "    }\n",
              "\n",
              "    .dataframe tbody tr th {\n",
              "        vertical-align: top;\n",
              "    }\n",
              "\n",
              "    .dataframe thead th {\n",
              "        text-align: right;\n",
              "    }\n",
              "</style>\n",
              "<table border=\"1\" class=\"dataframe\">\n",
              "  <thead>\n",
              "    <tr style=\"text-align: right;\">\n",
              "      <th></th>\n",
              "      <th>funded_amount</th>\n",
              "      <th>sector</th>\n",
              "      <th>partner_id</th>\n",
              "      <th>term_in_months</th>\n",
              "      <th>lender_count</th>\n",
              "      <th>borrower_genders</th>\n",
              "      <th>repayment_interval</th>\n",
              "      <th>time_to_fund</th>\n",
              "      <th>MPI</th>\n",
              "      <th>Poverty Gap</th>\n",
              "      <th>Loan Theme Type</th>\n",
              "      <th>For_Kiva</th>\n",
              "      <th>rural_pct</th>\n",
              "    </tr>\n",
              "  </thead>\n",
              "  <tbody>\n",
              "    <tr>\n",
              "      <th>0</th>\n",
              "      <td>250</td>\n",
              "      <td>Food</td>\n",
              "      <td>164</td>\n",
              "      <td>13</td>\n",
              "      <td>7</td>\n",
              "      <td>female</td>\n",
              "      <td>irregular</td>\n",
              "      <td>21</td>\n",
              "      <td>0.242</td>\n",
              "      <td>7.7</td>\n",
              "      <td>General</td>\n",
              "      <td>No</td>\n",
              "      <td>99.0</td>\n",
              "    </tr>\n",
              "    <tr>\n",
              "      <th>1</th>\n",
              "      <td>250</td>\n",
              "      <td>Retail</td>\n",
              "      <td>164</td>\n",
              "      <td>14</td>\n",
              "      <td>3</td>\n",
              "      <td>female</td>\n",
              "      <td>irregular</td>\n",
              "      <td>26</td>\n",
              "      <td>0.242</td>\n",
              "      <td>7.5</td>\n",
              "      <td>General</td>\n",
              "      <td>No</td>\n",
              "      <td>99.0</td>\n",
              "    </tr>\n",
              "    <tr>\n",
              "      <th>2</th>\n",
              "      <td>250</td>\n",
              "      <td>Services</td>\n",
              "      <td>164</td>\n",
              "      <td>14</td>\n",
              "      <td>1</td>\n",
              "      <td>female</td>\n",
              "      <td>irregular</td>\n",
              "      <td>24</td>\n",
              "      <td>0.242</td>\n",
              "      <td>7.5</td>\n",
              "      <td>General</td>\n",
              "      <td>No</td>\n",
              "      <td>99.0</td>\n",
              "    </tr>\n",
              "    <tr>\n",
              "      <th>3</th>\n",
              "      <td>250</td>\n",
              "      <td>Food</td>\n",
              "      <td>164</td>\n",
              "      <td>13</td>\n",
              "      <td>9</td>\n",
              "      <td>female</td>\n",
              "      <td>irregular</td>\n",
              "      <td>31</td>\n",
              "      <td>0.242</td>\n",
              "      <td>7.7</td>\n",
              "      <td>General</td>\n",
              "      <td>No</td>\n",
              "      <td>99.0</td>\n",
              "    </tr>\n",
              "    <tr>\n",
              "      <th>4</th>\n",
              "      <td>600</td>\n",
              "      <td>Food</td>\n",
              "      <td>164</td>\n",
              "      <td>14</td>\n",
              "      <td>22</td>\n",
              "      <td>female</td>\n",
              "      <td>irregular</td>\n",
              "      <td>25</td>\n",
              "      <td>0.242</td>\n",
              "      <td>7.5</td>\n",
              "      <td>General</td>\n",
              "      <td>No</td>\n",
              "      <td>99.0</td>\n",
              "    </tr>\n",
              "  </tbody>\n",
              "</table>\n",
              "</div>"
            ],
            "text/plain": [
              "   funded_amount    sector  partner_id  term_in_months  lender_count  \\\n",
              "0            250      Food         164              13             7   \n",
              "1            250    Retail         164              14             3   \n",
              "2            250  Services         164              14             1   \n",
              "3            250      Food         164              13             9   \n",
              "4            600      Food         164              14            22   \n",
              "\n",
              "  borrower_genders repayment_interval  time_to_fund    MPI  Poverty Gap  \\\n",
              "0           female          irregular            21  0.242          7.7   \n",
              "1           female          irregular            26  0.242          7.5   \n",
              "2           female          irregular            24  0.242          7.5   \n",
              "3           female          irregular            31  0.242          7.7   \n",
              "4           female          irregular            25  0.242          7.5   \n",
              "\n",
              "  Loan Theme Type For_Kiva  rural_pct  \n",
              "0         General       No       99.0  \n",
              "1         General       No       99.0  \n",
              "2         General       No       99.0  \n",
              "3         General       No       99.0  \n",
              "4         General       No       99.0  "
            ]
          },
          "metadata": {
            "tags": []
          },
          "execution_count": 206
        }
      ]
    },
    {
      "metadata": {
        "id": "RAM9ZRM1Y3pZ",
        "colab_type": "text"
      },
      "cell_type": "markdown",
      "source": [
        "**Perform one Hot encoding**"
      ]
    },
    {
      "metadata": {
        "id": "m4zQo9YFEgvu",
        "colab_type": "code",
        "colab": {
          "autoexec": {
            "startup": false,
            "wait_interval": 0
          }
        }
      },
      "cell_type": "code",
      "source": [
        "data = pd.get_dummies(data, prefix=['sector', 'sex', 'interv', 'theme'], columns=['sector', 'borrower_genders', 'repayment_interval', 'Loan Theme Type'])\n"
      ],
      "execution_count": 0,
      "outputs": []
    },
    {
      "metadata": {
        "id": "8JdnUtyJY-F6",
        "colab_type": "text"
      },
      "cell_type": "markdown",
      "source": [
        "Use label encoder to encode data contained in \"For_Kiva\" column"
      ]
    },
    {
      "metadata": {
        "id": "jqeAn-R7Jv5o",
        "colab_type": "code",
        "colab": {
          "autoexec": {
            "startup": false,
            "wait_interval": 0
          }
        }
      },
      "cell_type": "code",
      "source": [
        "le = LabelEncoder()\n",
        "data.For_Kiva = le.fit_transform(data.For_Kiva)"
      ],
      "execution_count": 0,
      "outputs": []
    },
    {
      "metadata": {
        "id": "xlymDDoCGwF8",
        "colab_type": "code",
        "colab": {
          "autoexec": {
            "startup": false,
            "wait_interval": 0
          },
          "base_uri": "https://localhost:8080/",
          "height": 756
        },
        "outputId": "bfad0488-f0ad-4fb4-fe0a-e01384c84545",
        "executionInfo": {
          "status": "ok",
          "timestamp": 1526280392236,
          "user_tz": -180,
          "elapsed": 1122,
          "user": {
            "displayName": "martin muchui",
            "photoUrl": "https://lh3.googleusercontent.com/a/default-user=s128",
            "userId": "118445864454602802747"
          }
        }
      },
      "cell_type": "code",
      "source": [
        "print(data.head())\n",
        "print(data.shape)\n"
      ],
      "execution_count": 187,
      "outputs": [
        {
          "output_type": "stream",
          "text": [
            "       id  funded_amount             activity  partner_id  term_in_months  \\\n",
            "0  653185            250  Fruits & Vegetables         164              13   \n",
            "1  653237            250      Cosmetics Sales         164              14   \n",
            "2  653229            250            Tailoring         164              14   \n",
            "3  653247            250           Food Stall         164              13   \n",
            "4  653345            600  Fruits & Vegetables         164              14   \n",
            "\n",
            "   lender_count  time_to_fund    MPI  Poverty Gap    Loan Theme ID  \\\n",
            "0             7            21  0.242          7.7  a1050000000wf14   \n",
            "1             3            26  0.242          7.5  a1050000000wf14   \n",
            "2             1            24  0.242          7.5  a1050000000wf14   \n",
            "3             9            31  0.242          7.7  a1050000000wf14   \n",
            "4            22            25  0.242          7.5  a1050000000wf14   \n",
            "\n",
            "               ...               theme_SME  theme_Sanitation  \\\n",
            "0              ...                       0                 0   \n",
            "1              ...                       0                 0   \n",
            "2              ...                       0                 0   \n",
            "3              ...                       0                 0   \n",
            "4              ...                       0                 0   \n",
            "\n",
            "   theme_Solar Home Systems  theme_Startup  theme_Subsistence Agriculture  \\\n",
            "0                         0              0                              0   \n",
            "1                         0              0                              0   \n",
            "2                         0              0                              0   \n",
            "3                         0              0                              0   \n",
            "4                         0              0                              0   \n",
            "\n",
            "   theme_Subsistence Agriculture and Solar Lanterns  theme_Tool Box Loan  \\\n",
            "0                                                 0                    0   \n",
            "1                                                 0                    0   \n",
            "2                                                 0                    0   \n",
            "3                                                 0                    0   \n",
            "4                                                 0                    0   \n",
            "\n",
            "   theme_Water  theme_Water and Sanitation  theme_Youth Entrepreneurship  \n",
            "0            0                           0                             0  \n",
            "1            0                           0                             0  \n",
            "2            0                           0                             0  \n",
            "3            0                           0                             0  \n",
            "4            0                           0                             0  \n",
            "\n",
            "[5 rows x 58 columns]\n",
            "(60620, 58)\n"
          ],
          "name": "stdout"
        }
      ]
    },
    {
      "metadata": {
        "id": "n4BQ-8dJRR-0",
        "colab_type": "code",
        "colab": {
          "autoexec": {
            "startup": false,
            "wait_interval": 0
          }
        }
      },
      "cell_type": "code",
      "source": [
        "X_train, X_test, y_train, y_test = train_test_split(data, labels, test_size=0.2)"
      ],
      "execution_count": 0,
      "outputs": []
    },
    {
      "metadata": {
        "id": "NA5vIHw-SGGm",
        "colab_type": "code",
        "colab": {
          "autoexec": {
            "startup": false,
            "wait_interval": 0
          }
        }
      },
      "cell_type": "code",
      "source": [
        "lm = linear_model.LinearRegression()\n",
        "model = lm.fit(X_train,y_train)"
      ],
      "execution_count": 0,
      "outputs": []
    },
    {
      "metadata": {
        "id": "RMAPu-_pSL86",
        "colab_type": "code",
        "colab": {
          "autoexec": {
            "startup": false,
            "wait_interval": 0
          },
          "base_uri": "https://localhost:8080/",
          "height": 50
        },
        "outputId": "a100cb14-f45e-480a-9db6-fdff929723d0",
        "executionInfo": {
          "status": "ok",
          "timestamp": 1526278469244,
          "user_tz": -180,
          "elapsed": 2283,
          "user": {
            "displayName": "martin muchui",
            "photoUrl": "https://lh3.googleusercontent.com/a/default-user=s128",
            "userId": "118445864454602802747"
          }
        }
      },
      "cell_type": "code",
      "source": [
        "print ('R^2 score for the model: ', model.score(X_train,y_train))\n",
        "\n",
        "y_pred = model.predict(X_test)\n",
        "\n",
        "\n",
        "# RMSE\n",
        "print('Root mean squared error between y_pred and y_test: ', np.sqrt(metrics.mean_squared_error(y_test, y_pred)))"
      ],
      "execution_count": 159,
      "outputs": [
        {
          "output_type": "stream",
          "text": [
            "R^2 score for the model:  0.9588545805215123\n",
            "Root mean squared error between y_pred and y_test:  0.4301681496107223\n"
          ],
          "name": "stdout"
        }
      ]
    },
    {
      "metadata": {
        "id": "rqNUwEnuSalf",
        "colab_type": "code",
        "colab": {
          "autoexec": {
            "startup": false,
            "wait_interval": 0
          },
          "base_uri": "https://localhost:8080/",
          "height": 397
        },
        "outputId": "6c69d7fa-247d-428f-f0be-10ac8151b230",
        "executionInfo": {
          "status": "error",
          "timestamp": 1526278610279,
          "user_tz": -180,
          "elapsed": 955,
          "user": {
            "displayName": "martin muchui",
            "photoUrl": "https://lh3.googleusercontent.com/a/default-user=s128",
            "userId": "118445864454602802747"
          }
        }
      },
      "cell_type": "code",
      "source": [
        "print((accuracy_score(y_test, y_pred)))"
      ],
      "execution_count": 162,
      "outputs": [
        {
          "output_type": "error",
          "ename": "ValueError",
          "evalue": "ignored",
          "traceback": [
            "\u001b[0;31m---------------------------------------------------------------------------\u001b[0m",
            "\u001b[0;31mValueError\u001b[0m                                Traceback (most recent call last)",
            "\u001b[0;32m<ipython-input-162-bea1f1adb9c6>\u001b[0m in \u001b[0;36m<module>\u001b[0;34m()\u001b[0m\n\u001b[0;32m----> 1\u001b[0;31m \u001b[0mprint\u001b[0m\u001b[0;34m(\u001b[0m\u001b[0;34m(\u001b[0m\u001b[0maccuracy_score\u001b[0m\u001b[0;34m(\u001b[0m\u001b[0my_test\u001b[0m\u001b[0;34m,\u001b[0m \u001b[0my_pred\u001b[0m\u001b[0;34m)\u001b[0m\u001b[0;34m)\u001b[0m\u001b[0;34m)\u001b[0m\u001b[0;34m\u001b[0m\u001b[0m\n\u001b[0m",
            "\u001b[0;32m/usr/local/lib/python3.6/dist-packages/sklearn/metrics/classification.py\u001b[0m in \u001b[0;36maccuracy_score\u001b[0;34m(y_true, y_pred, normalize, sample_weight)\u001b[0m\n\u001b[1;32m    174\u001b[0m \u001b[0;34m\u001b[0m\u001b[0m\n\u001b[1;32m    175\u001b[0m     \u001b[0;31m# Compute accuracy for each possible representation\u001b[0m\u001b[0;34m\u001b[0m\u001b[0;34m\u001b[0m\u001b[0m\n\u001b[0;32m--> 176\u001b[0;31m     \u001b[0my_type\u001b[0m\u001b[0;34m,\u001b[0m \u001b[0my_true\u001b[0m\u001b[0;34m,\u001b[0m \u001b[0my_pred\u001b[0m \u001b[0;34m=\u001b[0m \u001b[0m_check_targets\u001b[0m\u001b[0;34m(\u001b[0m\u001b[0my_true\u001b[0m\u001b[0;34m,\u001b[0m \u001b[0my_pred\u001b[0m\u001b[0;34m)\u001b[0m\u001b[0;34m\u001b[0m\u001b[0m\n\u001b[0m\u001b[1;32m    177\u001b[0m     \u001b[0;32mif\u001b[0m \u001b[0my_type\u001b[0m\u001b[0;34m.\u001b[0m\u001b[0mstartswith\u001b[0m\u001b[0;34m(\u001b[0m\u001b[0;34m'multilabel'\u001b[0m\u001b[0;34m)\u001b[0m\u001b[0;34m:\u001b[0m\u001b[0;34m\u001b[0m\u001b[0m\n\u001b[1;32m    178\u001b[0m         \u001b[0mdiffering_labels\u001b[0m \u001b[0;34m=\u001b[0m \u001b[0mcount_nonzero\u001b[0m\u001b[0;34m(\u001b[0m\u001b[0my_true\u001b[0m \u001b[0;34m-\u001b[0m \u001b[0my_pred\u001b[0m\u001b[0;34m,\u001b[0m \u001b[0maxis\u001b[0m\u001b[0;34m=\u001b[0m\u001b[0;36m1\u001b[0m\u001b[0;34m)\u001b[0m\u001b[0;34m\u001b[0m\u001b[0m\n",
            "\u001b[0;32m/usr/local/lib/python3.6/dist-packages/sklearn/metrics/classification.py\u001b[0m in \u001b[0;36m_check_targets\u001b[0;34m(y_true, y_pred)\u001b[0m\n\u001b[1;32m     86\u001b[0m     \u001b[0;31m# No metrics support \"multiclass-multioutput\" format\u001b[0m\u001b[0;34m\u001b[0m\u001b[0;34m\u001b[0m\u001b[0m\n\u001b[1;32m     87\u001b[0m     \u001b[0;32mif\u001b[0m \u001b[0;34m(\u001b[0m\u001b[0my_type\u001b[0m \u001b[0;32mnot\u001b[0m \u001b[0;32min\u001b[0m \u001b[0;34m[\u001b[0m\u001b[0;34m\"binary\"\u001b[0m\u001b[0;34m,\u001b[0m \u001b[0;34m\"multiclass\"\u001b[0m\u001b[0;34m,\u001b[0m \u001b[0;34m\"multilabel-indicator\"\u001b[0m\u001b[0;34m]\u001b[0m\u001b[0;34m)\u001b[0m\u001b[0;34m:\u001b[0m\u001b[0;34m\u001b[0m\u001b[0m\n\u001b[0;32m---> 88\u001b[0;31m         \u001b[0;32mraise\u001b[0m \u001b[0mValueError\u001b[0m\u001b[0;34m(\u001b[0m\u001b[0;34m\"{0} is not supported\"\u001b[0m\u001b[0;34m.\u001b[0m\u001b[0mformat\u001b[0m\u001b[0;34m(\u001b[0m\u001b[0my_type\u001b[0m\u001b[0;34m)\u001b[0m\u001b[0;34m)\u001b[0m\u001b[0;34m\u001b[0m\u001b[0m\n\u001b[0m\u001b[1;32m     89\u001b[0m \u001b[0;34m\u001b[0m\u001b[0m\n\u001b[1;32m     90\u001b[0m     \u001b[0;32mif\u001b[0m \u001b[0my_type\u001b[0m \u001b[0;32min\u001b[0m \u001b[0;34m[\u001b[0m\u001b[0;34m\"binary\"\u001b[0m\u001b[0;34m,\u001b[0m \u001b[0;34m\"multiclass\"\u001b[0m\u001b[0;34m]\u001b[0m\u001b[0;34m:\u001b[0m\u001b[0;34m\u001b[0m\u001b[0m\n",
            "\u001b[0;31mValueError\u001b[0m: continuous is not supported"
          ]
        }
      ]
    }
  ]
}