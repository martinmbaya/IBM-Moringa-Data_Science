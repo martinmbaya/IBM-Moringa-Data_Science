{
  "nbformat": 4,
  "nbformat_minor": 0,
  "metadata": {
    "colab": {
      "name": "Compiled Kiva.ipynb",
      "version": "0.3.2",
      "views": {},
      "default_view": {},
      "provenance": [],
      "collapsed_sections": []
    },
    "kernelspec": {
      "name": "python3",
      "display_name": "Python 3"
    },
    "accelerator": "GPU"
  },
  "cells": [
    {
      "metadata": {
        "id": "U83xcutzULBV",
        "colab_type": "text"
      },
      "cell_type": "markdown",
      "source": [
        "# Import Necessary Modules"
      ]
    },
    {
      "metadata": {
        "id": "o8m0q6elXlp_",
        "colab_type": "code",
        "colab": {
          "autoexec": {
            "startup": false,
            "wait_interval": 0
          },
          "base_uri": "https://localhost:8080/",
          "height": 34
        },
        "outputId": "6412ee1f-807f-4a88-b9cf-563c4eb78282",
        "executionInfo": {
          "status": "ok",
          "timestamp": 1526315008266,
          "user_tz": -180,
          "elapsed": 3564,
          "user": {
            "displayName": "martin muchui",
            "photoUrl": "https://lh3.googleusercontent.com/a/default-user=s128",
            "userId": "118445864454602802747"
          }
        }
      },
      "cell_type": "code",
      "source": [
        "__author__ = \"Martin Mbaya\"\n",
        "!pip install -U -q PyDrive \n",
        "from pydrive.auth import GoogleAuth\n",
        "from pydrive.drive import GoogleDrive\n",
        "from google.colab import auth\n",
        "from oauth2client.client import GoogleCredentials\n",
        "\n",
        "import pandas as pd\n",
        "import matplotlib.pyplot as plt\n",
        "import seaborn as sns\n",
        "import numpy as np\n",
        "%matplotlib inline\n",
        "\n",
        "from sklearn.preprocessing import OneHotEncoder, LabelEncoder\n",
        "from sklearn import linear_model, metrics\n",
        "from sklearn import preprocessing\n",
        "from sklearn.metrics import accuracy_score\n",
        "from sklearn.model_selection import train_test_split\n",
        "\n",
        "import tensorflow as tf\n",
        "tf.test.gpu_device_name()"
      ],
      "execution_count": 6,
      "outputs": [
        {
          "output_type": "execute_result",
          "data": {
            "text/plain": [
              "''"
            ]
          },
          "metadata": {
            "tags": []
          },
          "execution_count": 6
        }
      ]
    },
    {
      "metadata": {
        "id": "tgLkPL1jVCA7",
        "colab_type": "text"
      },
      "cell_type": "markdown",
      "source": [
        "# Load Data from Google Drive"
      ]
    },
    {
      "metadata": {
        "id": "9CZEuBPfX2TN",
        "colab_type": "code",
        "colab": {
          "autoexec": {
            "startup": false,
            "wait_interval": 0
          },
          "base_uri": "https://localhost:8080/",
          "height": 87
        },
        "outputId": "aa9ca0c3-d0ea-46e3-b5fe-41335ec756db",
        "executionInfo": {
          "status": "ok",
          "timestamp": 1526315048077,
          "user_tz": -180,
          "elapsed": 9817,
          "user": {
            "displayName": "martin muchui",
            "photoUrl": "https://lh3.googleusercontent.com/a/default-user=s128",
            "userId": "118445864454602802747"
          }
        }
      },
      "cell_type": "code",
      "source": [
        "# 1. Authenticate and create the PyDrive client.\n",
        "auth.authenticate_user()\n",
        "gauth = GoogleAuth()\n",
        "gauth.credentials = GoogleCredentials.get_application_default()\n",
        "drive = GoogleDrive(gauth)\n",
        "\n",
        "file_list = drive.ListFile({'q': \"'1_H-maiuG9bzIRPocVVuONmGaIw5KWUVp' in parents and trashed=false\"}).GetList()\n",
        "for file1 in file_list:\n",
        "  f_holder = drive.CreateFile({'id': file1['id']})\n",
        "  f_holder.GetContentFile(file1['title'])\n",
        "  print('title: %s, id: %s' % (file1['title'], file1['id']))\n",
        "  \n",
        "  \n",
        "kiva_loans = pd.read_csv(\"kiva_loans.csv\")\n",
        "kiva_mpi_region_locations = pd.read_csv(\"kiva_mpi_region_locations.csv\") \n",
        "loan_theme_ids = pd.read_csv(\"loan_theme_ids.csv\") \n",
        "loan_themes_by_region = pd.read_csv(\"loan_themes_by_region.csv\")\n",
        "    "
      ],
      "execution_count": 7,
      "outputs": [
        {
          "output_type": "stream",
          "text": [
            "title: loan_theme_ids.csv, id: 1IEkguTBV_nkWiVnkOMQQ_F_eCZFphETR\n",
            "title: loan_themes_by_region.csv, id: 1MjzjJ2GoNE8sGNQObb4Lkm8gVjpfXthb\n",
            "title: kiva_loans.csv, id: 1Sg463xEjvswu_YjVzZIRQBeVeGQiyarB\n",
            "title: kiva_mpi_region_locations.csv, id: 1nle-bNa--Bd7eO61wQwU7_lketCjYorK\n"
          ],
          "name": "stdout"
        }
      ]
    },
    {
      "metadata": {
        "id": "6-uUF5AGWPKS",
        "colab_type": "text"
      },
      "cell_type": "markdown",
      "source": [
        "# Global Data Preprocessing"
      ]
    },
    {
      "metadata": {
        "id": "eX4HWjc6aD9y",
        "colab_type": "code",
        "colab": {
          "autoexec": {
            "startup": false,
            "wait_interval": 0
          },
          "base_uri": "https://localhost:8080/",
          "height": 122
        },
        "outputId": "28f90b14-590c-48fb-9560-27c532d404de",
        "executionInfo": {
          "status": "ok",
          "timestamp": 1526315055139,
          "user_tz": -180,
          "elapsed": 1199,
          "user": {
            "displayName": "martin muchui",
            "photoUrl": "https://lh3.googleusercontent.com/a/default-user=s128",
            "userId": "118445864454602802747"
          }
        }
      },
      "cell_type": "code",
      "source": [
        "kiva_loans.columns"
      ],
      "execution_count": 8,
      "outputs": [
        {
          "output_type": "execute_result",
          "data": {
            "text/plain": [
              "Index(['id', 'funded_amount', 'loan_amount', 'activity', 'sector', 'use',\n",
              "       'country_code', 'country', 'region', 'currency', 'partner_id',\n",
              "       'posted_time', 'disbursed_time', 'funded_time', 'term_in_months',\n",
              "       'lender_count', 'tags', 'borrower_genders', 'repayment_interval',\n",
              "       'date'],\n",
              "      dtype='object')"
            ]
          },
          "metadata": {
            "tags": []
          },
          "execution_count": 8
        }
      ]
    },
    {
      "metadata": {
        "id": "xQAGvk62jPOW",
        "colab_type": "text"
      },
      "cell_type": "markdown",
      "source": [
        "*Drop repeated/unnecessarycolumns*"
      ]
    },
    {
      "metadata": {
        "id": "d_IwjvfeagCs",
        "colab_type": "code",
        "colab": {
          "autoexec": {
            "startup": false,
            "wait_interval": 0
          },
          "base_uri": "https://localhost:8080/",
          "height": 308
        },
        "outputId": "4346027b-96f0-4484-eea6-e6ad60f04354",
        "executionInfo": {
          "status": "ok",
          "timestamp": 1526315061589,
          "user_tz": -180,
          "elapsed": 3030,
          "user": {
            "displayName": "martin muchui",
            "photoUrl": "https://lh3.googleusercontent.com/a/default-user=s128",
            "userId": "118445864454602802747"
          }
        }
      },
      "cell_type": "code",
      "source": [
        "kiva_loans[\"time_to_fund\"] = (pd.to_datetime(kiva_loans.funded_time) - pd.to_datetime(kiva_loans.disbursed_time))\n",
        "kiva_loans = kiva_loans.drop(['posted_time','loan_amount','use','tags','disbursed_time', 'funded_time', 'date', 'currency'], axis=1)\n",
        "kiva_loans.head()"
      ],
      "execution_count": 9,
      "outputs": [
        {
          "output_type": "execute_result",
          "data": {
            "text/html": [
              "<div>\n",
              "<style scoped>\n",
              "    .dataframe tbody tr th:only-of-type {\n",
              "        vertical-align: middle;\n",
              "    }\n",
              "\n",
              "    .dataframe tbody tr th {\n",
              "        vertical-align: top;\n",
              "    }\n",
              "\n",
              "    .dataframe thead th {\n",
              "        text-align: right;\n",
              "    }\n",
              "</style>\n",
              "<table border=\"1\" class=\"dataframe\">\n",
              "  <thead>\n",
              "    <tr style=\"text-align: right;\">\n",
              "      <th></th>\n",
              "      <th>id</th>\n",
              "      <th>funded_amount</th>\n",
              "      <th>activity</th>\n",
              "      <th>sector</th>\n",
              "      <th>country_code</th>\n",
              "      <th>country</th>\n",
              "      <th>region</th>\n",
              "      <th>partner_id</th>\n",
              "      <th>term_in_months</th>\n",
              "      <th>lender_count</th>\n",
              "      <th>borrower_genders</th>\n",
              "      <th>repayment_interval</th>\n",
              "      <th>time_to_fund</th>\n",
              "    </tr>\n",
              "  </thead>\n",
              "  <tbody>\n",
              "    <tr>\n",
              "      <th>0</th>\n",
              "      <td>653051</td>\n",
              "      <td>300.0</td>\n",
              "      <td>Fruits &amp; Vegetables</td>\n",
              "      <td>Food</td>\n",
              "      <td>PK</td>\n",
              "      <td>Pakistan</td>\n",
              "      <td>Lahore</td>\n",
              "      <td>247.0</td>\n",
              "      <td>12.0</td>\n",
              "      <td>12</td>\n",
              "      <td>female</td>\n",
              "      <td>irregular</td>\n",
              "      <td>16 days 02:06:32</td>\n",
              "    </tr>\n",
              "    <tr>\n",
              "      <th>1</th>\n",
              "      <td>653053</td>\n",
              "      <td>575.0</td>\n",
              "      <td>Rickshaw</td>\n",
              "      <td>Transportation</td>\n",
              "      <td>PK</td>\n",
              "      <td>Pakistan</td>\n",
              "      <td>Lahore</td>\n",
              "      <td>247.0</td>\n",
              "      <td>11.0</td>\n",
              "      <td>14</td>\n",
              "      <td>female, female</td>\n",
              "      <td>irregular</td>\n",
              "      <td>16 days 01:17:23</td>\n",
              "    </tr>\n",
              "    <tr>\n",
              "      <th>2</th>\n",
              "      <td>653068</td>\n",
              "      <td>150.0</td>\n",
              "      <td>Transportation</td>\n",
              "      <td>Transportation</td>\n",
              "      <td>IN</td>\n",
              "      <td>India</td>\n",
              "      <td>Maynaguri</td>\n",
              "      <td>334.0</td>\n",
              "      <td>43.0</td>\n",
              "      <td>6</td>\n",
              "      <td>female</td>\n",
              "      <td>bullet</td>\n",
              "      <td>15 days 08:01:36</td>\n",
              "    </tr>\n",
              "    <tr>\n",
              "      <th>3</th>\n",
              "      <td>653063</td>\n",
              "      <td>200.0</td>\n",
              "      <td>Embroidery</td>\n",
              "      <td>Arts</td>\n",
              "      <td>PK</td>\n",
              "      <td>Pakistan</td>\n",
              "      <td>Lahore</td>\n",
              "      <td>247.0</td>\n",
              "      <td>11.0</td>\n",
              "      <td>8</td>\n",
              "      <td>female</td>\n",
              "      <td>irregular</td>\n",
              "      <td>8 days 05:00:00</td>\n",
              "    </tr>\n",
              "    <tr>\n",
              "      <th>4</th>\n",
              "      <td>653084</td>\n",
              "      <td>400.0</td>\n",
              "      <td>Milk Sales</td>\n",
              "      <td>Food</td>\n",
              "      <td>PK</td>\n",
              "      <td>Pakistan</td>\n",
              "      <td>Abdul Hakeem</td>\n",
              "      <td>245.0</td>\n",
              "      <td>14.0</td>\n",
              "      <td>16</td>\n",
              "      <td>female</td>\n",
              "      <td>monthly</td>\n",
              "      <td>15 days 11:18:51</td>\n",
              "    </tr>\n",
              "  </tbody>\n",
              "</table>\n",
              "</div>"
            ],
            "text/plain": [
              "       id  funded_amount             activity          sector country_code  \\\n",
              "0  653051          300.0  Fruits & Vegetables            Food           PK   \n",
              "1  653053          575.0             Rickshaw  Transportation           PK   \n",
              "2  653068          150.0       Transportation  Transportation           IN   \n",
              "3  653063          200.0           Embroidery            Arts           PK   \n",
              "4  653084          400.0           Milk Sales            Food           PK   \n",
              "\n",
              "    country        region  partner_id  term_in_months  lender_count  \\\n",
              "0  Pakistan        Lahore       247.0            12.0            12   \n",
              "1  Pakistan        Lahore       247.0            11.0            14   \n",
              "2     India     Maynaguri       334.0            43.0             6   \n",
              "3  Pakistan        Lahore       247.0            11.0             8   \n",
              "4  Pakistan  Abdul Hakeem       245.0            14.0            16   \n",
              "\n",
              "  borrower_genders repayment_interval     time_to_fund  \n",
              "0           female          irregular 16 days 02:06:32  \n",
              "1   female, female          irregular 16 days 01:17:23  \n",
              "2           female             bullet 15 days 08:01:36  \n",
              "3           female          irregular  8 days 05:00:00  \n",
              "4           female            monthly 15 days 11:18:51  "
            ]
          },
          "metadata": {
            "tags": []
          },
          "execution_count": 9
        }
      ]
    },
    {
      "metadata": {
        "id": "2QpOFWZPaptZ",
        "colab_type": "code",
        "colab": {
          "autoexec": {
            "startup": false,
            "wait_interval": 0
          },
          "base_uri": "https://localhost:8080/",
          "height": 288
        },
        "outputId": "99089f2a-0c8e-442e-da41-c05d631c844a",
        "executionInfo": {
          "status": "ok",
          "timestamp": 1526315067794,
          "user_tz": -180,
          "elapsed": 940,
          "user": {
            "displayName": "martin muchui",
            "photoUrl": "https://lh3.googleusercontent.com/a/default-user=s128",
            "userId": "118445864454602802747"
          }
        }
      },
      "cell_type": "code",
      "source": [
        "kiva_mpi_region_locations.head()"
      ],
      "execution_count": 10,
      "outputs": [
        {
          "output_type": "execute_result",
          "data": {
            "text/html": [
              "<div>\n",
              "<style scoped>\n",
              "    .dataframe tbody tr th:only-of-type {\n",
              "        vertical-align: middle;\n",
              "    }\n",
              "\n",
              "    .dataframe tbody tr th {\n",
              "        vertical-align: top;\n",
              "    }\n",
              "\n",
              "    .dataframe thead th {\n",
              "        text-align: right;\n",
              "    }\n",
              "</style>\n",
              "<table border=\"1\" class=\"dataframe\">\n",
              "  <thead>\n",
              "    <tr style=\"text-align: right;\">\n",
              "      <th></th>\n",
              "      <th>LocationName</th>\n",
              "      <th>ISO</th>\n",
              "      <th>country</th>\n",
              "      <th>region</th>\n",
              "      <th>world_region</th>\n",
              "      <th>MPI</th>\n",
              "      <th>geo</th>\n",
              "      <th>lat</th>\n",
              "      <th>lon</th>\n",
              "    </tr>\n",
              "  </thead>\n",
              "  <tbody>\n",
              "    <tr>\n",
              "      <th>0</th>\n",
              "      <td>Badakhshan, Afghanistan</td>\n",
              "      <td>AFG</td>\n",
              "      <td>Afghanistan</td>\n",
              "      <td>Badakhshan</td>\n",
              "      <td>South Asia</td>\n",
              "      <td>0.387</td>\n",
              "      <td>(36.7347725, 70.81199529999999)</td>\n",
              "      <td>36.734772</td>\n",
              "      <td>70.811995</td>\n",
              "    </tr>\n",
              "    <tr>\n",
              "      <th>1</th>\n",
              "      <td>Badghis, Afghanistan</td>\n",
              "      <td>AFG</td>\n",
              "      <td>Afghanistan</td>\n",
              "      <td>Badghis</td>\n",
              "      <td>South Asia</td>\n",
              "      <td>0.466</td>\n",
              "      <td>(35.1671339, 63.7695384)</td>\n",
              "      <td>35.167134</td>\n",
              "      <td>63.769538</td>\n",
              "    </tr>\n",
              "    <tr>\n",
              "      <th>2</th>\n",
              "      <td>Baghlan, Afghanistan</td>\n",
              "      <td>AFG</td>\n",
              "      <td>Afghanistan</td>\n",
              "      <td>Baghlan</td>\n",
              "      <td>South Asia</td>\n",
              "      <td>0.300</td>\n",
              "      <td>(35.8042947, 69.2877535)</td>\n",
              "      <td>35.804295</td>\n",
              "      <td>69.287754</td>\n",
              "    </tr>\n",
              "    <tr>\n",
              "      <th>3</th>\n",
              "      <td>Balkh, Afghanistan</td>\n",
              "      <td>AFG</td>\n",
              "      <td>Afghanistan</td>\n",
              "      <td>Balkh</td>\n",
              "      <td>South Asia</td>\n",
              "      <td>0.301</td>\n",
              "      <td>(36.7550603, 66.8975372)</td>\n",
              "      <td>36.755060</td>\n",
              "      <td>66.897537</td>\n",
              "    </tr>\n",
              "    <tr>\n",
              "      <th>4</th>\n",
              "      <td>Bamyan, Afghanistan</td>\n",
              "      <td>AFG</td>\n",
              "      <td>Afghanistan</td>\n",
              "      <td>Bamyan</td>\n",
              "      <td>South Asia</td>\n",
              "      <td>0.325</td>\n",
              "      <td>(34.8100067, 67.8212104)</td>\n",
              "      <td>34.810007</td>\n",
              "      <td>67.821210</td>\n",
              "    </tr>\n",
              "  </tbody>\n",
              "</table>\n",
              "</div>"
            ],
            "text/plain": [
              "              LocationName  ISO      country      region world_region    MPI  \\\n",
              "0  Badakhshan, Afghanistan  AFG  Afghanistan  Badakhshan   South Asia  0.387   \n",
              "1     Badghis, Afghanistan  AFG  Afghanistan     Badghis   South Asia  0.466   \n",
              "2     Baghlan, Afghanistan  AFG  Afghanistan     Baghlan   South Asia  0.300   \n",
              "3       Balkh, Afghanistan  AFG  Afghanistan       Balkh   South Asia  0.301   \n",
              "4      Bamyan, Afghanistan  AFG  Afghanistan      Bamyan   South Asia  0.325   \n",
              "\n",
              "                               geo        lat        lon  \n",
              "0  (36.7347725, 70.81199529999999)  36.734772  70.811995  \n",
              "1         (35.1671339, 63.7695384)  35.167134  63.769538  \n",
              "2         (35.8042947, 69.2877535)  35.804295  69.287754  \n",
              "3         (36.7550603, 66.8975372)  36.755060  66.897537  \n",
              "4         (34.8100067, 67.8212104)  34.810007  67.821210  "
            ]
          },
          "metadata": {
            "tags": []
          },
          "execution_count": 10
        }
      ]
    },
    {
      "metadata": {
        "id": "AuhHbObTarTW",
        "colab_type": "code",
        "colab": {
          "autoexec": {
            "startup": false,
            "wait_interval": 0
          },
          "base_uri": "https://localhost:8080/",
          "height": 203
        },
        "outputId": "db1238f6-3f43-46f6-9675-c033fd91be19",
        "executionInfo": {
          "status": "ok",
          "timestamp": 1526315071373,
          "user_tz": -180,
          "elapsed": 987,
          "user": {
            "displayName": "martin muchui",
            "photoUrl": "https://lh3.googleusercontent.com/a/default-user=s128",
            "userId": "118445864454602802747"
          }
        }
      },
      "cell_type": "code",
      "source": [
        "kiva_mpi_region_locations = kiva_mpi_region_locations.dropna(thresh=2);\n",
        "kiva_mpi_region_locations = kiva_mpi_region_locations.drop(['LocationName', 'lat', 'lon'], axis=1);\n",
        "kiva_mpi_region_locations.head()"
      ],
      "execution_count": 11,
      "outputs": [
        {
          "output_type": "execute_result",
          "data": {
            "text/html": [
              "<div>\n",
              "<style scoped>\n",
              "    .dataframe tbody tr th:only-of-type {\n",
              "        vertical-align: middle;\n",
              "    }\n",
              "\n",
              "    .dataframe tbody tr th {\n",
              "        vertical-align: top;\n",
              "    }\n",
              "\n",
              "    .dataframe thead th {\n",
              "        text-align: right;\n",
              "    }\n",
              "</style>\n",
              "<table border=\"1\" class=\"dataframe\">\n",
              "  <thead>\n",
              "    <tr style=\"text-align: right;\">\n",
              "      <th></th>\n",
              "      <th>ISO</th>\n",
              "      <th>country</th>\n",
              "      <th>region</th>\n",
              "      <th>world_region</th>\n",
              "      <th>MPI</th>\n",
              "      <th>geo</th>\n",
              "    </tr>\n",
              "  </thead>\n",
              "  <tbody>\n",
              "    <tr>\n",
              "      <th>0</th>\n",
              "      <td>AFG</td>\n",
              "      <td>Afghanistan</td>\n",
              "      <td>Badakhshan</td>\n",
              "      <td>South Asia</td>\n",
              "      <td>0.387</td>\n",
              "      <td>(36.7347725, 70.81199529999999)</td>\n",
              "    </tr>\n",
              "    <tr>\n",
              "      <th>1</th>\n",
              "      <td>AFG</td>\n",
              "      <td>Afghanistan</td>\n",
              "      <td>Badghis</td>\n",
              "      <td>South Asia</td>\n",
              "      <td>0.466</td>\n",
              "      <td>(35.1671339, 63.7695384)</td>\n",
              "    </tr>\n",
              "    <tr>\n",
              "      <th>2</th>\n",
              "      <td>AFG</td>\n",
              "      <td>Afghanistan</td>\n",
              "      <td>Baghlan</td>\n",
              "      <td>South Asia</td>\n",
              "      <td>0.300</td>\n",
              "      <td>(35.8042947, 69.2877535)</td>\n",
              "    </tr>\n",
              "    <tr>\n",
              "      <th>3</th>\n",
              "      <td>AFG</td>\n",
              "      <td>Afghanistan</td>\n",
              "      <td>Balkh</td>\n",
              "      <td>South Asia</td>\n",
              "      <td>0.301</td>\n",
              "      <td>(36.7550603, 66.8975372)</td>\n",
              "    </tr>\n",
              "    <tr>\n",
              "      <th>4</th>\n",
              "      <td>AFG</td>\n",
              "      <td>Afghanistan</td>\n",
              "      <td>Bamyan</td>\n",
              "      <td>South Asia</td>\n",
              "      <td>0.325</td>\n",
              "      <td>(34.8100067, 67.8212104)</td>\n",
              "    </tr>\n",
              "  </tbody>\n",
              "</table>\n",
              "</div>"
            ],
            "text/plain": [
              "   ISO      country      region world_region    MPI  \\\n",
              "0  AFG  Afghanistan  Badakhshan   South Asia  0.387   \n",
              "1  AFG  Afghanistan     Badghis   South Asia  0.466   \n",
              "2  AFG  Afghanistan     Baghlan   South Asia  0.300   \n",
              "3  AFG  Afghanistan       Balkh   South Asia  0.301   \n",
              "4  AFG  Afghanistan      Bamyan   South Asia  0.325   \n",
              "\n",
              "                               geo  \n",
              "0  (36.7347725, 70.81199529999999)  \n",
              "1         (35.1671339, 63.7695384)  \n",
              "2         (35.8042947, 69.2877535)  \n",
              "3         (36.7550603, 66.8975372)  \n",
              "4         (34.8100067, 67.8212104)  "
            ]
          },
          "metadata": {
            "tags": []
          },
          "execution_count": 11
        }
      ]
    },
    {
      "metadata": {
        "id": "uggF8Nvvaw4t",
        "colab_type": "code",
        "colab": {
          "autoexec": {
            "startup": false,
            "wait_interval": 0
          },
          "base_uri": "https://localhost:8080/",
          "height": 203
        },
        "outputId": "abda5a9a-db89-4526-d212-90e466636958",
        "executionInfo": {
          "status": "ok",
          "timestamp": 1526315075455,
          "user_tz": -180,
          "elapsed": 893,
          "user": {
            "displayName": "martin muchui",
            "photoUrl": "https://lh3.googleusercontent.com/a/default-user=s128",
            "userId": "118445864454602802747"
          }
        }
      },
      "cell_type": "code",
      "source": [
        "loan_theme_ids.head()"
      ],
      "execution_count": 12,
      "outputs": [
        {
          "output_type": "execute_result",
          "data": {
            "text/html": [
              "<div>\n",
              "<style scoped>\n",
              "    .dataframe tbody tr th:only-of-type {\n",
              "        vertical-align: middle;\n",
              "    }\n",
              "\n",
              "    .dataframe tbody tr th {\n",
              "        vertical-align: top;\n",
              "    }\n",
              "\n",
              "    .dataframe thead th {\n",
              "        text-align: right;\n",
              "    }\n",
              "</style>\n",
              "<table border=\"1\" class=\"dataframe\">\n",
              "  <thead>\n",
              "    <tr style=\"text-align: right;\">\n",
              "      <th></th>\n",
              "      <th>id</th>\n",
              "      <th>Loan Theme ID</th>\n",
              "      <th>Loan Theme Type</th>\n",
              "      <th>Partner ID</th>\n",
              "    </tr>\n",
              "  </thead>\n",
              "  <tbody>\n",
              "    <tr>\n",
              "      <th>0</th>\n",
              "      <td>638631</td>\n",
              "      <td>a1050000000skGl</td>\n",
              "      <td>General</td>\n",
              "      <td>151.0</td>\n",
              "    </tr>\n",
              "    <tr>\n",
              "      <th>1</th>\n",
              "      <td>640322</td>\n",
              "      <td>a1050000000skGl</td>\n",
              "      <td>General</td>\n",
              "      <td>151.0</td>\n",
              "    </tr>\n",
              "    <tr>\n",
              "      <th>2</th>\n",
              "      <td>641006</td>\n",
              "      <td>a1050000002X1ij</td>\n",
              "      <td>Higher Education</td>\n",
              "      <td>160.0</td>\n",
              "    </tr>\n",
              "    <tr>\n",
              "      <th>3</th>\n",
              "      <td>641019</td>\n",
              "      <td>a1050000002X1ij</td>\n",
              "      <td>Higher Education</td>\n",
              "      <td>160.0</td>\n",
              "    </tr>\n",
              "    <tr>\n",
              "      <th>4</th>\n",
              "      <td>641594</td>\n",
              "      <td>a1050000002VbsW</td>\n",
              "      <td>Subsistence Agriculture</td>\n",
              "      <td>336.0</td>\n",
              "    </tr>\n",
              "  </tbody>\n",
              "</table>\n",
              "</div>"
            ],
            "text/plain": [
              "       id    Loan Theme ID          Loan Theme Type  Partner ID\n",
              "0  638631  a1050000000skGl                  General       151.0\n",
              "1  640322  a1050000000skGl                  General       151.0\n",
              "2  641006  a1050000002X1ij         Higher Education       160.0\n",
              "3  641019  a1050000002X1ij         Higher Education       160.0\n",
              "4  641594  a1050000002VbsW  Subsistence Agriculture       336.0"
            ]
          },
          "metadata": {
            "tags": []
          },
          "execution_count": 12
        }
      ]
    },
    {
      "metadata": {
        "id": "ZHalZbEIa0Vv",
        "colab_type": "code",
        "colab": {
          "autoexec": {
            "startup": false,
            "wait_interval": 0
          }
        }
      },
      "cell_type": "code",
      "source": [
        "loan_themes_by_region.columns\n",
        "loan_themes_by_region = loan_themes_by_region.drop(['Field Partner Name', 'sector', 'LocationName', 'lat', 'lon', 'names','mpi_region', 'geocode_old', 'geocode', 'mpi_geo'], axis=1)"
      ],
      "execution_count": 0,
      "outputs": []
    },
    {
      "metadata": {
        "id": "n31SymxAa3g7",
        "colab_type": "code",
        "colab": {
          "autoexec": {
            "startup": false,
            "wait_interval": 0
          },
          "base_uri": "https://localhost:8080/",
          "height": 377
        },
        "outputId": "b2966373-a7de-4096-b9ff-25c5ddf1d47f",
        "executionInfo": {
          "status": "ok",
          "timestamp": 1526315083117,
          "user_tz": -180,
          "elapsed": 886,
          "user": {
            "displayName": "martin muchui",
            "photoUrl": "https://lh3.googleusercontent.com/a/default-user=s128",
            "userId": "118445864454602802747"
          }
        }
      },
      "cell_type": "code",
      "source": [
        "loan_themes_by_region.head()"
      ],
      "execution_count": 14,
      "outputs": [
        {
          "output_type": "execute_result",
          "data": {
            "text/html": [
              "<div>\n",
              "<style scoped>\n",
              "    .dataframe tbody tr th:only-of-type {\n",
              "        vertical-align: middle;\n",
              "    }\n",
              "\n",
              "    .dataframe tbody tr th {\n",
              "        vertical-align: top;\n",
              "    }\n",
              "\n",
              "    .dataframe thead th {\n",
              "        text-align: right;\n",
              "    }\n",
              "</style>\n",
              "<table border=\"1\" class=\"dataframe\">\n",
              "  <thead>\n",
              "    <tr style=\"text-align: right;\">\n",
              "      <th></th>\n",
              "      <th>Partner ID</th>\n",
              "      <th>Loan Theme ID</th>\n",
              "      <th>Loan Theme Type</th>\n",
              "      <th>country</th>\n",
              "      <th>forkiva</th>\n",
              "      <th>region</th>\n",
              "      <th>ISO</th>\n",
              "      <th>number</th>\n",
              "      <th>amount</th>\n",
              "      <th>geo</th>\n",
              "      <th>rural_pct</th>\n",
              "    </tr>\n",
              "  </thead>\n",
              "  <tbody>\n",
              "    <tr>\n",
              "      <th>0</th>\n",
              "      <td>9</td>\n",
              "      <td>a1050000000slfi</td>\n",
              "      <td>Higher Education</td>\n",
              "      <td>Cambodia</td>\n",
              "      <td>No</td>\n",
              "      <td>Banteay Meanchey</td>\n",
              "      <td>KHM</td>\n",
              "      <td>1</td>\n",
              "      <td>450</td>\n",
              "      <td>(13.6672596, 102.8975098)</td>\n",
              "      <td>90.0</td>\n",
              "    </tr>\n",
              "    <tr>\n",
              "      <th>1</th>\n",
              "      <td>9</td>\n",
              "      <td>a10500000068jPe</td>\n",
              "      <td>Vulnerable Populations</td>\n",
              "      <td>Cambodia</td>\n",
              "      <td>No</td>\n",
              "      <td>Battambang Province</td>\n",
              "      <td>KHM</td>\n",
              "      <td>58</td>\n",
              "      <td>20275</td>\n",
              "      <td>(13.0286971, 102.989615)</td>\n",
              "      <td>90.0</td>\n",
              "    </tr>\n",
              "    <tr>\n",
              "      <th>2</th>\n",
              "      <td>9</td>\n",
              "      <td>a1050000000slfi</td>\n",
              "      <td>Higher Education</td>\n",
              "      <td>Cambodia</td>\n",
              "      <td>No</td>\n",
              "      <td>Battambang Province</td>\n",
              "      <td>KHM</td>\n",
              "      <td>7</td>\n",
              "      <td>9150</td>\n",
              "      <td>(13.0286971, 102.989615)</td>\n",
              "      <td>90.0</td>\n",
              "    </tr>\n",
              "    <tr>\n",
              "      <th>3</th>\n",
              "      <td>9</td>\n",
              "      <td>a10500000068jPe</td>\n",
              "      <td>Vulnerable Populations</td>\n",
              "      <td>Cambodia</td>\n",
              "      <td>No</td>\n",
              "      <td>Kampong Cham Province</td>\n",
              "      <td>KHM</td>\n",
              "      <td>1383</td>\n",
              "      <td>604950</td>\n",
              "      <td>(12.0982918, 105.3131185)</td>\n",
              "      <td>90.0</td>\n",
              "    </tr>\n",
              "    <tr>\n",
              "      <th>4</th>\n",
              "      <td>9</td>\n",
              "      <td>a1050000002X1Uu</td>\n",
              "      <td>Sanitation</td>\n",
              "      <td>Cambodia</td>\n",
              "      <td>No</td>\n",
              "      <td>Kampong Cham Province</td>\n",
              "      <td>KHM</td>\n",
              "      <td>3</td>\n",
              "      <td>275</td>\n",
              "      <td>(12.0982918, 105.3131185)</td>\n",
              "      <td>90.0</td>\n",
              "    </tr>\n",
              "  </tbody>\n",
              "</table>\n",
              "</div>"
            ],
            "text/plain": [
              "   Partner ID    Loan Theme ID         Loan Theme Type   country forkiva  \\\n",
              "0           9  a1050000000slfi        Higher Education  Cambodia      No   \n",
              "1           9  a10500000068jPe  Vulnerable Populations  Cambodia      No   \n",
              "2           9  a1050000000slfi        Higher Education  Cambodia      No   \n",
              "3           9  a10500000068jPe  Vulnerable Populations  Cambodia      No   \n",
              "4           9  a1050000002X1Uu              Sanitation  Cambodia      No   \n",
              "\n",
              "                  region  ISO  number  amount                        geo  \\\n",
              "0       Banteay Meanchey  KHM       1     450  (13.6672596, 102.8975098)   \n",
              "1    Battambang Province  KHM      58   20275   (13.0286971, 102.989615)   \n",
              "2    Battambang Province  KHM       7    9150   (13.0286971, 102.989615)   \n",
              "3  Kampong Cham Province  KHM    1383  604950  (12.0982918, 105.3131185)   \n",
              "4  Kampong Cham Province  KHM       3     275  (12.0982918, 105.3131185)   \n",
              "\n",
              "   rural_pct  \n",
              "0       90.0  \n",
              "1       90.0  \n",
              "2       90.0  \n",
              "3       90.0  \n",
              "4       90.0  "
            ]
          },
          "metadata": {
            "tags": []
          },
          "execution_count": 14
        }
      ]
    },
    {
      "metadata": {
        "id": "KseaU44TzrE4",
        "colab_type": "code",
        "colab": {
          "autoexec": {
            "startup": false,
            "wait_interval": 0
          },
          "base_uri": "https://localhost:8080/",
          "height": 598
        },
        "outputId": "9a2811bc-c8b0-488a-f2a3-63742cf7fcee",
        "executionInfo": {
          "status": "ok",
          "timestamp": 1526315089405,
          "user_tz": -180,
          "elapsed": 1970,
          "user": {
            "displayName": "martin muchui",
            "photoUrl": "https://lh3.googleusercontent.com/a/default-user=s128",
            "userId": "118445864454602802747"
          }
        }
      },
      "cell_type": "code",
      "source": [
        "plt.figure(figsize=(15,8))\n",
        "sector_name = kiva_loans['sector'].value_counts()\n",
        "sns.barplot(sector_name.values, sector_name.index)\n",
        "for i, v in enumerate(sector_name.values):\n",
        "    plt.text(0.5,i,v,color='k',fontsize=14)\n",
        "plt.xticks(rotation='vertical')\n",
        "plt.xlabel('Number of loans', fontsize=19)\n",
        "plt.ylabel('Sector', fontsize=19)\n",
        "plt.title(\"Top sectors in which more loans were given\")\n",
        "plt.show()"
      ],
      "execution_count": 15,
      "outputs": [
        {
          "output_type": "stream",
          "text": [
            "/usr/local/lib/python3.6/dist-packages/seaborn/categorical.py:1428: FutureWarning: remove_na is deprecated and is a private function. Do not use.\n",
            "  stat_data = remove_na(group_data)\n"
          ],
          "name": "stderr"
        },
        {
          "output_type": "display_data",
          "data": {
            "image/png": "[encoded data removed]",
            "text/plain": [
              "<matplotlib.figure.Figure at 0x7f269cecdc50>"
            ]
          },
          "metadata": {
            "tags": []
          }
        }
      ]
    },
    {
      "metadata": {
        "id": "aMZMVN_K0nDg",
        "colab_type": "code",
        "colab": {
          "autoexec": {
            "startup": false,
            "wait_interval": 0
          },
          "base_uri": "https://localhost:8080/",
          "height": 594
        },
        "outputId": "1060b9ae-02a5-4672-8e3f-e4e47eb97c21",
        "executionInfo": {
          "status": "ok",
          "timestamp": 1526315094528,
          "user_tz": -180,
          "elapsed": 1430,
          "user": {
            "displayName": "martin muchui",
            "photoUrl": "https://lh3.googleusercontent.com/a/default-user=s128",
            "userId": "118445864454602802747"
          }
        }
      },
      "cell_type": "code",
      "source": [
        "plt.figure(figsize=(15,8))\n",
        "count = kiva_loans['country'].value_counts().head(10)\n",
        "sns.barplot(count.values, count.index, )\n",
        "for i, v in enumerate(count.values):\n",
        "    plt.text(0.6,i,v,color='k',fontsize=14)\n",
        "plt.xlabel('Count', fontsize=19)\n",
        "plt.ylabel('Country', fontsize=19)\n",
        "plt.title(\"Most frequent countries for kiva loan\", fontsize=16)"
      ],
      "execution_count": 16,
      "outputs": [
        {
          "output_type": "stream",
          "text": [
            "/usr/local/lib/python3.6/dist-packages/seaborn/categorical.py:1428: FutureWarning: remove_na is deprecated and is a private function. Do not use.\n",
            "  stat_data = remove_na(group_data)\n"
          ],
          "name": "stderr"
        },
        {
          "output_type": "execute_result",
          "data": {
            "text/plain": [
              "Text(0.5,1,'Most frequent countries for kiva loan')"
            ]
          },
          "metadata": {
            "tags": []
          },
          "execution_count": 16
        },
        {
          "output_type": "display_data",
          "data": {
            "image/png": "[encoded data removed]",
            "text/plain": [
              "<matplotlib.figure.Figure at 0x7f269d88a470>"
            ]
          },
          "metadata": {
            "tags": []
          }
        }
      ]
    },
    {
      "metadata": {
        "id": "Pf_zalZ51V16",
        "colab_type": "code",
        "colab": {
          "autoexec": {
            "startup": false,
            "wait_interval": 0
          },
          "base_uri": "https://localhost:8080/",
          "height": 594
        },
        "outputId": "da8e8dc3-7007-4034-881a-4a44dd24a75a",
        "executionInfo": {
          "status": "ok",
          "timestamp": 1526315100951,
          "user_tz": -180,
          "elapsed": 1841,
          "user": {
            "displayName": "martin muchui",
            "photoUrl": "https://lh3.googleusercontent.com/a/default-user=s128",
            "userId": "118445864454602802747"
          }
        }
      },
      "cell_type": "code",
      "source": [
        "plt.figure(figsize=(15,8))\n",
        "count = kiva_loans['activity'].value_counts().head(20)\n",
        "sns.barplot(count.values, count.index)\n",
        "for i, v in enumerate(count.values):\n",
        "    plt.text(0.8,i,v,color='k',fontsize=14)\n",
        "plt.xlabel('Count', fontsize=19)\n",
        "plt.ylabel('Activity', fontsize=19)\n",
        "plt.title(\"Top Loan Activity type\", fontsize=16)"
      ],
      "execution_count": 17,
      "outputs": [
        {
          "output_type": "stream",
          "text": [
            "/usr/local/lib/python3.6/dist-packages/seaborn/categorical.py:1428: FutureWarning: remove_na is deprecated and is a private function. Do not use.\n",
            "  stat_data = remove_na(group_data)\n"
          ],
          "name": "stderr"
        },
        {
          "output_type": "execute_result",
          "data": {
            "text/plain": [
              "Text(0.5,1,'Top Loan Activity type')"
            ]
          },
          "metadata": {
            "tags": []
          },
          "execution_count": 17
        },
        {
          "output_type": "display_data",
          "data": {
            "image/png": "[encoded data removed]",
            "text/plain": [
              "<matplotlib.figure.Figure at 0x7f26a3981978>"
            ]
          },
          "metadata": {
            "tags": []
          }
        }
      ]
    },
    {
      "metadata": {
        "id": "h_QqjRI42KHH",
        "colab_type": "code",
        "colab": {
          "autoexec": {
            "startup": false,
            "wait_interval": 0
          },
          "base_uri": "https://localhost:8080/",
          "height": 1849
        },
        "outputId": "d3e420b1-0330-4920-d5b6-c108ad95b32c",
        "executionInfo": {
          "status": "ok",
          "timestamp": 1526315106589,
          "user_tz": -180,
          "elapsed": 1411,
          "user": {
            "displayName": "martin muchui",
            "photoUrl": "https://lh3.googleusercontent.com/a/default-user=s128",
            "userId": "118445864454602802747"
          }
        }
      },
      "cell_type": "code",
      "source": [
        "sector_repayment = ['country', 'repayment_interval']\n",
        "cm = sns.light_palette(\"red\", as_cmap=True)\n",
        "pd.crosstab(kiva_loans[sector_repayment[0]], kiva_loans[sector_repayment[1]]).style.background_gradient(cmap = cm)"
      ],
      "execution_count": 18,
      "outputs": [
        {
          "output_type": "execute_result",
          "data": {
            "text/html": [
              "<style  type=\"text/css\" >\n",
              "    #T_5c0af56a_5793_11e8_a852_0242ac110002row0_col0 {\n",
              "            background-color:  #ffe5e5;\n",
              "        }    #T_5c0af56a_5793_11e8_a852_0242ac110002row0_col1 {\n",
              "            background-color:  #ffe5e5;\n",
              "        }    #T_5c0af56a_5793_11e8_a852_0242ac110002row0_col2 {\n",
              "            background-color:  #ffe5e5;\n",
              "        }    #T_5c0af56a_5793_11e8_a852_0242ac110002row0_col3 {\n",
              "            background-color:  #ffe5e5;\n",
              "        }    #T_5c0af56a_5793_11e8_a852_0242ac110002row1_col0 {\n",
              "            background-color:  #ffe5e5;\n",
              "        }    #T_5c0af56a_5793_11e8_a852_0242ac110002row1_col1 {\n",
              "            background-color:  #ffe5e5;\n",
              "        }    #T_5c0af56a_5793_11e8_a852_0242ac110002row1_col2 {\n",
              "            background-color:  #ffdcdc;\n",
              "        }    #T_5c0af56a_5793_11e8_a852_0242ac110002row1_col3 {\n",
              "            background-color:  #ffe5e5;\n",
              "        }    #T_5c0af56a_5793_11e8_a852_0242ac110002row2_col0 {\n",
              "            background-color:  #ffe5e5;\n",
              "        }    #T_5c0af56a_5793_11e8_a852_0242ac110002row2_col1 {\n",
              "            background-color:  #ffe5e5;\n",
              "        }    #T_5c0af56a_5793_11e8_a852_0242ac110002row2_col2 {\n",
              "            background-color:  #ffbcbc;\n",
              "        }    #T_5c0af56a_5793_11e8_a852_0242ac110002row2_col3 {\n",
              "            background-color:  #ffe5e5;\n",
              "        }    #T_5c0af56a_5793_11e8_a852_0242ac110002row3_col0 {\n",
              "            background-color:  #ffe5e5;\n",
              "        }    #T_5c0af56a_5793_11e8_a852_0242ac110002row3_col1 {\n",
              "            background-color:  #ffe5e5;\n",
              "        }    #T_5c0af56a_5793_11e8_a852_0242ac110002row3_col2 {\n",
              "            background-color:  #ffdcdc;\n",
              "        }    #T_5c0af56a_5793_11e8_a852_0242ac110002row3_col3 {\n",
              "            background-color:  #ffe5e5;\n",
              "        }    #T_5c0af56a_5793_11e8_a852_0242ac110002row4_col0 {\n",
              "            background-color:  #ffe5e5;\n",
              "        }    #T_5c0af56a_5793_11e8_a852_0242ac110002row4_col1 {\n",
              "            background-color:  #ffe5e5;\n",
              "        }    #T_5c0af56a_5793_11e8_a852_0242ac110002row4_col2 {\n",
              "            background-color:  #ffe5e5;\n",
              "        }    #T_5c0af56a_5793_11e8_a852_0242ac110002row4_col3 {\n",
              "            background-color:  #ffe5e5;\n",
              "        }    #T_5c0af56a_5793_11e8_a852_0242ac110002row5_col0 {\n",
              "            background-color:  #ffe5e5;\n",
              "        }    #T_5c0af56a_5793_11e8_a852_0242ac110002row5_col1 {\n",
              "            background-color:  #ffe5e5;\n",
              "        }    #T_5c0af56a_5793_11e8_a852_0242ac110002row5_col2 {\n",
              "            background-color:  #ffe4e4;\n",
              "        }    #T_5c0af56a_5793_11e8_a852_0242ac110002row5_col3 {\n",
              "            background-color:  #ffe5e5;\n",
              "        }    #T_5c0af56a_5793_11e8_a852_0242ac110002row6_col0 {\n",
              "            background-color:  #ffe5e5;\n",
              "        }    #T_5c0af56a_5793_11e8_a852_0242ac110002row6_col1 {\n",
              "            background-color:  #ffe5e5;\n",
              "        }    #T_5c0af56a_5793_11e8_a852_0242ac110002row6_col2 {\n",
              "            background-color:  #ffe5e5;\n",
              "        }    #T_5c0af56a_5793_11e8_a852_0242ac110002row6_col3 {\n",
              "            background-color:  #ffe5e5;\n",
              "        }    #T_5c0af56a_5793_11e8_a852_0242ac110002row7_col0 {\n",
              "            background-color:  #ffe5e5;\n",
              "        }    #T_5c0af56a_5793_11e8_a852_0242ac110002row7_col1 {\n",
              "            background-color:  #ffe4e4;\n",
              "        }    #T_5c0af56a_5793_11e8_a852_0242ac110002row7_col2 {\n",
              "            background-color:  #ffc1c1;\n",
              "        }    #T_5c0af56a_5793_11e8_a852_0242ac110002row7_col3 {\n",
              "            background-color:  #ffe5e5;\n",
              "        }    #T_5c0af56a_5793_11e8_a852_0242ac110002row8_col0 {\n",
              "            background-color:  #ffe5e5;\n",
              "        }    #T_5c0af56a_5793_11e8_a852_0242ac110002row8_col1 {\n",
              "            background-color:  #ffe5e5;\n",
              "        }    #T_5c0af56a_5793_11e8_a852_0242ac110002row8_col2 {\n",
              "            background-color:  #ffe5e5;\n",
              "        }    #T_5c0af56a_5793_11e8_a852_0242ac110002row8_col3 {\n",
              "            background-color:  #ffe5e5;\n",
              "        }    #T_5c0af56a_5793_11e8_a852_0242ac110002row9_col0 {\n",
              "            background-color:  #ffe3e3;\n",
              "        }    #T_5c0af56a_5793_11e8_a852_0242ac110002row9_col1 {\n",
              "            background-color:  #ffe4e4;\n",
              "        }    #T_5c0af56a_5793_11e8_a852_0242ac110002row9_col2 {\n",
              "            background-color:  #ffe2e2;\n",
              "        }    #T_5c0af56a_5793_11e8_a852_0242ac110002row9_col3 {\n",
              "            background-color:  #ffe5e5;\n",
              "        }    #T_5c0af56a_5793_11e8_a852_0242ac110002row10_col0 {\n",
              "            background-color:  #ffe5e5;\n",
              "        }    #T_5c0af56a_5793_11e8_a852_0242ac110002row10_col1 {\n",
              "            background-color:  #ffe5e5;\n",
              "        }    #T_5c0af56a_5793_11e8_a852_0242ac110002row10_col2 {\n",
              "            background-color:  #ffe5e5;\n",
              "        }    #T_5c0af56a_5793_11e8_a852_0242ac110002row10_col3 {\n",
              "            background-color:  #ffe5e5;\n",
              "        }    #T_5c0af56a_5793_11e8_a852_0242ac110002row11_col0 {\n",
              "            background-color:  #ffe3e3;\n",
              "        }    #T_5c0af56a_5793_11e8_a852_0242ac110002row11_col1 {\n",
              "            background-color:  #ffe5e5;\n",
              "        }    #T_5c0af56a_5793_11e8_a852_0242ac110002row11_col2 {\n",
              "            background-color:  #ff3a3a;\n",
              "        }    #T_5c0af56a_5793_11e8_a852_0242ac110002row11_col3 {\n",
              "            background-color:  #ffe5e5;\n",
              "        }    #T_5c0af56a_5793_11e8_a852_0242ac110002row12_col0 {\n",
              "            background-color:  #ffe5e5;\n",
              "        }    #T_5c0af56a_5793_11e8_a852_0242ac110002row12_col1 {\n",
              "            background-color:  #ffe5e5;\n",
              "        }    #T_5c0af56a_5793_11e8_a852_0242ac110002row12_col2 {\n",
              "            background-color:  #ffdfdf;\n",
              "        }    #T_5c0af56a_5793_11e8_a852_0242ac110002row12_col3 {\n",
              "            background-color:  #ffe5e5;\n",
              "        }    #T_5c0af56a_5793_11e8_a852_0242ac110002row13_col0 {\n",
              "            background-color:  #ffe5e5;\n",
              "        }    #T_5c0af56a_5793_11e8_a852_0242ac110002row13_col1 {\n",
              "            background-color:  #ffe5e5;\n",
              "        }    #T_5c0af56a_5793_11e8_a852_0242ac110002row13_col2 {\n",
              "            background-color:  #ffe5e5;\n",
              "        }    #T_5c0af56a_5793_11e8_a852_0242ac110002row13_col3 {\n",
              "            background-color:  #ffe5e5;\n",
              "        }    #T_5c0af56a_5793_11e8_a852_0242ac110002row14_col0 {\n",
              "            background-color:  #ffe5e5;\n",
              "        }    #T_5c0af56a_5793_11e8_a852_0242ac110002row14_col1 {\n",
              "            background-color:  #ffe5e5;\n",
              "        }    #T_5c0af56a_5793_11e8_a852_0242ac110002row14_col2 {\n",
              "            background-color:  #ffe5e5;\n",
              "        }    #T_5c0af56a_5793_11e8_a852_0242ac110002row14_col3 {\n",
              "            background-color:  #ffe5e5;\n",
              "        }    #T_5c0af56a_5793_11e8_a852_0242ac110002row15_col0 {\n",
              "            background-color:  #ff0000;\n",
              "        }    #T_5c0af56a_5793_11e8_a852_0242ac110002row15_col1 {\n",
              "            background-color:  #ffe5e5;\n",
              "        }    #T_5c0af56a_5793_11e8_a852_0242ac110002row15_col2 {\n",
              "            background-color:  #ffbebe;\n",
              "        }    #T_5c0af56a_5793_11e8_a852_0242ac110002row15_col3 {\n",
              "            background-color:  #ffe5e5;\n",
              "        }    #T_5c0af56a_5793_11e8_a852_0242ac110002row16_col0 {\n",
              "            background-color:  #ffe5e5;\n",
              "        }    #T_5c0af56a_5793_11e8_a852_0242ac110002row16_col1 {\n",
              "            background-color:  #ffe5e5;\n",
              "        }    #T_5c0af56a_5793_11e8_a852_0242ac110002row16_col2 {\n",
              "            background-color:  #ffe5e5;\n",
              "        }    #T_5c0af56a_5793_11e8_a852_0242ac110002row16_col3 {\n",
              "            background-color:  #ffe5e5;\n",
              "        }    #T_5c0af56a_5793_11e8_a852_0242ac110002row17_col0 {\n",
              "            background-color:  #ffe5e5;\n",
              "        }    #T_5c0af56a_5793_11e8_a852_0242ac110002row17_col1 {\n",
              "            background-color:  #ffe5e5;\n",
              "        }    #T_5c0af56a_5793_11e8_a852_0242ac110002row17_col2 {\n",
              "            background-color:  #ffe2e2;\n",
              "        }    #T_5c0af56a_5793_11e8_a852_0242ac110002row17_col3 {\n",
              "            background-color:  #ffe5e5;\n",
              "        }    #T_5c0af56a_5793_11e8_a852_0242ac110002row18_col0 {\n",
              "            background-color:  #ffe5e5;\n",
              "        }    #T_5c0af56a_5793_11e8_a852_0242ac110002row18_col1 {\n",
              "            background-color:  #ffe5e5;\n",
              "        }    #T_5c0af56a_5793_11e8_a852_0242ac110002row18_col2 {\n",
              "            background-color:  #ffe5e5;\n",
              "        }    #T_5c0af56a_5793_11e8_a852_0242ac110002row18_col3 {\n",
              "            background-color:  #ffe5e5;\n",
              "        }    #T_5c0af56a_5793_11e8_a852_0242ac110002row19_col0 {\n",
              "            background-color:  #ffe5e5;\n",
              "        }    #T_5c0af56a_5793_11e8_a852_0242ac110002row19_col1 {\n",
              "            background-color:  #ffe5e5;\n",
              "        }    #T_5c0af56a_5793_11e8_a852_0242ac110002row19_col2 {\n",
              "            background-color:  #ffe5e5;\n",
              "        }    #T_5c0af56a_5793_11e8_a852_0242ac110002row19_col3 {\n",
              "            background-color:  #ffe5e5;\n",
              "        }    #T_5c0af56a_5793_11e8_a852_0242ac110002row20_col0 {\n",
              "            background-color:  #ffd2d2;\n",
              "        }    #T_5c0af56a_5793_11e8_a852_0242ac110002row20_col1 {\n",
              "            background-color:  #ffdddd;\n",
              "        }    #T_5c0af56a_5793_11e8_a852_0242ac110002row20_col2 {\n",
              "            background-color:  #ffc4c4;\n",
              "        }    #T_5c0af56a_5793_11e8_a852_0242ac110002row20_col3 {\n",
              "            background-color:  #ffe5e5;\n",
              "        }    #T_5c0af56a_5793_11e8_a852_0242ac110002row21_col0 {\n",
              "            background-color:  #ffe5e5;\n",
              "        }    #T_5c0af56a_5793_11e8_a852_0242ac110002row21_col1 {\n",
              "            background-color:  #ffe5e5;\n",
              "        }    #T_5c0af56a_5793_11e8_a852_0242ac110002row21_col2 {\n",
              "            background-color:  #ffdddd;\n",
              "        }    #T_5c0af56a_5793_11e8_a852_0242ac110002row21_col3 {\n",
              "            background-color:  #ffe5e5;\n",
              "        }    #T_5c0af56a_5793_11e8_a852_0242ac110002row22_col0 {\n",
              "            background-color:  #ff5d5d;\n",
              "        }    #T_5c0af56a_5793_11e8_a852_0242ac110002row22_col1 {\n",
              "            background-color:  #ffe3e3;\n",
              "        }    #T_5c0af56a_5793_11e8_a852_0242ac110002row22_col2 {\n",
              "            background-color:  #ff5252;\n",
              "        }    #T_5c0af56a_5793_11e8_a852_0242ac110002row22_col3 {\n",
              "            background-color:  #ffe5e5;\n",
              "        }    #T_5c0af56a_5793_11e8_a852_0242ac110002row23_col0 {\n",
              "            background-color:  #ffe5e5;\n",
              "        }    #T_5c0af56a_5793_11e8_a852_0242ac110002row23_col1 {\n",
              "            background-color:  #ffe5e5;\n",
              "        }    #T_5c0af56a_5793_11e8_a852_0242ac110002row23_col2 {\n",
              "            background-color:  #ffdbdb;\n",
              "        }    #T_5c0af56a_5793_11e8_a852_0242ac110002row23_col3 {\n",
              "            background-color:  #ffe5e5;\n",
              "        }    #T_5c0af56a_5793_11e8_a852_0242ac110002row24_col0 {\n",
              "            background-color:  #ffe3e3;\n",
              "        }    #T_5c0af56a_5793_11e8_a852_0242ac110002row24_col1 {\n",
              "            background-color:  #ffe1e1;\n",
              "        }    #T_5c0af56a_5793_11e8_a852_0242ac110002row24_col2 {\n",
              "            background-color:  #ffe2e2;\n",
              "        }    #T_5c0af56a_5793_11e8_a852_0242ac110002row24_col3 {\n",
              "            background-color:  #ffe5e5;\n",
              "        }    #T_5c0af56a_5793_11e8_a852_0242ac110002row25_col0 {\n",
              "            background-color:  #ffe5e5;\n",
              "        }    #T_5c0af56a_5793_11e8_a852_0242ac110002row25_col1 {\n",
              "            background-color:  #ffe5e5;\n",
              "        }    #T_5c0af56a_5793_11e8_a852_0242ac110002row25_col2 {\n",
              "            background-color:  #ffe5e5;\n",
              "        }    #T_5c0af56a_5793_11e8_a852_0242ac110002row25_col3 {\n",
              "            background-color:  #ffe5e5;\n",
              "        }    #T_5c0af56a_5793_11e8_a852_0242ac110002row26_col0 {\n",
              "            background-color:  #ffe0e0;\n",
              "        }    #T_5c0af56a_5793_11e8_a852_0242ac110002row26_col1 {\n",
              "            background-color:  #ffe5e5;\n",
              "        }    #T_5c0af56a_5793_11e8_a852_0242ac110002row26_col2 {\n",
              "            background-color:  #ffc4c4;\n",
              "        }    #T_5c0af56a_5793_11e8_a852_0242ac110002row26_col3 {\n",
              "            background-color:  #ffe5e5;\n",
              "        }    #T_5c0af56a_5793_11e8_a852_0242ac110002row27_col0 {\n",
              "            background-color:  #ffe5e5;\n",
              "        }    #T_5c0af56a_5793_11e8_a852_0242ac110002row27_col1 {\n",
              "            background-color:  #ffe5e5;\n",
              "        }    #T_5c0af56a_5793_11e8_a852_0242ac110002row27_col2 {\n",
              "            background-color:  #ffd7d7;\n",
              "        }    #T_5c0af56a_5793_11e8_a852_0242ac110002row27_col3 {\n",
              "            background-color:  #ffe5e5;\n",
              "        }    #T_5c0af56a_5793_11e8_a852_0242ac110002row28_col0 {\n",
              "            background-color:  #ffd3d3;\n",
              "        }    #T_5c0af56a_5793_11e8_a852_0242ac110002row28_col1 {\n",
              "            background-color:  #ffe5e5;\n",
              "        }    #T_5c0af56a_5793_11e8_a852_0242ac110002row28_col2 {\n",
              "            background-color:  #ffcdcd;\n",
              "        }    #T_5c0af56a_5793_11e8_a852_0242ac110002row28_col3 {\n",
              "            background-color:  #ffe5e5;\n",
              "        }    #T_5c0af56a_5793_11e8_a852_0242ac110002row29_col0 {\n",
              "            background-color:  #ff7878;\n",
              "        }    #T_5c0af56a_5793_11e8_a852_0242ac110002row29_col1 {\n",
              "            background-color:  #ffe5e5;\n",
              "        }    #T_5c0af56a_5793_11e8_a852_0242ac110002row29_col2 {\n",
              "            background-color:  #ffcfcf;\n",
              "        }    #T_5c0af56a_5793_11e8_a852_0242ac110002row29_col3 {\n",
              "            background-color:  #ffe5e5;\n",
              "        }    #T_5c0af56a_5793_11e8_a852_0242ac110002row30_col0 {\n",
              "            background-color:  #ffc3c3;\n",
              "        }    #T_5c0af56a_5793_11e8_a852_0242ac110002row30_col1 {\n",
              "            background-color:  #ffe0e0;\n",
              "        }    #T_5c0af56a_5793_11e8_a852_0242ac110002row30_col2 {\n",
              "            background-color:  #ffe5e5;\n",
              "        }    #T_5c0af56a_5793_11e8_a852_0242ac110002row30_col3 {\n",
              "            background-color:  #ffe5e5;\n",
              "        }    #T_5c0af56a_5793_11e8_a852_0242ac110002row31_col0 {\n",
              "            background-color:  #ffe5e5;\n",
              "        }    #T_5c0af56a_5793_11e8_a852_0242ac110002row31_col1 {\n",
              "            background-color:  #ffe5e5;\n",
              "        }    #T_5c0af56a_5793_11e8_a852_0242ac110002row31_col2 {\n",
              "            background-color:  #ffe1e1;\n",
              "        }    #T_5c0af56a_5793_11e8_a852_0242ac110002row31_col3 {\n",
              "            background-color:  #ffe5e5;\n",
              "        }    #T_5c0af56a_5793_11e8_a852_0242ac110002row32_col0 {\n",
              "            background-color:  #ffe5e5;\n",
              "        }    #T_5c0af56a_5793_11e8_a852_0242ac110002row32_col1 {\n",
              "            background-color:  #ffe5e5;\n",
              "        }    #T_5c0af56a_5793_11e8_a852_0242ac110002row32_col2 {\n",
              "            background-color:  #ffe5e5;\n",
              "        }    #T_5c0af56a_5793_11e8_a852_0242ac110002row32_col3 {\n",
              "            background-color:  #ffe5e5;\n",
              "        }    #T_5c0af56a_5793_11e8_a852_0242ac110002row33_col0 {\n",
              "            background-color:  #ffe5e5;\n",
              "        }    #T_5c0af56a_5793_11e8_a852_0242ac110002row33_col1 {\n",
              "            background-color:  #ffe5e5;\n",
              "        }    #T_5c0af56a_5793_11e8_a852_0242ac110002row33_col2 {\n",
              "            background-color:  #ffd1d1;\n",
              "        }    #T_5c0af56a_5793_11e8_a852_0242ac110002row33_col3 {\n",
              "            background-color:  #ffe5e5;\n",
              "        }    #T_5c0af56a_5793_11e8_a852_0242ac110002row34_col0 {\n",
              "            background-color:  #ff4646;\n",
              "        }    #T_5c0af56a_5793_11e8_a852_0242ac110002row34_col1 {\n",
              "            background-color:  #ffc7c7;\n",
              "        }    #T_5c0af56a_5793_11e8_a852_0242ac110002row34_col2 {\n",
              "            background-color:  #ff0000;\n",
              "        }    #T_5c0af56a_5793_11e8_a852_0242ac110002row34_col3 {\n",
              "            background-color:  #ff0000;\n",
              "        }    #T_5c0af56a_5793_11e8_a852_0242ac110002row35_col0 {\n",
              "            background-color:  #ffe5e5;\n",
              "        }    #T_5c0af56a_5793_11e8_a852_0242ac110002row35_col1 {\n",
              "            background-color:  #ffe5e5;\n",
              "        }    #T_5c0af56a_5793_11e8_a852_0242ac110002row35_col2 {\n",
              "            background-color:  #ffdfdf;\n",
              "        }    #T_5c0af56a_5793_11e8_a852_0242ac110002row35_col3 {\n",
              "            background-color:  #ffe5e5;\n",
              "        }    #T_5c0af56a_5793_11e8_a852_0242ac110002row36_col0 {\n",
              "            background-color:  #ffe5e5;\n",
              "        }    #T_5c0af56a_5793_11e8_a852_0242ac110002row36_col1 {\n",
              "            background-color:  #ffe5e5;\n",
              "        }    #T_5c0af56a_5793_11e8_a852_0242ac110002row36_col2 {\n",
              "            background-color:  #ffcbcb;\n",
              "        }    #T_5c0af56a_5793_11e8_a852_0242ac110002row36_col3 {\n",
              "            background-color:  #ffe5e5;\n",
              "        }    #T_5c0af56a_5793_11e8_a852_0242ac110002row37_col0 {\n",
              "            background-color:  #ffcdcd;\n",
              "        }    #T_5c0af56a_5793_11e8_a852_0242ac110002row37_col1 {\n",
              "            background-color:  #ffe5e5;\n",
              "        }    #T_5c0af56a_5793_11e8_a852_0242ac110002row37_col2 {\n",
              "            background-color:  #ffe5e5;\n",
              "        }    #T_5c0af56a_5793_11e8_a852_0242ac110002row37_col3 {\n",
              "            background-color:  #ffe5e5;\n",
              "        }    #T_5c0af56a_5793_11e8_a852_0242ac110002row38_col0 {\n",
              "            background-color:  #ffe5e5;\n",
              "        }    #T_5c0af56a_5793_11e8_a852_0242ac110002row38_col1 {\n",
              "            background-color:  #ffe5e5;\n",
              "        }    #T_5c0af56a_5793_11e8_a852_0242ac110002row38_col2 {\n",
              "            background-color:  #ffbaba;\n",
              "        }    #T_5c0af56a_5793_11e8_a852_0242ac110002row38_col3 {\n",
              "            background-color:  #ffe5e5;\n",
              "        }    #T_5c0af56a_5793_11e8_a852_0242ac110002row39_col0 {\n",
              "            background-color:  #ffe5e5;\n",
              "        }    #T_5c0af56a_5793_11e8_a852_0242ac110002row39_col1 {\n",
              "            background-color:  #ffe5e5;\n",
              "        }    #T_5c0af56a_5793_11e8_a852_0242ac110002row39_col2 {\n",
              "            background-color:  #ffe4e4;\n",
              "        }    #T_5c0af56a_5793_11e8_a852_0242ac110002row39_col3 {\n",
              "            background-color:  #ffe5e5;\n",
              "        }    #T_5c0af56a_5793_11e8_a852_0242ac110002row40_col0 {\n",
              "            background-color:  #ffe5e5;\n",
              "        }    #T_5c0af56a_5793_11e8_a852_0242ac110002row40_col1 {\n",
              "            background-color:  #ffe1e1;\n",
              "        }    #T_5c0af56a_5793_11e8_a852_0242ac110002row40_col2 {\n",
              "            background-color:  #ffe5e5;\n",
              "        }    #T_5c0af56a_5793_11e8_a852_0242ac110002row40_col3 {\n",
              "            background-color:  #ffe5e5;\n",
              "        }    #T_5c0af56a_5793_11e8_a852_0242ac110002row41_col0 {\n",
              "            background-color:  #ffe5e5;\n",
              "        }    #T_5c0af56a_5793_11e8_a852_0242ac110002row41_col1 {\n",
              "            background-color:  #ffe3e3;\n",
              "        }    #T_5c0af56a_5793_11e8_a852_0242ac110002row41_col2 {\n",
              "            background-color:  #ffdddd;\n",
              "        }    #T_5c0af56a_5793_11e8_a852_0242ac110002row41_col3 {\n",
              "            background-color:  #ffe5e5;\n",
              "        }    #T_5c0af56a_5793_11e8_a852_0242ac110002row42_col0 {\n",
              "            background-color:  #ffe2e2;\n",
              "        }    #T_5c0af56a_5793_11e8_a852_0242ac110002row42_col1 {\n",
              "            background-color:  #ffe5e5;\n",
              "        }    #T_5c0af56a_5793_11e8_a852_0242ac110002row42_col2 {\n",
              "            background-color:  #ffe4e4;\n",
              "        }    #T_5c0af56a_5793_11e8_a852_0242ac110002row42_col3 {\n",
              "            background-color:  #ffe5e5;\n",
              "        }    #T_5c0af56a_5793_11e8_a852_0242ac110002row43_col0 {\n",
              "            background-color:  #ffacac;\n",
              "        }    #T_5c0af56a_5793_11e8_a852_0242ac110002row43_col1 {\n",
              "            background-color:  #ffe5e5;\n",
              "        }    #T_5c0af56a_5793_11e8_a852_0242ac110002row43_col2 {\n",
              "            background-color:  #ffdbdb;\n",
              "        }    #T_5c0af56a_5793_11e8_a852_0242ac110002row43_col3 {\n",
              "            background-color:  #ffe5e5;\n",
              "        }    #T_5c0af56a_5793_11e8_a852_0242ac110002row44_col0 {\n",
              "            background-color:  #ffe5e5;\n",
              "        }    #T_5c0af56a_5793_11e8_a852_0242ac110002row44_col1 {\n",
              "            background-color:  #ffe5e5;\n",
              "        }    #T_5c0af56a_5793_11e8_a852_0242ac110002row44_col2 {\n",
              "            background-color:  #ffe5e5;\n",
              "        }    #T_5c0af56a_5793_11e8_a852_0242ac110002row44_col3 {\n",
              "            background-color:  #ffe5e5;\n",
              "        }    #T_5c0af56a_5793_11e8_a852_0242ac110002row45_col0 {\n",
              "            background-color:  #ffdede;\n",
              "        }    #T_5c0af56a_5793_11e8_a852_0242ac110002row45_col1 {\n",
              "            background-color:  #ffe3e3;\n",
              "        }    #T_5c0af56a_5793_11e8_a852_0242ac110002row45_col2 {\n",
              "            background-color:  #ffd5d5;\n",
              "        }    #T_5c0af56a_5793_11e8_a852_0242ac110002row45_col3 {\n",
              "            background-color:  #ffe5e5;\n",
              "        }    #T_5c0af56a_5793_11e8_a852_0242ac110002row46_col0 {\n",
              "            background-color:  #ffe5e5;\n",
              "        }    #T_5c0af56a_5793_11e8_a852_0242ac110002row46_col1 {\n",
              "            background-color:  #ffe5e5;\n",
              "        }    #T_5c0af56a_5793_11e8_a852_0242ac110002row46_col2 {\n",
              "            background-color:  #ffe5e5;\n",
              "        }    #T_5c0af56a_5793_11e8_a852_0242ac110002row46_col3 {\n",
              "            background-color:  #ffe5e5;\n",
              "        }    #T_5c0af56a_5793_11e8_a852_0242ac110002row47_col0 {\n",
              "            background-color:  #ffe5e5;\n",
              "        }    #T_5c0af56a_5793_11e8_a852_0242ac110002row47_col1 {\n",
              "            background-color:  #ffe5e5;\n",
              "        }    #T_5c0af56a_5793_11e8_a852_0242ac110002row47_col2 {\n",
              "            background-color:  #ffe1e1;\n",
              "        }    #T_5c0af56a_5793_11e8_a852_0242ac110002row47_col3 {\n",
              "            background-color:  #ffe5e5;\n",
              "        }    #T_5c0af56a_5793_11e8_a852_0242ac110002row48_col0 {\n",
              "            background-color:  #ffe5e5;\n",
              "        }    #T_5c0af56a_5793_11e8_a852_0242ac110002row48_col1 {\n",
              "            background-color:  #ffe5e5;\n",
              "        }    #T_5c0af56a_5793_11e8_a852_0242ac110002row48_col2 {\n",
              "            background-color:  #ffd5d5;\n",
              "        }    #T_5c0af56a_5793_11e8_a852_0242ac110002row48_col3 {\n",
              "            background-color:  #ffe5e5;\n",
              "        }    #T_5c0af56a_5793_11e8_a852_0242ac110002row49_col0 {\n",
              "            background-color:  #ffcccc;\n",
              "        }    #T_5c0af56a_5793_11e8_a852_0242ac110002row49_col1 {\n",
              "            background-color:  #ffe5e5;\n",
              "        }    #T_5c0af56a_5793_11e8_a852_0242ac110002row49_col2 {\n",
              "            background-color:  #ffe5e5;\n",
              "        }    #T_5c0af56a_5793_11e8_a852_0242ac110002row49_col3 {\n",
              "            background-color:  #ffe5e5;\n",
              "        }    #T_5c0af56a_5793_11e8_a852_0242ac110002row50_col0 {\n",
              "            background-color:  #ffe5e5;\n",
              "        }    #T_5c0af56a_5793_11e8_a852_0242ac110002row50_col1 {\n",
              "            background-color:  #ffe5e5;\n",
              "        }    #T_5c0af56a_5793_11e8_a852_0242ac110002row50_col2 {\n",
              "            background-color:  #ffe5e5;\n",
              "        }    #T_5c0af56a_5793_11e8_a852_0242ac110002row50_col3 {\n",
              "            background-color:  #ffe5e5;\n",
              "        }    #T_5c0af56a_5793_11e8_a852_0242ac110002row51_col0 {\n",
              "            background-color:  #ffe5e5;\n",
              "        }    #T_5c0af56a_5793_11e8_a852_0242ac110002row51_col1 {\n",
              "            background-color:  #ffe5e5;\n",
              "        }    #T_5c0af56a_5793_11e8_a852_0242ac110002row51_col2 {\n",
              "            background-color:  #ffe3e3;\n",
              "        }    #T_5c0af56a_5793_11e8_a852_0242ac110002row51_col3 {\n",
              "            background-color:  #ffe5e5;\n",
              "        }    #T_5c0af56a_5793_11e8_a852_0242ac110002row52_col0 {\n",
              "            background-color:  #ffdada;\n",
              "        }    #T_5c0af56a_5793_11e8_a852_0242ac110002row52_col1 {\n",
              "            background-color:  #ffe1e1;\n",
              "        }    #T_5c0af56a_5793_11e8_a852_0242ac110002row52_col2 {\n",
              "            background-color:  #ffbdbd;\n",
              "        }    #T_5c0af56a_5793_11e8_a852_0242ac110002row52_col3 {\n",
              "            background-color:  #ffe5e5;\n",
              "        }    #T_5c0af56a_5793_11e8_a852_0242ac110002row53_col0 {\n",
              "            background-color:  #ff3c3c;\n",
              "        }    #T_5c0af56a_5793_11e8_a852_0242ac110002row53_col1 {\n",
              "            background-color:  #ffe5e5;\n",
              "        }    #T_5c0af56a_5793_11e8_a852_0242ac110002row53_col2 {\n",
              "            background-color:  #ffe5e5;\n",
              "        }    #T_5c0af56a_5793_11e8_a852_0242ac110002row53_col3 {\n",
              "            background-color:  #ffe5e5;\n",
              "        }    #T_5c0af56a_5793_11e8_a852_0242ac110002row54_col0 {\n",
              "            background-color:  #ffe5e5;\n",
              "        }    #T_5c0af56a_5793_11e8_a852_0242ac110002row54_col1 {\n",
              "            background-color:  #ffdcdc;\n",
              "        }    #T_5c0af56a_5793_11e8_a852_0242ac110002row54_col2 {\n",
              "            background-color:  #ff8080;\n",
              "        }    #T_5c0af56a_5793_11e8_a852_0242ac110002row54_col3 {\n",
              "            background-color:  #ffe5e5;\n",
              "        }    #T_5c0af56a_5793_11e8_a852_0242ac110002row55_col0 {\n",
              "            background-color:  #ffe5e5;\n",
              "        }    #T_5c0af56a_5793_11e8_a852_0242ac110002row55_col1 {\n",
              "            background-color:  #ffe5e5;\n",
              "        }    #T_5c0af56a_5793_11e8_a852_0242ac110002row55_col2 {\n",
              "            background-color:  #ffbdbd;\n",
              "        }    #T_5c0af56a_5793_11e8_a852_0242ac110002row55_col3 {\n",
              "            background-color:  #ffe5e5;\n",
              "        }    #T_5c0af56a_5793_11e8_a852_0242ac110002row56_col0 {\n",
              "            background-color:  #ffe5e5;\n",
              "        }    #T_5c0af56a_5793_11e8_a852_0242ac110002row56_col1 {\n",
              "            background-color:  #ffe5e5;\n",
              "        }    #T_5c0af56a_5793_11e8_a852_0242ac110002row56_col2 {\n",
              "            background-color:  #ffe5e5;\n",
              "        }    #T_5c0af56a_5793_11e8_a852_0242ac110002row56_col3 {\n",
              "            background-color:  #ffe5e5;\n",
              "        }    #T_5c0af56a_5793_11e8_a852_0242ac110002row57_col0 {\n",
              "            background-color:  #ffe5e5;\n",
              "        }    #T_5c0af56a_5793_11e8_a852_0242ac110002row57_col1 {\n",
              "            background-color:  #ffdddd;\n",
              "        }    #T_5c0af56a_5793_11e8_a852_0242ac110002row57_col2 {\n",
              "            background-color:  #ffc5c5;\n",
              "        }    #T_5c0af56a_5793_11e8_a852_0242ac110002row57_col3 {\n",
              "            background-color:  #ffe5e5;\n",
              "        }    #T_5c0af56a_5793_11e8_a852_0242ac110002row58_col0 {\n",
              "            background-color:  #ffb8b8;\n",
              "        }    #T_5c0af56a_5793_11e8_a852_0242ac110002row58_col1 {\n",
              "            background-color:  #ffdada;\n",
              "        }    #T_5c0af56a_5793_11e8_a852_0242ac110002row58_col2 {\n",
              "            background-color:  #ffaaaa;\n",
              "        }    #T_5c0af56a_5793_11e8_a852_0242ac110002row58_col3 {\n",
              "            background-color:  #ffe5e5;\n",
              "        }    #T_5c0af56a_5793_11e8_a852_0242ac110002row59_col0 {\n",
              "            background-color:  #ffc9c9;\n",
              "        }    #T_5c0af56a_5793_11e8_a852_0242ac110002row59_col1 {\n",
              "            background-color:  #ff0000;\n",
              "        }    #T_5c0af56a_5793_11e8_a852_0242ac110002row59_col2 {\n",
              "            background-color:  #ffa1a1;\n",
              "        }    #T_5c0af56a_5793_11e8_a852_0242ac110002row59_col3 {\n",
              "            background-color:  #ffe5e5;\n",
              "        }    #T_5c0af56a_5793_11e8_a852_0242ac110002row60_col0 {\n",
              "            background-color:  #ffe5e5;\n",
              "        }    #T_5c0af56a_5793_11e8_a852_0242ac110002row60_col1 {\n",
              "            background-color:  #ffe5e5;\n",
              "        }    #T_5c0af56a_5793_11e8_a852_0242ac110002row60_col2 {\n",
              "            background-color:  #ffe5e5;\n",
              "        }    #T_5c0af56a_5793_11e8_a852_0242ac110002row60_col3 {\n",
              "            background-color:  #ffe5e5;\n",
              "        }    #T_5c0af56a_5793_11e8_a852_0242ac110002row61_col0 {\n",
              "            background-color:  #ffd6d6;\n",
              "        }    #T_5c0af56a_5793_11e8_a852_0242ac110002row61_col1 {\n",
              "            background-color:  #ffdfdf;\n",
              "        }    #T_5c0af56a_5793_11e8_a852_0242ac110002row61_col2 {\n",
              "            background-color:  #ffdede;\n",
              "        }    #T_5c0af56a_5793_11e8_a852_0242ac110002row61_col3 {\n",
              "            background-color:  #ffe5e5;\n",
              "        }    #T_5c0af56a_5793_11e8_a852_0242ac110002row62_col0 {\n",
              "            background-color:  #ffe5e5;\n",
              "        }    #T_5c0af56a_5793_11e8_a852_0242ac110002row62_col1 {\n",
              "            background-color:  #ffe5e5;\n",
              "        }    #T_5c0af56a_5793_11e8_a852_0242ac110002row62_col2 {\n",
              "            background-color:  #ffe5e5;\n",
              "        }    #T_5c0af56a_5793_11e8_a852_0242ac110002row62_col3 {\n",
              "            background-color:  #ffe5e5;\n",
              "        }    #T_5c0af56a_5793_11e8_a852_0242ac110002row63_col0 {\n",
              "            background-color:  #ffe5e5;\n",
              "        }    #T_5c0af56a_5793_11e8_a852_0242ac110002row63_col1 {\n",
              "            background-color:  #ffdada;\n",
              "        }    #T_5c0af56a_5793_11e8_a852_0242ac110002row63_col2 {\n",
              "            background-color:  #ffe5e5;\n",
              "        }    #T_5c0af56a_5793_11e8_a852_0242ac110002row63_col3 {\n",
              "            background-color:  #ffe5e5;\n",
              "        }    #T_5c0af56a_5793_11e8_a852_0242ac110002row64_col0 {\n",
              "            background-color:  #ffe2e2;\n",
              "        }    #T_5c0af56a_5793_11e8_a852_0242ac110002row64_col1 {\n",
              "            background-color:  #ffe5e5;\n",
              "        }    #T_5c0af56a_5793_11e8_a852_0242ac110002row64_col2 {\n",
              "            background-color:  #ffd7d7;\n",
              "        }    #T_5c0af56a_5793_11e8_a852_0242ac110002row64_col3 {\n",
              "            background-color:  #ffe5e5;\n",
              "        }    #T_5c0af56a_5793_11e8_a852_0242ac110002row65_col0 {\n",
              "            background-color:  #ffe5e5;\n",
              "        }    #T_5c0af56a_5793_11e8_a852_0242ac110002row65_col1 {\n",
              "            background-color:  #ffe2e2;\n",
              "        }    #T_5c0af56a_5793_11e8_a852_0242ac110002row65_col2 {\n",
              "            background-color:  #ffd7d7;\n",
              "        }    #T_5c0af56a_5793_11e8_a852_0242ac110002row65_col3 {\n",
              "            background-color:  #ffe5e5;\n",
              "        }    #T_5c0af56a_5793_11e8_a852_0242ac110002row66_col0 {\n",
              "            background-color:  #ffe5e5;\n",
              "        }    #T_5c0af56a_5793_11e8_a852_0242ac110002row66_col1 {\n",
              "            background-color:  #ffe5e5;\n",
              "        }    #T_5c0af56a_5793_11e8_a852_0242ac110002row66_col2 {\n",
              "            background-color:  #ffe5e5;\n",
              "        }    #T_5c0af56a_5793_11e8_a852_0242ac110002row66_col3 {\n",
              "            background-color:  #ffe5e5;\n",
              "        }    #T_5c0af56a_5793_11e8_a852_0242ac110002row67_col0 {\n",
              "            background-color:  #ffe5e5;\n",
              "        }    #T_5c0af56a_5793_11e8_a852_0242ac110002row67_col1 {\n",
              "            background-color:  #ffe5e5;\n",
              "        }    #T_5c0af56a_5793_11e8_a852_0242ac110002row67_col2 {\n",
              "            background-color:  #ffe5e5;\n",
              "        }    #T_5c0af56a_5793_11e8_a852_0242ac110002row67_col3 {\n",
              "            background-color:  #ffe5e5;\n",
              "        }    #T_5c0af56a_5793_11e8_a852_0242ac110002row68_col0 {\n",
              "            background-color:  #ffe5e5;\n",
              "        }    #T_5c0af56a_5793_11e8_a852_0242ac110002row68_col1 {\n",
              "            background-color:  #ffe5e5;\n",
              "        }    #T_5c0af56a_5793_11e8_a852_0242ac110002row68_col2 {\n",
              "            background-color:  #ffe5e5;\n",
              "        }    #T_5c0af56a_5793_11e8_a852_0242ac110002row68_col3 {\n",
              "            background-color:  #ffe5e5;\n",
              "        }    #T_5c0af56a_5793_11e8_a852_0242ac110002row69_col0 {\n",
              "            background-color:  #ffe5e5;\n",
              "        }    #T_5c0af56a_5793_11e8_a852_0242ac110002row69_col1 {\n",
              "            background-color:  #ffe5e5;\n",
              "        }    #T_5c0af56a_5793_11e8_a852_0242ac110002row69_col2 {\n",
              "            background-color:  #ffe5e5;\n",
              "        }    #T_5c0af56a_5793_11e8_a852_0242ac110002row69_col3 {\n",
              "            background-color:  #ffe5e5;\n",
              "        }    #T_5c0af56a_5793_11e8_a852_0242ac110002row70_col0 {\n",
              "            background-color:  #ffe4e4;\n",
              "        }    #T_5c0af56a_5793_11e8_a852_0242ac110002row70_col1 {\n",
              "            background-color:  #ffe5e5;\n",
              "        }    #T_5c0af56a_5793_11e8_a852_0242ac110002row70_col2 {\n",
              "            background-color:  #ffe5e5;\n",
              "        }    #T_5c0af56a_5793_11e8_a852_0242ac110002row70_col3 {\n",
              "            background-color:  #ffe5e5;\n",
              "        }    #T_5c0af56a_5793_11e8_a852_0242ac110002row71_col0 {\n",
              "            background-color:  #ffe5e5;\n",
              "        }    #T_5c0af56a_5793_11e8_a852_0242ac110002row71_col1 {\n",
              "            background-color:  #ffe5e5;\n",
              "        }    #T_5c0af56a_5793_11e8_a852_0242ac110002row71_col2 {\n",
              "            background-color:  #ff8585;\n",
              "        }    #T_5c0af56a_5793_11e8_a852_0242ac110002row71_col3 {\n",
              "            background-color:  #ffe5e5;\n",
              "        }    #T_5c0af56a_5793_11e8_a852_0242ac110002row72_col0 {\n",
              "            background-color:  #ffe5e5;\n",
              "        }    #T_5c0af56a_5793_11e8_a852_0242ac110002row72_col1 {\n",
              "            background-color:  #ffe1e1;\n",
              "        }    #T_5c0af56a_5793_11e8_a852_0242ac110002row72_col2 {\n",
              "            background-color:  #ffdcdc;\n",
              "        }    #T_5c0af56a_5793_11e8_a852_0242ac110002row72_col3 {\n",
              "            background-color:  #ffe5e5;\n",
              "        }    #T_5c0af56a_5793_11e8_a852_0242ac110002row73_col0 {\n",
              "            background-color:  #ffe3e3;\n",
              "        }    #T_5c0af56a_5793_11e8_a852_0242ac110002row73_col1 {\n",
              "            background-color:  #ffe5e5;\n",
              "        }    #T_5c0af56a_5793_11e8_a852_0242ac110002row73_col2 {\n",
              "            background-color:  #ffe5e5;\n",
              "        }    #T_5c0af56a_5793_11e8_a852_0242ac110002row73_col3 {\n",
              "            background-color:  #ffe5e5;\n",
              "        }    #T_5c0af56a_5793_11e8_a852_0242ac110002row74_col0 {\n",
              "            background-color:  #ffe5e5;\n",
              "        }    #T_5c0af56a_5793_11e8_a852_0242ac110002row74_col1 {\n",
              "            background-color:  #ffe4e4;\n",
              "        }    #T_5c0af56a_5793_11e8_a852_0242ac110002row74_col2 {\n",
              "            background-color:  #ffdede;\n",
              "        }    #T_5c0af56a_5793_11e8_a852_0242ac110002row74_col3 {\n",
              "            background-color:  #ffe5e5;\n",
              "        }    #T_5c0af56a_5793_11e8_a852_0242ac110002row75_col0 {\n",
              "            background-color:  #ffe5e5;\n",
              "        }    #T_5c0af56a_5793_11e8_a852_0242ac110002row75_col1 {\n",
              "            background-color:  #ffe5e5;\n",
              "        }    #T_5c0af56a_5793_11e8_a852_0242ac110002row75_col2 {\n",
              "            background-color:  #ffd9d9;\n",
              "        }    #T_5c0af56a_5793_11e8_a852_0242ac110002row75_col3 {\n",
              "            background-color:  #ffe5e5;\n",
              "        }    #T_5c0af56a_5793_11e8_a852_0242ac110002row76_col0 {\n",
              "            background-color:  #ffe5e5;\n",
              "        }    #T_5c0af56a_5793_11e8_a852_0242ac110002row76_col1 {\n",
              "            background-color:  #ffdddd;\n",
              "        }    #T_5c0af56a_5793_11e8_a852_0242ac110002row76_col2 {\n",
              "            background-color:  #ffe3e3;\n",
              "        }    #T_5c0af56a_5793_11e8_a852_0242ac110002row76_col3 {\n",
              "            background-color:  #ffe5e5;\n",
              "        }    #T_5c0af56a_5793_11e8_a852_0242ac110002row77_col0 {\n",
              "            background-color:  #ffe5e5;\n",
              "        }    #T_5c0af56a_5793_11e8_a852_0242ac110002row77_col1 {\n",
              "            background-color:  #ffe3e3;\n",
              "        }    #T_5c0af56a_5793_11e8_a852_0242ac110002row77_col2 {\n",
              "            background-color:  #ffe5e5;\n",
              "        }    #T_5c0af56a_5793_11e8_a852_0242ac110002row77_col3 {\n",
              "            background-color:  #ffe5e5;\n",
              "        }    #T_5c0af56a_5793_11e8_a852_0242ac110002row78_col0 {\n",
              "            background-color:  #ffe4e4;\n",
              "        }    #T_5c0af56a_5793_11e8_a852_0242ac110002row78_col1 {\n",
              "            background-color:  #ffdbdb;\n",
              "        }    #T_5c0af56a_5793_11e8_a852_0242ac110002row78_col2 {\n",
              "            background-color:  #ffa4a4;\n",
              "        }    #T_5c0af56a_5793_11e8_a852_0242ac110002row78_col3 {\n",
              "            background-color:  #ffe5e5;\n",
              "        }    #T_5c0af56a_5793_11e8_a852_0242ac110002row79_col0 {\n",
              "            background-color:  #ffe5e5;\n",
              "        }    #T_5c0af56a_5793_11e8_a852_0242ac110002row79_col1 {\n",
              "            background-color:  #ffe5e5;\n",
              "        }    #T_5c0af56a_5793_11e8_a852_0242ac110002row79_col2 {\n",
              "            background-color:  #ffe1e1;\n",
              "        }    #T_5c0af56a_5793_11e8_a852_0242ac110002row79_col3 {\n",
              "            background-color:  #ffe5e5;\n",
              "        }    #T_5c0af56a_5793_11e8_a852_0242ac110002row80_col0 {\n",
              "            background-color:  #ffc4c4;\n",
              "        }    #T_5c0af56a_5793_11e8_a852_0242ac110002row80_col1 {\n",
              "            background-color:  #ffe5e5;\n",
              "        }    #T_5c0af56a_5793_11e8_a852_0242ac110002row80_col2 {\n",
              "            background-color:  #ffd2d2;\n",
              "        }    #T_5c0af56a_5793_11e8_a852_0242ac110002row80_col3 {\n",
              "            background-color:  #ffe5e5;\n",
              "        }    #T_5c0af56a_5793_11e8_a852_0242ac110002row81_col0 {\n",
              "            background-color:  #ffe5e5;\n",
              "        }    #T_5c0af56a_5793_11e8_a852_0242ac110002row81_col1 {\n",
              "            background-color:  #ffe5e5;\n",
              "        }    #T_5c0af56a_5793_11e8_a852_0242ac110002row81_col2 {\n",
              "            background-color:  #ffe5e5;\n",
              "        }    #T_5c0af56a_5793_11e8_a852_0242ac110002row81_col3 {\n",
              "            background-color:  #ffe5e5;\n",
              "        }    #T_5c0af56a_5793_11e8_a852_0242ac110002row82_col0 {\n",
              "            background-color:  #ffe5e5;\n",
              "        }    #T_5c0af56a_5793_11e8_a852_0242ac110002row82_col1 {\n",
              "            background-color:  #ffe3e3;\n",
              "        }    #T_5c0af56a_5793_11e8_a852_0242ac110002row82_col2 {\n",
              "            background-color:  #ffbbbb;\n",
              "        }    #T_5c0af56a_5793_11e8_a852_0242ac110002row82_col3 {\n",
              "            background-color:  #ffe5e5;\n",
              "        }    #T_5c0af56a_5793_11e8_a852_0242ac110002row83_col0 {\n",
              "            background-color:  #ffe5e5;\n",
              "        }    #T_5c0af56a_5793_11e8_a852_0242ac110002row83_col1 {\n",
              "            background-color:  #ffe5e5;\n",
              "        }    #T_5c0af56a_5793_11e8_a852_0242ac110002row83_col2 {\n",
              "            background-color:  #ffe5e5;\n",
              "        }    #T_5c0af56a_5793_11e8_a852_0242ac110002row83_col3 {\n",
              "            background-color:  #ffe5e5;\n",
              "        }    #T_5c0af56a_5793_11e8_a852_0242ac110002row84_col0 {\n",
              "            background-color:  #ffe5e5;\n",
              "        }    #T_5c0af56a_5793_11e8_a852_0242ac110002row84_col1 {\n",
              "            background-color:  #ffe5e5;\n",
              "        }    #T_5c0af56a_5793_11e8_a852_0242ac110002row84_col2 {\n",
              "            background-color:  #ffdddd;\n",
              "        }    #T_5c0af56a_5793_11e8_a852_0242ac110002row84_col3 {\n",
              "            background-color:  #ffe5e5;\n",
              "        }    #T_5c0af56a_5793_11e8_a852_0242ac110002row85_col0 {\n",
              "            background-color:  #ffdfdf;\n",
              "        }    #T_5c0af56a_5793_11e8_a852_0242ac110002row85_col1 {\n",
              "            background-color:  #ffe5e5;\n",
              "        }    #T_5c0af56a_5793_11e8_a852_0242ac110002row85_col2 {\n",
              "            background-color:  #ffe5e5;\n",
              "        }    #T_5c0af56a_5793_11e8_a852_0242ac110002row85_col3 {\n",
              "            background-color:  #ffe5e5;\n",
              "        }    #T_5c0af56a_5793_11e8_a852_0242ac110002row86_col0 {\n",
              "            background-color:  #ffe5e5;\n",
              "        }    #T_5c0af56a_5793_11e8_a852_0242ac110002row86_col1 {\n",
              "            background-color:  #ffe3e3;\n",
              "        }    #T_5c0af56a_5793_11e8_a852_0242ac110002row86_col2 {\n",
              "            background-color:  #ffdcdc;\n",
              "        }    #T_5c0af56a_5793_11e8_a852_0242ac110002row86_col3 {\n",
              "            background-color:  #ffe5e5;\n",
              "        }</style>  \n",
              "<table id=\"T_5c0af56a_5793_11e8_a852_0242ac110002\" > \n",
              "<thead>    <tr> \n",
              "        <th class=\"index_name level0\" >repayment_interval</th> \n",
              "        <th class=\"col_heading level0 col0\" >bullet</th> \n",
              "        <th class=\"col_heading level0 col1\" >irregular</th> \n",
              "        <th class=\"col_heading level0 col2\" >monthly</th> \n",
              "        <th class=\"col_heading level0 col3\" >weekly</th> \n",
              "    </tr>    <tr> \n",
              "        <th class=\"index_name level0\" >country</th> \n",
              "        <th class=\"blank\" ></th> \n",
              "        <th class=\"blank\" ></th> \n",
              "        <th class=\"blank\" ></th> \n",
              "        <th class=\"blank\" ></th> \n",
              "    </tr></thead> \n",
              "<tbody>    <tr> \n",
              "        <th id=\"T_5c0af56a_5793_11e8_a852_0242ac110002level0_row0\" class=\"row_heading level0 row0\" >Afghanistan</th> \n",
              "        <td id=\"T_5c0af56a_5793_11e8_a852_0242ac110002row0_col0\" class=\"data row0 col0\" >2</td> \n",
              "        <td id=\"T_5c0af56a_5793_11e8_a852_0242ac110002row0_col1\" class=\"data row0 col1\" >0</td> \n",
              "        <td id=\"T_5c0af56a_5793_11e8_a852_0242ac110002row0_col2\" class=\"data row0 col2\" >0</td> \n",
              "        <td id=\"T_5c0af56a_5793_11e8_a852_0242ac110002row0_col3\" class=\"data row0 col3\" >0</td> \n",
              "    </tr>    <tr> \n",
              "        <th id=\"T_5c0af56a_5793_11e8_a852_0242ac110002level0_row1\" class=\"row_heading level0 row1\" >Albania</th> \n",
              "        <td id=\"T_5c0af56a_5793_11e8_a852_0242ac110002row1_col0\" class=\"data row1 col0\" >23</td> \n",
              "        <td id=\"T_5c0af56a_5793_11e8_a852_0242ac110002row1_col1\" class=\"data row1 col1\" >26</td> \n",
              "        <td id=\"T_5c0af56a_5793_11e8_a852_0242ac110002row1_col2\" class=\"data row1 col2\" >1885</td> \n",
              "        <td id=\"T_5c0af56a_5793_11e8_a852_0242ac110002row1_col3\" class=\"data row1 col3\" >0</td> \n",
              "    </tr>    <tr> \n",
              "        <th id=\"T_5c0af56a_5793_11e8_a852_0242ac110002level0_row2\" class=\"row_heading level0 row2\" >Armenia</th> \n",
              "        <td id=\"T_5c0af56a_5793_11e8_a852_0242ac110002row2_col0\" class=\"data row2 col0\" >43</td> \n",
              "        <td id=\"T_5c0af56a_5793_11e8_a852_0242ac110002row2_col1\" class=\"data row2 col1\" >170</td> \n",
              "        <td id=\"T_5c0af56a_5793_11e8_a852_0242ac110002row2_col2\" class=\"data row2 col2\" >8418</td> \n",
              "        <td id=\"T_5c0af56a_5793_11e8_a852_0242ac110002row2_col3\" class=\"data row2 col3\" >0</td> \n",
              "    </tr>    <tr> \n",
              "        <th id=\"T_5c0af56a_5793_11e8_a852_0242ac110002level0_row3\" class=\"row_heading level0 row3\" >Azerbaijan</th> \n",
              "        <td id=\"T_5c0af56a_5793_11e8_a852_0242ac110002row3_col0\" class=\"data row3 col0\" >0</td> \n",
              "        <td id=\"T_5c0af56a_5793_11e8_a852_0242ac110002row3_col1\" class=\"data row3 col1\" >12</td> \n",
              "        <td id=\"T_5c0af56a_5793_11e8_a852_0242ac110002row3_col2\" class=\"data row3 col2\" >1933</td> \n",
              "        <td id=\"T_5c0af56a_5793_11e8_a852_0242ac110002row3_col3\" class=\"data row3 col3\" >0</td> \n",
              "    </tr>    <tr> \n",
              "        <th id=\"T_5c0af56a_5793_11e8_a852_0242ac110002level0_row4\" class=\"row_heading level0 row4\" >Belize</th> \n",
              "        <td id=\"T_5c0af56a_5793_11e8_a852_0242ac110002row4_col0\" class=\"data row4 col0\" >0</td> \n",
              "        <td id=\"T_5c0af56a_5793_11e8_a852_0242ac110002row4_col1\" class=\"data row4 col1\" >0</td> \n",
              "        <td id=\"T_5c0af56a_5793_11e8_a852_0242ac110002row4_col2\" class=\"data row4 col2\" >125</td> \n",
              "        <td id=\"T_5c0af56a_5793_11e8_a852_0242ac110002row4_col3\" class=\"data row4 col3\" >0</td> \n",
              "    </tr>    <tr> \n",
              "        <th id=\"T_5c0af56a_5793_11e8_a852_0242ac110002level0_row5\" class=\"row_heading level0 row5\" >Benin</th> \n",
              "        <td id=\"T_5c0af56a_5793_11e8_a852_0242ac110002row5_col0\" class=\"data row5 col0\" >1</td> \n",
              "        <td id=\"T_5c0af56a_5793_11e8_a852_0242ac110002row5_col1\" class=\"data row5 col1\" >40</td> \n",
              "        <td id=\"T_5c0af56a_5793_11e8_a852_0242ac110002row5_col2\" class=\"data row5 col2\" >456</td> \n",
              "        <td id=\"T_5c0af56a_5793_11e8_a852_0242ac110002row5_col3\" class=\"data row5 col3\" >0</td> \n",
              "    </tr>    <tr> \n",
              "        <th id=\"T_5c0af56a_5793_11e8_a852_0242ac110002level0_row6\" class=\"row_heading level0 row6\" >Bhutan</th> \n",
              "        <td id=\"T_5c0af56a_5793_11e8_a852_0242ac110002row6_col0\" class=\"data row6 col0\" >0</td> \n",
              "        <td id=\"T_5c0af56a_5793_11e8_a852_0242ac110002row6_col1\" class=\"data row6 col1\" >2</td> \n",
              "        <td id=\"T_5c0af56a_5793_11e8_a852_0242ac110002row6_col2\" class=\"data row6 col2\" >0</td> \n",
              "        <td id=\"T_5c0af56a_5793_11e8_a852_0242ac110002row6_col3\" class=\"data row6 col3\" >0</td> \n",
              "    </tr>    <tr> \n",
              "        <th id=\"T_5c0af56a_5793_11e8_a852_0242ac110002level0_row7\" class=\"row_heading level0 row7\" >Bolivia</th> \n",
              "        <td id=\"T_5c0af56a_5793_11e8_a852_0242ac110002row7_col0\" class=\"data row7 col0\" >39</td> \n",
              "        <td id=\"T_5c0af56a_5793_11e8_a852_0242ac110002row7_col1\" class=\"data row7 col1\" >1231</td> \n",
              "        <td id=\"T_5c0af56a_5793_11e8_a852_0242ac110002row7_col2\" class=\"data row7 col2\" >7536</td> \n",
              "        <td id=\"T_5c0af56a_5793_11e8_a852_0242ac110002row7_col3\" class=\"data row7 col3\" >0</td> \n",
              "    </tr>    <tr> \n",
              "        <th id=\"T_5c0af56a_5793_11e8_a852_0242ac110002level0_row8\" class=\"row_heading level0 row8\" >Brazil</th> \n",
              "        <td id=\"T_5c0af56a_5793_11e8_a852_0242ac110002row8_col0\" class=\"data row8 col0\" >14</td> \n",
              "        <td id=\"T_5c0af56a_5793_11e8_a852_0242ac110002row8_col1\" class=\"data row8 col1\" >181</td> \n",
              "        <td id=\"T_5c0af56a_5793_11e8_a852_0242ac110002row8_col2\" class=\"data row8 col2\" >89</td> \n",
              "        <td id=\"T_5c0af56a_5793_11e8_a852_0242ac110002row8_col3\" class=\"data row8 col3\" >0</td> \n",
              "    </tr>    <tr> \n",
              "        <th id=\"T_5c0af56a_5793_11e8_a852_0242ac110002level0_row9\" class=\"row_heading level0 row9\" >Burkina Faso</th> \n",
              "        <td id=\"T_5c0af56a_5793_11e8_a852_0242ac110002row9_col0\" class=\"data row9 col0\" >184</td> \n",
              "        <td id=\"T_5c0af56a_5793_11e8_a852_0242ac110002row9_col1\" class=\"data row9 col1\" >1396</td> \n",
              "        <td id=\"T_5c0af56a_5793_11e8_a852_0242ac110002row9_col2\" class=\"data row9 col2\" >880</td> \n",
              "        <td id=\"T_5c0af56a_5793_11e8_a852_0242ac110002row9_col3\" class=\"data row9 col3\" >0</td> \n",
              "    </tr>    <tr> \n",
              "        <th id=\"T_5c0af56a_5793_11e8_a852_0242ac110002level0_row10\" class=\"row_heading level0 row10\" >Burundi</th> \n",
              "        <td id=\"T_5c0af56a_5793_11e8_a852_0242ac110002row10_col0\" class=\"data row10 col0\" >0</td> \n",
              "        <td id=\"T_5c0af56a_5793_11e8_a852_0242ac110002row10_col1\" class=\"data row10 col1\" >615</td> \n",
              "        <td id=\"T_5c0af56a_5793_11e8_a852_0242ac110002row10_col2\" class=\"data row10 col2\" >265</td> \n",
              "        <td id=\"T_5c0af56a_5793_11e8_a852_0242ac110002row10_col3\" class=\"data row10 col3\" >0</td> \n",
              "    </tr>    <tr> \n",
              "        <th id=\"T_5c0af56a_5793_11e8_a852_0242ac110002level0_row11\" class=\"row_heading level0 row11\" >Cambodia</th> \n",
              "        <td id=\"T_5c0af56a_5793_11e8_a852_0242ac110002row11_col0\" class=\"data row11 col0\" >210</td> \n",
              "        <td id=\"T_5c0af56a_5793_11e8_a852_0242ac110002row11_col1\" class=\"data row11 col1\" >220</td> \n",
              "        <td id=\"T_5c0af56a_5793_11e8_a852_0242ac110002row11_col2\" class=\"data row11 col2\" >34406</td> \n",
              "        <td id=\"T_5c0af56a_5793_11e8_a852_0242ac110002row11_col3\" class=\"data row11 col3\" >0</td> \n",
              "    </tr>    <tr> \n",
              "        <th id=\"T_5c0af56a_5793_11e8_a852_0242ac110002level0_row12\" class=\"row_heading level0 row12\" >Cameroon</th> \n",
              "        <td id=\"T_5c0af56a_5793_11e8_a852_0242ac110002row12_col0\" class=\"data row12 col0\" >57</td> \n",
              "        <td id=\"T_5c0af56a_5793_11e8_a852_0242ac110002row12_col1\" class=\"data row12 col1\" >788</td> \n",
              "        <td id=\"T_5c0af56a_5793_11e8_a852_0242ac110002row12_col2\" class=\"data row12 col2\" >1385</td> \n",
              "        <td id=\"T_5c0af56a_5793_11e8_a852_0242ac110002row12_col3\" class=\"data row12 col3\" >0</td> \n",
              "    </tr>    <tr> \n",
              "        <th id=\"T_5c0af56a_5793_11e8_a852_0242ac110002level0_row13\" class=\"row_heading level0 row13\" >Chile</th> \n",
              "        <td id=\"T_5c0af56a_5793_11e8_a852_0242ac110002row13_col0\" class=\"data row13 col0\" >0</td> \n",
              "        <td id=\"T_5c0af56a_5793_11e8_a852_0242ac110002row13_col1\" class=\"data row13 col1\" >9</td> \n",
              "        <td id=\"T_5c0af56a_5793_11e8_a852_0242ac110002row13_col2\" class=\"data row13 col2\" >1</td> \n",
              "        <td id=\"T_5c0af56a_5793_11e8_a852_0242ac110002row13_col3\" class=\"data row13 col3\" >0</td> \n",
              "    </tr>    <tr> \n",
              "        <th id=\"T_5c0af56a_5793_11e8_a852_0242ac110002level0_row14\" class=\"row_heading level0 row14\" >China</th> \n",
              "        <td id=\"T_5c0af56a_5793_11e8_a852_0242ac110002row14_col0\" class=\"data row14 col0\" >9</td> \n",
              "        <td id=\"T_5c0af56a_5793_11e8_a852_0242ac110002row14_col1\" class=\"data row14 col1\" >0</td> \n",
              "        <td id=\"T_5c0af56a_5793_11e8_a852_0242ac110002row14_col2\" class=\"data row14 col2\" >125</td> \n",
              "        <td id=\"T_5c0af56a_5793_11e8_a852_0242ac110002row14_col3\" class=\"data row14 col3\" >0</td> \n",
              "    </tr>    <tr> \n",
              "        <th id=\"T_5c0af56a_5793_11e8_a852_0242ac110002level0_row15\" class=\"row_heading level0 row15\" >Colombia</th> \n",
              "        <td id=\"T_5c0af56a_5793_11e8_a852_0242ac110002row15_col0\" class=\"data row15 col0\" >13785</td> \n",
              "        <td id=\"T_5c0af56a_5793_11e8_a852_0242ac110002row15_col1\" class=\"data row15 col1\" >149</td> \n",
              "        <td id=\"T_5c0af56a_5793_11e8_a852_0242ac110002row15_col2\" class=\"data row15 col2\" >8061</td> \n",
              "        <td id=\"T_5c0af56a_5793_11e8_a852_0242ac110002row15_col3\" class=\"data row15 col3\" >0</td> \n",
              "    </tr>    <tr> \n",
              "        <th id=\"T_5c0af56a_5793_11e8_a852_0242ac110002level0_row16\" class=\"row_heading level0 row16\" >Congo</th> \n",
              "        <td id=\"T_5c0af56a_5793_11e8_a852_0242ac110002row16_col0\" class=\"data row16 col0\" >0</td> \n",
              "        <td id=\"T_5c0af56a_5793_11e8_a852_0242ac110002row16_col1\" class=\"data row16 col1\" >128</td> \n",
              "        <td id=\"T_5c0af56a_5793_11e8_a852_0242ac110002row16_col2\" class=\"data row16 col2\" >0</td> \n",
              "        <td id=\"T_5c0af56a_5793_11e8_a852_0242ac110002row16_col3\" class=\"data row16 col3\" >0</td> \n",
              "    </tr>    <tr> \n",
              "        <th id=\"T_5c0af56a_5793_11e8_a852_0242ac110002level0_row17\" class=\"row_heading level0 row17\" >Costa Rica</th> \n",
              "        <td id=\"T_5c0af56a_5793_11e8_a852_0242ac110002row17_col0\" class=\"data row17 col0\" >88</td> \n",
              "        <td id=\"T_5c0af56a_5793_11e8_a852_0242ac110002row17_col1\" class=\"data row17 col1\" >725</td> \n",
              "        <td id=\"T_5c0af56a_5793_11e8_a852_0242ac110002row17_col2\" class=\"data row17 col2\" >748</td> \n",
              "        <td id=\"T_5c0af56a_5793_11e8_a852_0242ac110002row17_col3\" class=\"data row17 col3\" >0</td> \n",
              "    </tr>    <tr> \n",
              "        <th id=\"T_5c0af56a_5793_11e8_a852_0242ac110002level0_row18\" class=\"row_heading level0 row18\" >Cote D'Ivoire</th> \n",
              "        <td id=\"T_5c0af56a_5793_11e8_a852_0242ac110002row18_col0\" class=\"data row18 col0\" >0</td> \n",
              "        <td id=\"T_5c0af56a_5793_11e8_a852_0242ac110002row18_col1\" class=\"data row18 col1\" >1</td> \n",
              "        <td id=\"T_5c0af56a_5793_11e8_a852_0242ac110002row18_col2\" class=\"data row18 col2\" >0</td> \n",
              "        <td id=\"T_5c0af56a_5793_11e8_a852_0242ac110002row18_col3\" class=\"data row18 col3\" >0</td> \n",
              "    </tr>    <tr> \n",
              "        <th id=\"T_5c0af56a_5793_11e8_a852_0242ac110002level0_row19\" class=\"row_heading level0 row19\" >Dominican Republic</th> \n",
              "        <td id=\"T_5c0af56a_5793_11e8_a852_0242ac110002row19_col0\" class=\"data row19 col0\" >0</td> \n",
              "        <td id=\"T_5c0af56a_5793_11e8_a852_0242ac110002row19_col1\" class=\"data row19 col1\" >364</td> \n",
              "        <td id=\"T_5c0af56a_5793_11e8_a852_0242ac110002row19_col2\" class=\"data row19 col2\" >132</td> \n",
              "        <td id=\"T_5c0af56a_5793_11e8_a852_0242ac110002row19_col3\" class=\"data row19 col3\" >0</td> \n",
              "    </tr>    <tr> \n",
              "        <th id=\"T_5c0af56a_5793_11e8_a852_0242ac110002level0_row20\" class=\"row_heading level0 row20\" >Ecuador</th> \n",
              "        <td id=\"T_5c0af56a_5793_11e8_a852_0242ac110002row20_col0\" class=\"data row20 col0\" >1228</td> \n",
              "        <td id=\"T_5c0af56a_5793_11e8_a852_0242ac110002row20_col1\" class=\"data row20 col1\" >5558</td> \n",
              "        <td id=\"T_5c0af56a_5793_11e8_a852_0242ac110002row20_col2\" class=\"data row20 col2\" >6735</td> \n",
              "        <td id=\"T_5c0af56a_5793_11e8_a852_0242ac110002row20_col3\" class=\"data row20 col3\" >0</td> \n",
              "    </tr>    <tr> \n",
              "        <th id=\"T_5c0af56a_5793_11e8_a852_0242ac110002level0_row21\" class=\"row_heading level0 row21\" >Egypt</th> \n",
              "        <td id=\"T_5c0af56a_5793_11e8_a852_0242ac110002row21_col0\" class=\"data row21 col0\" >0</td> \n",
              "        <td id=\"T_5c0af56a_5793_11e8_a852_0242ac110002row21_col1\" class=\"data row21 col1\" >1</td> \n",
              "        <td id=\"T_5c0af56a_5793_11e8_a852_0242ac110002row21_col2\" class=\"data row21 col2\" >1638</td> \n",
              "        <td id=\"T_5c0af56a_5793_11e8_a852_0242ac110002row21_col3\" class=\"data row21 col3\" >0</td> \n",
              "    </tr>    <tr> \n",
              "        <th id=\"T_5c0af56a_5793_11e8_a852_0242ac110002level0_row22\" class=\"row_heading level0 row22\" >El Salvador</th> \n",
              "        <td id=\"T_5c0af56a_5793_11e8_a852_0242ac110002row22_col0\" class=\"data row22 col0\" >8185</td> \n",
              "        <td id=\"T_5c0af56a_5793_11e8_a852_0242ac110002row22_col1\" class=\"data row22 col1\" >1926</td> \n",
              "        <td id=\"T_5c0af56a_5793_11e8_a852_0242ac110002row22_col2\" class=\"data row22 col2\" >29764</td> \n",
              "        <td id=\"T_5c0af56a_5793_11e8_a852_0242ac110002row22_col3\" class=\"data row22 col3\" >0</td> \n",
              "    </tr>    <tr> \n",
              "        <th id=\"T_5c0af56a_5793_11e8_a852_0242ac110002level0_row23\" class=\"row_heading level0 row23\" >Georgia</th> \n",
              "        <td id=\"T_5c0af56a_5793_11e8_a852_0242ac110002row23_col0\" class=\"data row23 col0\" >3</td> \n",
              "        <td id=\"T_5c0af56a_5793_11e8_a852_0242ac110002row23_col1\" class=\"data row23 col1\" >115</td> \n",
              "        <td id=\"T_5c0af56a_5793_11e8_a852_0242ac110002row23_col2\" class=\"data row23 col2\" >2291</td> \n",
              "        <td id=\"T_5c0af56a_5793_11e8_a852_0242ac110002row23_col3\" class=\"data row23 col3\" >0</td> \n",
              "    </tr>    <tr> \n",
              "        <th id=\"T_5c0af56a_5793_11e8_a852_0242ac110002level0_row24\" class=\"row_heading level0 row24\" >Ghana</th> \n",
              "        <td id=\"T_5c0af56a_5793_11e8_a852_0242ac110002row24_col0\" class=\"data row24 col0\" >203</td> \n",
              "        <td id=\"T_5c0af56a_5793_11e8_a852_0242ac110002row24_col1\" class=\"data row24 col1\" >3380</td> \n",
              "        <td id=\"T_5c0af56a_5793_11e8_a852_0242ac110002row24_col2\" class=\"data row24 col2\" >791</td> \n",
              "        <td id=\"T_5c0af56a_5793_11e8_a852_0242ac110002row24_col3\" class=\"data row24 col3\" >0</td> \n",
              "    </tr>    <tr> \n",
              "        <th id=\"T_5c0af56a_5793_11e8_a852_0242ac110002level0_row25\" class=\"row_heading level0 row25\" >Guam</th> \n",
              "        <td id=\"T_5c0af56a_5793_11e8_a852_0242ac110002row25_col0\" class=\"data row25 col0\" >1</td> \n",
              "        <td id=\"T_5c0af56a_5793_11e8_a852_0242ac110002row25_col1\" class=\"data row25 col1\" >0</td> \n",
              "        <td id=\"T_5c0af56a_5793_11e8_a852_0242ac110002row25_col2\" class=\"data row25 col2\" >0</td> \n",
              "        <td id=\"T_5c0af56a_5793_11e8_a852_0242ac110002row25_col3\" class=\"data row25 col3\" >0</td> \n",
              "    </tr>    <tr> \n",
              "        <th id=\"T_5c0af56a_5793_11e8_a852_0242ac110002level0_row26\" class=\"row_heading level0 row26\" >Guatemala</th> \n",
              "        <td id=\"T_5c0af56a_5793_11e8_a852_0242ac110002row26_col0\" class=\"data row26 col0\" >375</td> \n",
              "        <td id=\"T_5c0af56a_5793_11e8_a852_0242ac110002row26_col1\" class=\"data row26 col1\" >244</td> \n",
              "        <td id=\"T_5c0af56a_5793_11e8_a852_0242ac110002row26_col2\" class=\"data row26 col2\" >6691</td> \n",
              "        <td id=\"T_5c0af56a_5793_11e8_a852_0242ac110002row26_col3\" class=\"data row26 col3\" >0</td> \n",
              "    </tr>    <tr> \n",
              "        <th id=\"T_5c0af56a_5793_11e8_a852_0242ac110002level0_row27\" class=\"row_heading level0 row27\" >Haiti</th> \n",
              "        <td id=\"T_5c0af56a_5793_11e8_a852_0242ac110002row27_col0\" class=\"data row27 col0\" >43</td> \n",
              "        <td id=\"T_5c0af56a_5793_11e8_a852_0242ac110002row27_col1\" class=\"data row27 col1\" >527</td> \n",
              "        <td id=\"T_5c0af56a_5793_11e8_a852_0242ac110002row27_col2\" class=\"data row27 col2\" >3048</td> \n",
              "        <td id=\"T_5c0af56a_5793_11e8_a852_0242ac110002row27_col3\" class=\"data row27 col3\" >0</td> \n",
              "    </tr>    <tr> \n",
              "        <th id=\"T_5c0af56a_5793_11e8_a852_0242ac110002level0_row28\" class=\"row_heading level0 row28\" >Honduras</th> \n",
              "        <td id=\"T_5c0af56a_5793_11e8_a852_0242ac110002row28_col0\" class=\"data row28 col0\" >1082</td> \n",
              "        <td id=\"T_5c0af56a_5793_11e8_a852_0242ac110002row28_col1\" class=\"data row28 col1\" >494</td> \n",
              "        <td id=\"T_5c0af56a_5793_11e8_a852_0242ac110002row28_col2\" class=\"data row28 col2\" >4981</td> \n",
              "        <td id=\"T_5c0af56a_5793_11e8_a852_0242ac110002row28_col3\" class=\"data row28 col3\" >0</td> \n",
              "    </tr>    <tr> \n",
              "        <th id=\"T_5c0af56a_5793_11e8_a852_0242ac110002level0_row29\" class=\"row_heading level0 row29\" >India</th> \n",
              "        <td id=\"T_5c0af56a_5793_11e8_a852_0242ac110002row29_col0\" class=\"data row29 col0\" >6575</td> \n",
              "        <td id=\"T_5c0af56a_5793_11e8_a852_0242ac110002row29_col1\" class=\"data row29 col1\" >10</td> \n",
              "        <td id=\"T_5c0af56a_5793_11e8_a852_0242ac110002row29_col2\" class=\"data row29 col2\" >4652</td> \n",
              "        <td id=\"T_5c0af56a_5793_11e8_a852_0242ac110002row29_col3\" class=\"data row29 col3\" >0</td> \n",
              "    </tr>    <tr> \n",
              "        <th id=\"T_5c0af56a_5793_11e8_a852_0242ac110002level0_row30\" class=\"row_heading level0 row30\" >Indonesia</th> \n",
              "        <td id=\"T_5c0af56a_5793_11e8_a852_0242ac110002row30_col0\" class=\"data row30 col0\" >2061</td> \n",
              "        <td id=\"T_5c0af56a_5793_11e8_a852_0242ac110002row30_col1\" class=\"data row30 col1\" >3843</td> \n",
              "        <td id=\"T_5c0af56a_5793_11e8_a852_0242ac110002row30_col2\" class=\"data row30 col2\" >310</td> \n",
              "        <td id=\"T_5c0af56a_5793_11e8_a852_0242ac110002row30_col3\" class=\"data row30 col3\" >0</td> \n",
              "    </tr>    <tr> \n",
              "        <th id=\"T_5c0af56a_5793_11e8_a852_0242ac110002level0_row31\" class=\"row_heading level0 row31\" >Iraq</th> \n",
              "        <td id=\"T_5c0af56a_5793_11e8_a852_0242ac110002row31_col0\" class=\"data row31 col0\" >0</td> \n",
              "        <td id=\"T_5c0af56a_5793_11e8_a852_0242ac110002row31_col1\" class=\"data row31 col1\" >0</td> \n",
              "        <td id=\"T_5c0af56a_5793_11e8_a852_0242ac110002row31_col2\" class=\"data row31 col2\" >993</td> \n",
              "        <td id=\"T_5c0af56a_5793_11e8_a852_0242ac110002row31_col3\" class=\"data row31 col3\" >0</td> \n",
              "    </tr>    <tr> \n",
              "        <th id=\"T_5c0af56a_5793_11e8_a852_0242ac110002level0_row32\" class=\"row_heading level0 row32\" >Israel</th> \n",
              "        <td id=\"T_5c0af56a_5793_11e8_a852_0242ac110002row32_col0\" class=\"data row32 col0\" >0</td> \n",
              "        <td id=\"T_5c0af56a_5793_11e8_a852_0242ac110002row32_col1\" class=\"data row32 col1\" >1</td> \n",
              "        <td id=\"T_5c0af56a_5793_11e8_a852_0242ac110002row32_col2\" class=\"data row32 col2\" >189</td> \n",
              "        <td id=\"T_5c0af56a_5793_11e8_a852_0242ac110002row32_col3\" class=\"data row32 col3\" >0</td> \n",
              "    </tr>    <tr> \n",
              "        <th id=\"T_5c0af56a_5793_11e8_a852_0242ac110002level0_row33\" class=\"row_heading level0 row33\" >Jordan</th> \n",
              "        <td id=\"T_5c0af56a_5793_11e8_a852_0242ac110002row33_col0\" class=\"data row33 col0\" >0</td> \n",
              "        <td id=\"T_5c0af56a_5793_11e8_a852_0242ac110002row33_col1\" class=\"data row33 col1\" >6</td> \n",
              "        <td id=\"T_5c0af56a_5793_11e8_a852_0242ac110002row33_col2\" class=\"data row33 col2\" >4161</td> \n",
              "        <td id=\"T_5c0af56a_5793_11e8_a852_0242ac110002row33_col3\" class=\"data row33 col3\" >0</td> \n",
              "    </tr>    <tr> \n",
              "        <th id=\"T_5c0af56a_5793_11e8_a852_0242ac110002level0_row34\" class=\"row_heading level0 row34\" >Kenya</th> \n",
              "        <td id=\"T_5c0af56a_5793_11e8_a852_0242ac110002row34_col0\" class=\"data row34 col0\" >9567</td> \n",
              "        <td id=\"T_5c0af56a_5793_11e8_a852_0242ac110002row34_col1\" class=\"data row34 col1\" >19426</td> \n",
              "        <td id=\"T_5c0af56a_5793_11e8_a852_0242ac110002row34_col2\" class=\"data row34 col2\" >46230</td> \n",
              "        <td id=\"T_5c0af56a_5793_11e8_a852_0242ac110002row34_col3\" class=\"data row34 col3\" >602</td> \n",
              "    </tr>    <tr> \n",
              "        <th id=\"T_5c0af56a_5793_11e8_a852_0242ac110002level0_row35\" class=\"row_heading level0 row35\" >Kosovo</th> \n",
              "        <td id=\"T_5c0af56a_5793_11e8_a852_0242ac110002row35_col0\" class=\"data row35 col0\" >0</td> \n",
              "        <td id=\"T_5c0af56a_5793_11e8_a852_0242ac110002row35_col1\" class=\"data row35 col1\" >9</td> \n",
              "        <td id=\"T_5c0af56a_5793_11e8_a852_0242ac110002row35_col2\" class=\"data row35 col2\" >1410</td> \n",
              "        <td id=\"T_5c0af56a_5793_11e8_a852_0242ac110002row35_col3\" class=\"data row35 col3\" >0</td> \n",
              "    </tr>    <tr> \n",
              "        <th id=\"T_5c0af56a_5793_11e8_a852_0242ac110002level0_row36\" class=\"row_heading level0 row36\" >Kyrgyzstan</th> \n",
              "        <td id=\"T_5c0af56a_5793_11e8_a852_0242ac110002row36_col0\" class=\"data row36 col0\" >3</td> \n",
              "        <td id=\"T_5c0af56a_5793_11e8_a852_0242ac110002row36_col1\" class=\"data row36 col1\" >391</td> \n",
              "        <td id=\"T_5c0af56a_5793_11e8_a852_0242ac110002row36_col2\" class=\"data row36 col2\" >5380</td> \n",
              "        <td id=\"T_5c0af56a_5793_11e8_a852_0242ac110002row36_col3\" class=\"data row36 col3\" >0</td> \n",
              "    </tr>    <tr> \n",
              "        <th id=\"T_5c0af56a_5793_11e8_a852_0242ac110002level0_row37\" class=\"row_heading level0 row37\" >Lao People's Democratic Republic</th> \n",
              "        <td id=\"T_5c0af56a_5793_11e8_a852_0242ac110002row37_col0\" class=\"data row37 col0\" >1477</td> \n",
              "        <td id=\"T_5c0af56a_5793_11e8_a852_0242ac110002row37_col1\" class=\"data row37 col1\" >2</td> \n",
              "        <td id=\"T_5c0af56a_5793_11e8_a852_0242ac110002row37_col2\" class=\"data row37 col2\" >7</td> \n",
              "        <td id=\"T_5c0af56a_5793_11e8_a852_0242ac110002row37_col3\" class=\"data row37 col3\" >0</td> \n",
              "    </tr>    <tr> \n",
              "        <th id=\"T_5c0af56a_5793_11e8_a852_0242ac110002level0_row38\" class=\"row_heading level0 row38\" >Lebanon</th> \n",
              "        <td id=\"T_5c0af56a_5793_11e8_a852_0242ac110002row38_col0\" class=\"data row38 col0\" >0</td> \n",
              "        <td id=\"T_5c0af56a_5793_11e8_a852_0242ac110002row38_col1\" class=\"data row38 col1\" >98</td> \n",
              "        <td id=\"T_5c0af56a_5793_11e8_a852_0242ac110002row38_col2\" class=\"data row38 col2\" >8694</td> \n",
              "        <td id=\"T_5c0af56a_5793_11e8_a852_0242ac110002row38_col3\" class=\"data row38 col3\" >0</td> \n",
              "    </tr>    <tr> \n",
              "        <th id=\"T_5c0af56a_5793_11e8_a852_0242ac110002level0_row39\" class=\"row_heading level0 row39\" >Lesotho</th> \n",
              "        <td id=\"T_5c0af56a_5793_11e8_a852_0242ac110002row39_col0\" class=\"data row39 col0\" >0</td> \n",
              "        <td id=\"T_5c0af56a_5793_11e8_a852_0242ac110002row39_col1\" class=\"data row39 col1\" >0</td> \n",
              "        <td id=\"T_5c0af56a_5793_11e8_a852_0242ac110002row39_col2\" class=\"data row39 col2\" >422</td> \n",
              "        <td id=\"T_5c0af56a_5793_11e8_a852_0242ac110002row39_col3\" class=\"data row39 col3\" >0</td> \n",
              "    </tr>    <tr> \n",
              "        <th id=\"T_5c0af56a_5793_11e8_a852_0242ac110002level0_row40\" class=\"row_heading level0 row40\" >Liberia</th> \n",
              "        <td id=\"T_5c0af56a_5793_11e8_a852_0242ac110002row40_col0\" class=\"data row40 col0\" >0</td> \n",
              "        <td id=\"T_5c0af56a_5793_11e8_a852_0242ac110002row40_col1\" class=\"data row40 col1\" >3381</td> \n",
              "        <td id=\"T_5c0af56a_5793_11e8_a852_0242ac110002row40_col2\" class=\"data row40 col2\" >301</td> \n",
              "        <td id=\"T_5c0af56a_5793_11e8_a852_0242ac110002row40_col3\" class=\"data row40 col3\" >0</td> \n",
              "    </tr>    <tr> \n",
              "        <th id=\"T_5c0af56a_5793_11e8_a852_0242ac110002level0_row41\" class=\"row_heading level0 row41\" >Madagascar</th> \n",
              "        <td id=\"T_5c0af56a_5793_11e8_a852_0242ac110002row41_col0\" class=\"data row41 col0\" >0</td> \n",
              "        <td id=\"T_5c0af56a_5793_11e8_a852_0242ac110002row41_col1\" class=\"data row41 col1\" >2021</td> \n",
              "        <td id=\"T_5c0af56a_5793_11e8_a852_0242ac110002row41_col2\" class=\"data row41 col2\" >1800</td> \n",
              "        <td id=\"T_5c0af56a_5793_11e8_a852_0242ac110002row41_col3\" class=\"data row41 col3\" >0</td> \n",
              "    </tr>    <tr> \n",
              "        <th id=\"T_5c0af56a_5793_11e8_a852_0242ac110002level0_row42\" class=\"row_heading level0 row42\" >Malawi</th> \n",
              "        <td id=\"T_5c0af56a_5793_11e8_a852_0242ac110002row42_col0\" class=\"data row42 col0\" >264</td> \n",
              "        <td id=\"T_5c0af56a_5793_11e8_a852_0242ac110002row42_col1\" class=\"data row42 col1\" >683</td> \n",
              "        <td id=\"T_5c0af56a_5793_11e8_a852_0242ac110002row42_col2\" class=\"data row42 col2\" >373</td> \n",
              "        <td id=\"T_5c0af56a_5793_11e8_a852_0242ac110002row42_col3\" class=\"data row42 col3\" >0</td> \n",
              "    </tr>    <tr> \n",
              "        <th id=\"T_5c0af56a_5793_11e8_a852_0242ac110002level0_row43\" class=\"row_heading level0 row43\" >Mali</th> \n",
              "        <td id=\"T_5c0af56a_5793_11e8_a852_0242ac110002row43_col0\" class=\"data row43 col0\" >3484</td> \n",
              "        <td id=\"T_5c0af56a_5793_11e8_a852_0242ac110002row43_col1\" class=\"data row43 col1\" >900</td> \n",
              "        <td id=\"T_5c0af56a_5793_11e8_a852_0242ac110002row43_col2\" class=\"data row43 col2\" >2255</td> \n",
              "        <td id=\"T_5c0af56a_5793_11e8_a852_0242ac110002row43_col3\" class=\"data row43 col3\" >0</td> \n",
              "    </tr>    <tr> \n",
              "        <th id=\"T_5c0af56a_5793_11e8_a852_0242ac110002level0_row44\" class=\"row_heading level0 row44\" >Mauritania</th> \n",
              "        <td id=\"T_5c0af56a_5793_11e8_a852_0242ac110002row44_col0\" class=\"data row44 col0\" >0</td> \n",
              "        <td id=\"T_5c0af56a_5793_11e8_a852_0242ac110002row44_col1\" class=\"data row44 col1\" >1</td> \n",
              "        <td id=\"T_5c0af56a_5793_11e8_a852_0242ac110002row44_col2\" class=\"data row44 col2\" >0</td> \n",
              "        <td id=\"T_5c0af56a_5793_11e8_a852_0242ac110002row44_col3\" class=\"data row44 col3\" >0</td> \n",
              "    </tr>    <tr> \n",
              "        <th id=\"T_5c0af56a_5793_11e8_a852_0242ac110002level0_row45\" class=\"row_heading level0 row45\" >Mexico</th> \n",
              "        <td id=\"T_5c0af56a_5793_11e8_a852_0242ac110002row45_col0\" class=\"data row45 col0\" >466</td> \n",
              "        <td id=\"T_5c0af56a_5793_11e8_a852_0242ac110002row45_col1\" class=\"data row45 col1\" >1994</td> \n",
              "        <td id=\"T_5c0af56a_5793_11e8_a852_0242ac110002row45_col2\" class=\"data row45 col2\" >3281</td> \n",
              "        <td id=\"T_5c0af56a_5793_11e8_a852_0242ac110002row45_col3\" class=\"data row45 col3\" >0</td> \n",
              "    </tr>    <tr> \n",
              "        <th id=\"T_5c0af56a_5793_11e8_a852_0242ac110002level0_row46\" class=\"row_heading level0 row46\" >Moldova</th> \n",
              "        <td id=\"T_5c0af56a_5793_11e8_a852_0242ac110002row46_col0\" class=\"data row46 col0\" >0</td> \n",
              "        <td id=\"T_5c0af56a_5793_11e8_a852_0242ac110002row46_col1\" class=\"data row46 col1\" >2</td> \n",
              "        <td id=\"T_5c0af56a_5793_11e8_a852_0242ac110002row46_col2\" class=\"data row46 col2\" >346</td> \n",
              "        <td id=\"T_5c0af56a_5793_11e8_a852_0242ac110002row46_col3\" class=\"data row46 col3\" >0</td> \n",
              "    </tr>    <tr> \n",
              "        <th id=\"T_5c0af56a_5793_11e8_a852_0242ac110002level0_row47\" class=\"row_heading level0 row47\" >Mongolia</th> \n",
              "        <td id=\"T_5c0af56a_5793_11e8_a852_0242ac110002row47_col0\" class=\"data row47 col0\" >2</td> \n",
              "        <td id=\"T_5c0af56a_5793_11e8_a852_0242ac110002row47_col1\" class=\"data row47 col1\" >15</td> \n",
              "        <td id=\"T_5c0af56a_5793_11e8_a852_0242ac110002row47_col2\" class=\"data row47 col2\" >947</td> \n",
              "        <td id=\"T_5c0af56a_5793_11e8_a852_0242ac110002row47_col3\" class=\"data row47 col3\" >0</td> \n",
              "    </tr>    <tr> \n",
              "        <th id=\"T_5c0af56a_5793_11e8_a852_0242ac110002level0_row48\" class=\"row_heading level0 row48\" >Mozambique</th> \n",
              "        <td id=\"T_5c0af56a_5793_11e8_a852_0242ac110002row48_col0\" class=\"data row48 col0\" >64</td> \n",
              "        <td id=\"T_5c0af56a_5793_11e8_a852_0242ac110002row48_col1\" class=\"data row48 col1\" >37</td> \n",
              "        <td id=\"T_5c0af56a_5793_11e8_a852_0242ac110002row48_col2\" class=\"data row48 col2\" >3382</td> \n",
              "        <td id=\"T_5c0af56a_5793_11e8_a852_0242ac110002row48_col3\" class=\"data row48 col3\" >0</td> \n",
              "    </tr>    <tr> \n",
              "        <th id=\"T_5c0af56a_5793_11e8_a852_0242ac110002level0_row49\" class=\"row_heading level0 row49\" >Myanmar (Burma)</th> \n",
              "        <td id=\"T_5c0af56a_5793_11e8_a852_0242ac110002row49_col0\" class=\"data row49 col0\" >1550</td> \n",
              "        <td id=\"T_5c0af56a_5793_11e8_a852_0242ac110002row49_col1\" class=\"data row49 col1\" >164</td> \n",
              "        <td id=\"T_5c0af56a_5793_11e8_a852_0242ac110002row49_col2\" class=\"data row49 col2\" >156</td> \n",
              "        <td id=\"T_5c0af56a_5793_11e8_a852_0242ac110002row49_col3\" class=\"data row49 col3\" >0</td> \n",
              "    </tr>    <tr> \n",
              "        <th id=\"T_5c0af56a_5793_11e8_a852_0242ac110002level0_row50\" class=\"row_heading level0 row50\" >Namibia</th> \n",
              "        <td id=\"T_5c0af56a_5793_11e8_a852_0242ac110002row50_col0\" class=\"data row50 col0\" >8</td> \n",
              "        <td id=\"T_5c0af56a_5793_11e8_a852_0242ac110002row50_col1\" class=\"data row50 col1\" >0</td> \n",
              "        <td id=\"T_5c0af56a_5793_11e8_a852_0242ac110002row50_col2\" class=\"data row50 col2\" >0</td> \n",
              "        <td id=\"T_5c0af56a_5793_11e8_a852_0242ac110002row50_col3\" class=\"data row50 col3\" >0</td> \n",
              "    </tr>    <tr> \n",
              "        <th id=\"T_5c0af56a_5793_11e8_a852_0242ac110002level0_row51\" class=\"row_heading level0 row51\" >Nepal</th> \n",
              "        <td id=\"T_5c0af56a_5793_11e8_a852_0242ac110002row51_col0\" class=\"data row51 col0\" >2</td> \n",
              "        <td id=\"T_5c0af56a_5793_11e8_a852_0242ac110002row51_col1\" class=\"data row51 col1\" >5</td> \n",
              "        <td id=\"T_5c0af56a_5793_11e8_a852_0242ac110002row51_col2\" class=\"data row51 col2\" >710</td> \n",
              "        <td id=\"T_5c0af56a_5793_11e8_a852_0242ac110002row51_col3\" class=\"data row51 col3\" >0</td> \n",
              "    </tr>    <tr> \n",
              "        <th id=\"T_5c0af56a_5793_11e8_a852_0242ac110002level0_row52\" class=\"row_heading level0 row52\" >Nicaragua</th> \n",
              "        <td id=\"T_5c0af56a_5793_11e8_a852_0242ac110002row52_col0\" class=\"data row52 col0\" >711</td> \n",
              "        <td id=\"T_5c0af56a_5793_11e8_a852_0242ac110002row52_col1\" class=\"data row52 col1\" >2910</td> \n",
              "        <td id=\"T_5c0af56a_5793_11e8_a852_0242ac110002row52_col2\" class=\"data row52 col2\" >8160</td> \n",
              "        <td id=\"T_5c0af56a_5793_11e8_a852_0242ac110002row52_col3\" class=\"data row52 col3\" >0</td> \n",
              "    </tr>    <tr> \n",
              "        <th id=\"T_5c0af56a_5793_11e8_a852_0242ac110002level0_row53\" class=\"row_heading level0 row53\" >Nigeria</th> \n",
              "        <td id=\"T_5c0af56a_5793_11e8_a852_0242ac110002row53_col0\" class=\"data row53 col0\" >10135</td> \n",
              "        <td id=\"T_5c0af56a_5793_11e8_a852_0242ac110002row53_col1\" class=\"data row53 col1\" >1</td> \n",
              "        <td id=\"T_5c0af56a_5793_11e8_a852_0242ac110002row53_col2\" class=\"data row53 col2\" >0</td> \n",
              "        <td id=\"T_5c0af56a_5793_11e8_a852_0242ac110002row53_col3\" class=\"data row53 col3\" >0</td> \n",
              "    </tr>    <tr> \n",
              "        <th id=\"T_5c0af56a_5793_11e8_a852_0242ac110002level0_row54\" class=\"row_heading level0 row54\" >Pakistan</th> \n",
              "        <td id=\"T_5c0af56a_5793_11e8_a852_0242ac110002row54_col0\" class=\"data row54 col0\" >101</td> \n",
              "        <td id=\"T_5c0af56a_5793_11e8_a852_0242ac110002row54_col1\" class=\"data row54 col1\" >6200</td> \n",
              "        <td id=\"T_5c0af56a_5793_11e8_a852_0242ac110002row54_col2\" class=\"data row54 col2\" >20556</td> \n",
              "        <td id=\"T_5c0af56a_5793_11e8_a852_0242ac110002row54_col3\" class=\"data row54 col3\" >0</td> \n",
              "    </tr>    <tr> \n",
              "        <th id=\"T_5c0af56a_5793_11e8_a852_0242ac110002level0_row55\" class=\"row_heading level0 row55\" >Palestine</th> \n",
              "        <td id=\"T_5c0af56a_5793_11e8_a852_0242ac110002row55_col0\" class=\"data row55 col0\" >0</td> \n",
              "        <td id=\"T_5c0af56a_5793_11e8_a852_0242ac110002row55_col1\" class=\"data row55 col1\" >18</td> \n",
              "        <td id=\"T_5c0af56a_5793_11e8_a852_0242ac110002row55_col2\" class=\"data row55 col2\" >8149</td> \n",
              "        <td id=\"T_5c0af56a_5793_11e8_a852_0242ac110002row55_col3\" class=\"data row55 col3\" >0</td> \n",
              "    </tr>    <tr> \n",
              "        <th id=\"T_5c0af56a_5793_11e8_a852_0242ac110002level0_row56\" class=\"row_heading level0 row56\" >Panama</th> \n",
              "        <td id=\"T_5c0af56a_5793_11e8_a852_0242ac110002row56_col0\" class=\"data row56 col0\" >0</td> \n",
              "        <td id=\"T_5c0af56a_5793_11e8_a852_0242ac110002row56_col1\" class=\"data row56 col1\" >7</td> \n",
              "        <td id=\"T_5c0af56a_5793_11e8_a852_0242ac110002row56_col2\" class=\"data row56 col2\" >186</td> \n",
              "        <td id=\"T_5c0af56a_5793_11e8_a852_0242ac110002row56_col3\" class=\"data row56 col3\" >0</td> \n",
              "    </tr>    <tr> \n",
              "        <th id=\"T_5c0af56a_5793_11e8_a852_0242ac110002level0_row57\" class=\"row_heading level0 row57\" >Paraguay</th> \n",
              "        <td id=\"T_5c0af56a_5793_11e8_a852_0242ac110002row57_col0\" class=\"data row57 col0\" >0</td> \n",
              "        <td id=\"T_5c0af56a_5793_11e8_a852_0242ac110002row57_col1\" class=\"data row57 col1\" >5344</td> \n",
              "        <td id=\"T_5c0af56a_5793_11e8_a852_0242ac110002row57_col2\" class=\"data row57 col2\" >6559</td> \n",
              "        <td id=\"T_5c0af56a_5793_11e8_a852_0242ac110002row57_col3\" class=\"data row57 col3\" >0</td> \n",
              "    </tr>    <tr> \n",
              "        <th id=\"T_5c0af56a_5793_11e8_a852_0242ac110002level0_row58\" class=\"row_heading level0 row58\" >Peru</th> \n",
              "        <td id=\"T_5c0af56a_5793_11e8_a852_0242ac110002row58_col0\" class=\"data row58 col0\" >2735</td> \n",
              "        <td id=\"T_5c0af56a_5793_11e8_a852_0242ac110002row58_col1\" class=\"data row58 col1\" >7455</td> \n",
              "        <td id=\"T_5c0af56a_5793_11e8_a852_0242ac110002row58_col2\" class=\"data row58 col2\" >12043</td> \n",
              "        <td id=\"T_5c0af56a_5793_11e8_a852_0242ac110002row58_col3\" class=\"data row58 col3\" >0</td> \n",
              "    </tr>    <tr> \n",
              "        <th id=\"T_5c0af56a_5793_11e8_a852_0242ac110002level0_row59\" class=\"row_heading level0 row59\" >Philippines</th> \n",
              "        <td id=\"T_5c0af56a_5793_11e8_a852_0242ac110002row59_col0\" class=\"data row59 col0\" >1748</td> \n",
              "        <td id=\"T_5c0af56a_5793_11e8_a852_0242ac110002row59_col1\" class=\"data row59 col1\" >144954</td> \n",
              "        <td id=\"T_5c0af56a_5793_11e8_a852_0242ac110002row59_col2\" class=\"data row59 col2\" >13739</td> \n",
              "        <td id=\"T_5c0af56a_5793_11e8_a852_0242ac110002row59_col3\" class=\"data row59 col3\" >0</td> \n",
              "    </tr>    <tr> \n",
              "        <th id=\"T_5c0af56a_5793_11e8_a852_0242ac110002level0_row60\" class=\"row_heading level0 row60\" >Puerto Rico</th> \n",
              "        <td id=\"T_5c0af56a_5793_11e8_a852_0242ac110002row60_col0\" class=\"data row60 col0\" >17</td> \n",
              "        <td id=\"T_5c0af56a_5793_11e8_a852_0242ac110002row60_col1\" class=\"data row60 col1\" >0</td> \n",
              "        <td id=\"T_5c0af56a_5793_11e8_a852_0242ac110002row60_col2\" class=\"data row60 col2\" >51</td> \n",
              "        <td id=\"T_5c0af56a_5793_11e8_a852_0242ac110002row60_col3\" class=\"data row60 col3\" >0</td> \n",
              "    </tr>    <tr> \n",
              "        <th id=\"T_5c0af56a_5793_11e8_a852_0242ac110002level0_row61\" class=\"row_heading level0 row61\" >Rwanda</th> \n",
              "        <td id=\"T_5c0af56a_5793_11e8_a852_0242ac110002row61_col0\" class=\"data row61 col0\" >959</td> \n",
              "        <td id=\"T_5c0af56a_5793_11e8_a852_0242ac110002row61_col1\" class=\"data row61 col1\" >4317</td> \n",
              "        <td id=\"T_5c0af56a_5793_11e8_a852_0242ac110002row61_col2\" class=\"data row61 col2\" >1459</td> \n",
              "        <td id=\"T_5c0af56a_5793_11e8_a852_0242ac110002row61_col3\" class=\"data row61 col3\" >0</td> \n",
              "    </tr>    <tr> \n",
              "        <th id=\"T_5c0af56a_5793_11e8_a852_0242ac110002level0_row62\" class=\"row_heading level0 row62\" >Saint Vincent and the Grenadines</th> \n",
              "        <td id=\"T_5c0af56a_5793_11e8_a852_0242ac110002row62_col0\" class=\"data row62 col0\" >0</td> \n",
              "        <td id=\"T_5c0af56a_5793_11e8_a852_0242ac110002row62_col1\" class=\"data row62 col1\" >1</td> \n",
              "        <td id=\"T_5c0af56a_5793_11e8_a852_0242ac110002row62_col2\" class=\"data row62 col2\" >15</td> \n",
              "        <td id=\"T_5c0af56a_5793_11e8_a852_0242ac110002row62_col3\" class=\"data row62 col3\" >0</td> \n",
              "    </tr>    <tr> \n",
              "        <th id=\"T_5c0af56a_5793_11e8_a852_0242ac110002level0_row63\" class=\"row_heading level0 row63\" >Samoa</th> \n",
              "        <td id=\"T_5c0af56a_5793_11e8_a852_0242ac110002row63_col0\" class=\"data row63 col0\" >1</td> \n",
              "        <td id=\"T_5c0af56a_5793_11e8_a852_0242ac110002row63_col1\" class=\"data row63 col1\" >7388</td> \n",
              "        <td id=\"T_5c0af56a_5793_11e8_a852_0242ac110002row63_col2\" class=\"data row63 col2\" >7</td> \n",
              "        <td id=\"T_5c0af56a_5793_11e8_a852_0242ac110002row63_col3\" class=\"data row63 col3\" >0</td> \n",
              "    </tr>    <tr> \n",
              "        <th id=\"T_5c0af56a_5793_11e8_a852_0242ac110002level0_row64\" class=\"row_heading level0 row64\" >Senegal</th> \n",
              "        <td id=\"T_5c0af56a_5793_11e8_a852_0242ac110002row64_col0\" class=\"data row64 col0\" >238</td> \n",
              "        <td id=\"T_5c0af56a_5793_11e8_a852_0242ac110002row64_col1\" class=\"data row64 col1\" >89</td> \n",
              "        <td id=\"T_5c0af56a_5793_11e8_a852_0242ac110002row64_col2\" class=\"data row64 col2\" >2942</td> \n",
              "        <td id=\"T_5c0af56a_5793_11e8_a852_0242ac110002row64_col3\" class=\"data row64 col3\" >0</td> \n",
              "    </tr>    <tr> \n",
              "        <th id=\"T_5c0af56a_5793_11e8_a852_0242ac110002level0_row65\" class=\"row_heading level0 row65\" >Sierra Leone</th> \n",
              "        <td id=\"T_5c0af56a_5793_11e8_a852_0242ac110002row65_col0\" class=\"data row65 col0\" >1</td> \n",
              "        <td id=\"T_5c0af56a_5793_11e8_a852_0242ac110002row65_col1\" class=\"data row65 col1\" >2375</td> \n",
              "        <td id=\"T_5c0af56a_5793_11e8_a852_0242ac110002row65_col2\" class=\"data row65 col2\" >3039</td> \n",
              "        <td id=\"T_5c0af56a_5793_11e8_a852_0242ac110002row65_col3\" class=\"data row65 col3\" >0</td> \n",
              "    </tr>    <tr> \n",
              "        <th id=\"T_5c0af56a_5793_11e8_a852_0242ac110002level0_row66\" class=\"row_heading level0 row66\" >Solomon Islands</th> \n",
              "        <td id=\"T_5c0af56a_5793_11e8_a852_0242ac110002row66_col0\" class=\"data row66 col0\" >0</td> \n",
              "        <td id=\"T_5c0af56a_5793_11e8_a852_0242ac110002row66_col1\" class=\"data row66 col1\" >554</td> \n",
              "        <td id=\"T_5c0af56a_5793_11e8_a852_0242ac110002row66_col2\" class=\"data row66 col2\" >0</td> \n",
              "        <td id=\"T_5c0af56a_5793_11e8_a852_0242ac110002row66_col3\" class=\"data row66 col3\" >0</td> \n",
              "    </tr>    <tr> \n",
              "        <th id=\"T_5c0af56a_5793_11e8_a852_0242ac110002level0_row67\" class=\"row_heading level0 row67\" >Somalia</th> \n",
              "        <td id=\"T_5c0af56a_5793_11e8_a852_0242ac110002row67_col0\" class=\"data row67 col0\" >0</td> \n",
              "        <td id=\"T_5c0af56a_5793_11e8_a852_0242ac110002row67_col1\" class=\"data row67 col1\" >1</td> \n",
              "        <td id=\"T_5c0af56a_5793_11e8_a852_0242ac110002row67_col2\" class=\"data row67 col2\" >74</td> \n",
              "        <td id=\"T_5c0af56a_5793_11e8_a852_0242ac110002row67_col3\" class=\"data row67 col3\" >0</td> \n",
              "    </tr>    <tr> \n",
              "        <th id=\"T_5c0af56a_5793_11e8_a852_0242ac110002level0_row68\" class=\"row_heading level0 row68\" >South Africa</th> \n",
              "        <td id=\"T_5c0af56a_5793_11e8_a852_0242ac110002row68_col0\" class=\"data row68 col0\" >0</td> \n",
              "        <td id=\"T_5c0af56a_5793_11e8_a852_0242ac110002row68_col1\" class=\"data row68 col1\" >111</td> \n",
              "        <td id=\"T_5c0af56a_5793_11e8_a852_0242ac110002row68_col2\" class=\"data row68 col2\" >267</td> \n",
              "        <td id=\"T_5c0af56a_5793_11e8_a852_0242ac110002row68_col3\" class=\"data row68 col3\" >0</td> \n",
              "    </tr>    <tr> \n",
              "        <th id=\"T_5c0af56a_5793_11e8_a852_0242ac110002level0_row69\" class=\"row_heading level0 row69\" >South Sudan</th> \n",
              "        <td id=\"T_5c0af56a_5793_11e8_a852_0242ac110002row69_col0\" class=\"data row69 col0\" >1</td> \n",
              "        <td id=\"T_5c0af56a_5793_11e8_a852_0242ac110002row69_col1\" class=\"data row69 col1\" >123</td> \n",
              "        <td id=\"T_5c0af56a_5793_11e8_a852_0242ac110002row69_col2\" class=\"data row69 col2\" >36</td> \n",
              "        <td id=\"T_5c0af56a_5793_11e8_a852_0242ac110002row69_col3\" class=\"data row69 col3\" >0</td> \n",
              "    </tr>    <tr> \n",
              "        <th id=\"T_5c0af56a_5793_11e8_a852_0242ac110002level0_row70\" class=\"row_heading level0 row70\" >Suriname</th> \n",
              "        <td id=\"T_5c0af56a_5793_11e8_a852_0242ac110002row70_col0\" class=\"data row70 col0\" >160</td> \n",
              "        <td id=\"T_5c0af56a_5793_11e8_a852_0242ac110002row70_col1\" class=\"data row70 col1\" >28</td> \n",
              "        <td id=\"T_5c0af56a_5793_11e8_a852_0242ac110002row70_col2\" class=\"data row70 col2\" >35</td> \n",
              "        <td id=\"T_5c0af56a_5793_11e8_a852_0242ac110002row70_col3\" class=\"data row70 col3\" >0</td> \n",
              "    </tr>    <tr> \n",
              "        <th id=\"T_5c0af56a_5793_11e8_a852_0242ac110002level0_row71\" class=\"row_heading level0 row71\" >Tajikistan</th> \n",
              "        <td id=\"T_5c0af56a_5793_11e8_a852_0242ac110002row71_col0\" class=\"data row71 col0\" >5</td> \n",
              "        <td id=\"T_5c0af56a_5793_11e8_a852_0242ac110002row71_col1\" class=\"data row71 col1\" >158</td> \n",
              "        <td id=\"T_5c0af56a_5793_11e8_a852_0242ac110002row71_col2\" class=\"data row71 col2\" >19417</td> \n",
              "        <td id=\"T_5c0af56a_5793_11e8_a852_0242ac110002row71_col3\" class=\"data row71 col3\" >0</td> \n",
              "    </tr>    <tr> \n",
              "        <th id=\"T_5c0af56a_5793_11e8_a852_0242ac110002level0_row72\" class=\"row_heading level0 row72\" >Tanzania</th> \n",
              "        <td id=\"T_5c0af56a_5793_11e8_a852_0242ac110002row72_col0\" class=\"data row72 col0\" >29</td> \n",
              "        <td id=\"T_5c0af56a_5793_11e8_a852_0242ac110002row72_col1\" class=\"data row72 col1\" >3231</td> \n",
              "        <td id=\"T_5c0af56a_5793_11e8_a852_0242ac110002row72_col2\" class=\"data row72 col2\" >1959</td> \n",
              "        <td id=\"T_5c0af56a_5793_11e8_a852_0242ac110002row72_col3\" class=\"data row72 col3\" >0</td> \n",
              "    </tr>    <tr> \n",
              "        <th id=\"T_5c0af56a_5793_11e8_a852_0242ac110002level0_row73\" class=\"row_heading level0 row73\" >Thailand</th> \n",
              "        <td id=\"T_5c0af56a_5793_11e8_a852_0242ac110002row73_col0\" class=\"data row73 col0\" >178</td> \n",
              "        <td id=\"T_5c0af56a_5793_11e8_a852_0242ac110002row73_col1\" class=\"data row73 col1\" >0</td> \n",
              "        <td id=\"T_5c0af56a_5793_11e8_a852_0242ac110002row73_col2\" class=\"data row73 col2\" >2</td> \n",
              "        <td id=\"T_5c0af56a_5793_11e8_a852_0242ac110002row73_col3\" class=\"data row73 col3\" >0</td> \n",
              "    </tr>    <tr> \n",
              "        <th id=\"T_5c0af56a_5793_11e8_a852_0242ac110002level0_row74\" class=\"row_heading level0 row74\" >The Democratic Republic of the Congo</th> \n",
              "        <td id=\"T_5c0af56a_5793_11e8_a852_0242ac110002row74_col0\" class=\"data row74 col0\" >0</td> \n",
              "        <td id=\"T_5c0af56a_5793_11e8_a852_0242ac110002row74_col1\" class=\"data row74 col1\" >1610</td> \n",
              "        <td id=\"T_5c0af56a_5793_11e8_a852_0242ac110002row74_col2\" class=\"data row74 col2\" >1463</td> \n",
              "        <td id=\"T_5c0af56a_5793_11e8_a852_0242ac110002row74_col3\" class=\"data row74 col3\" >0</td> \n",
              "    </tr>    <tr> \n",
              "        <th id=\"T_5c0af56a_5793_11e8_a852_0242ac110002level0_row75\" class=\"row_heading level0 row75\" >Timor-Leste</th> \n",
              "        <td id=\"T_5c0af56a_5793_11e8_a852_0242ac110002row75_col0\" class=\"data row75 col0\" >0</td> \n",
              "        <td id=\"T_5c0af56a_5793_11e8_a852_0242ac110002row75_col1\" class=\"data row75 col1\" >90</td> \n",
              "        <td id=\"T_5c0af56a_5793_11e8_a852_0242ac110002row75_col2\" class=\"data row75 col2\" >2600</td> \n",
              "        <td id=\"T_5c0af56a_5793_11e8_a852_0242ac110002row75_col3\" class=\"data row75 col3\" >0</td> \n",
              "    </tr>    <tr> \n",
              "        <th id=\"T_5c0af56a_5793_11e8_a852_0242ac110002level0_row76\" class=\"row_heading level0 row76\" >Togo</th> \n",
              "        <td id=\"T_5c0af56a_5793_11e8_a852_0242ac110002row76_col0\" class=\"data row76 col0\" >0</td> \n",
              "        <td id=\"T_5c0af56a_5793_11e8_a852_0242ac110002row76_col1\" class=\"data row76 col1\" >5121</td> \n",
              "        <td id=\"T_5c0af56a_5793_11e8_a852_0242ac110002row76_col2\" class=\"data row76 col2\" >628</td> \n",
              "        <td id=\"T_5c0af56a_5793_11e8_a852_0242ac110002row76_col3\" class=\"data row76 col3\" >0</td> \n",
              "    </tr>    <tr> \n",
              "        <th id=\"T_5c0af56a_5793_11e8_a852_0242ac110002level0_row77\" class=\"row_heading level0 row77\" >Turkey</th> \n",
              "        <td id=\"T_5c0af56a_5793_11e8_a852_0242ac110002row77_col0\" class=\"data row77 col0\" >0</td> \n",
              "        <td id=\"T_5c0af56a_5793_11e8_a852_0242ac110002row77_col1\" class=\"data row77 col1\" >1699</td> \n",
              "        <td id=\"T_5c0af56a_5793_11e8_a852_0242ac110002row77_col2\" class=\"data row77 col2\" >4</td> \n",
              "        <td id=\"T_5c0af56a_5793_11e8_a852_0242ac110002row77_col3\" class=\"data row77 col3\" >0</td> \n",
              "    </tr>    <tr> \n",
              "        <th id=\"T_5c0af56a_5793_11e8_a852_0242ac110002level0_row78\" class=\"row_heading level0 row78\" >Uganda</th> \n",
              "        <td id=\"T_5c0af56a_5793_11e8_a852_0242ac110002row78_col0\" class=\"data row78 col0\" >130</td> \n",
              "        <td id=\"T_5c0af56a_5793_11e8_a852_0242ac110002row78_col1\" class=\"data row78 col1\" >7260</td> \n",
              "        <td id=\"T_5c0af56a_5793_11e8_a852_0242ac110002row78_col2\" class=\"data row78 col2\" >13211</td> \n",
              "        <td id=\"T_5c0af56a_5793_11e8_a852_0242ac110002row78_col3\" class=\"data row78 col3\" >0</td> \n",
              "    </tr>    <tr> \n",
              "        <th id=\"T_5c0af56a_5793_11e8_a852_0242ac110002level0_row79\" class=\"row_heading level0 row79\" >Ukraine</th> \n",
              "        <td id=\"T_5c0af56a_5793_11e8_a852_0242ac110002row79_col0\" class=\"data row79 col0\" >0</td> \n",
              "        <td id=\"T_5c0af56a_5793_11e8_a852_0242ac110002row79_col1\" class=\"data row79 col1\" >38</td> \n",
              "        <td id=\"T_5c0af56a_5793_11e8_a852_0242ac110002row79_col2\" class=\"data row79 col2\" >925</td> \n",
              "        <td id=\"T_5c0af56a_5793_11e8_a852_0242ac110002row79_col3\" class=\"data row79 col3\" >0</td> \n",
              "    </tr>    <tr> \n",
              "        <th id=\"T_5c0af56a_5793_11e8_a852_0242ac110002level0_row80\" class=\"row_heading level0 row80\" >United States</th> \n",
              "        <td id=\"T_5c0af56a_5793_11e8_a852_0242ac110002row80_col0\" class=\"data row80 col0\" >1995</td> \n",
              "        <td id=\"T_5c0af56a_5793_11e8_a852_0242ac110002row80_col1\" class=\"data row80 col1\" >18</td> \n",
              "        <td id=\"T_5c0af56a_5793_11e8_a852_0242ac110002row80_col2\" class=\"data row80 col2\" >4080</td> \n",
              "        <td id=\"T_5c0af56a_5793_11e8_a852_0242ac110002row80_col3\" class=\"data row80 col3\" >0</td> \n",
              "    </tr>    <tr> \n",
              "        <th id=\"T_5c0af56a_5793_11e8_a852_0242ac110002level0_row81\" class=\"row_heading level0 row81\" >Vanuatu</th> \n",
              "        <td id=\"T_5c0af56a_5793_11e8_a852_0242ac110002row81_col0\" class=\"data row81 col0\" >0</td> \n",
              "        <td id=\"T_5c0af56a_5793_11e8_a852_0242ac110002row81_col1\" class=\"data row81 col1\" >4</td> \n",
              "        <td id=\"T_5c0af56a_5793_11e8_a852_0242ac110002row81_col2\" class=\"data row81 col2\" >0</td> \n",
              "        <td id=\"T_5c0af56a_5793_11e8_a852_0242ac110002row81_col3\" class=\"data row81 col3\" >0</td> \n",
              "    </tr>    <tr> \n",
              "        <th id=\"T_5c0af56a_5793_11e8_a852_0242ac110002level0_row82\" class=\"row_heading level0 row82\" >Vietnam</th> \n",
              "        <td id=\"T_5c0af56a_5793_11e8_a852_0242ac110002row82_col0\" class=\"data row82 col0\" >64</td> \n",
              "        <td id=\"T_5c0af56a_5793_11e8_a852_0242ac110002row82_col1\" class=\"data row82 col1\" >2216</td> \n",
              "        <td id=\"T_5c0af56a_5793_11e8_a852_0242ac110002row82_col2\" class=\"data row82 col2\" >8563</td> \n",
              "        <td id=\"T_5c0af56a_5793_11e8_a852_0242ac110002row82_col3\" class=\"data row82 col3\" >0</td> \n",
              "    </tr>    <tr> \n",
              "        <th id=\"T_5c0af56a_5793_11e8_a852_0242ac110002level0_row83\" class=\"row_heading level0 row83\" >Virgin Islands</th> \n",
              "        <td id=\"T_5c0af56a_5793_11e8_a852_0242ac110002row83_col0\" class=\"data row83 col0\" >2</td> \n",
              "        <td id=\"T_5c0af56a_5793_11e8_a852_0242ac110002row83_col1\" class=\"data row83 col1\" >0</td> \n",
              "        <td id=\"T_5c0af56a_5793_11e8_a852_0242ac110002row83_col2\" class=\"data row83 col2\" >0</td> \n",
              "        <td id=\"T_5c0af56a_5793_11e8_a852_0242ac110002row83_col3\" class=\"data row83 col3\" >0</td> \n",
              "    </tr>    <tr> \n",
              "        <th id=\"T_5c0af56a_5793_11e8_a852_0242ac110002level0_row84\" class=\"row_heading level0 row84\" >Yemen</th> \n",
              "        <td id=\"T_5c0af56a_5793_11e8_a852_0242ac110002row84_col0\" class=\"data row84 col0\" >0</td> \n",
              "        <td id=\"T_5c0af56a_5793_11e8_a852_0242ac110002row84_col1\" class=\"data row84 col1\" >560</td> \n",
              "        <td id=\"T_5c0af56a_5793_11e8_a852_0242ac110002row84_col2\" class=\"data row84 col2\" >1753</td> \n",
              "        <td id=\"T_5c0af56a_5793_11e8_a852_0242ac110002row84_col3\" class=\"data row84 col3\" >0</td> \n",
              "    </tr>    <tr> \n",
              "        <th id=\"T_5c0af56a_5793_11e8_a852_0242ac110002level0_row85\" class=\"row_heading level0 row85\" >Zambia</th> \n",
              "        <td id=\"T_5c0af56a_5793_11e8_a852_0242ac110002row85_col0\" class=\"data row85 col0\" >409</td> \n",
              "        <td id=\"T_5c0af56a_5793_11e8_a852_0242ac110002row85_col1\" class=\"data row85 col1\" >64</td> \n",
              "        <td id=\"T_5c0af56a_5793_11e8_a852_0242ac110002row85_col2\" class=\"data row85 col2\" >311</td> \n",
              "        <td id=\"T_5c0af56a_5793_11e8_a852_0242ac110002row85_col3\" class=\"data row85 col3\" >0</td> \n",
              "    </tr>    <tr> \n",
              "        <th id=\"T_5c0af56a_5793_11e8_a852_0242ac110002level0_row86\" class=\"row_heading level0 row86\" >Zimbabwe</th> \n",
              "        <td id=\"T_5c0af56a_5793_11e8_a852_0242ac110002row86_col0\" class=\"data row86 col0\" >11</td> \n",
              "        <td id=\"T_5c0af56a_5793_11e8_a852_0242ac110002row86_col1\" class=\"data row86 col1\" >1922</td> \n",
              "        <td id=\"T_5c0af56a_5793_11e8_a852_0242ac110002row86_col2\" class=\"data row86 col2\" >2101</td> \n",
              "        <td id=\"T_5c0af56a_5793_11e8_a852_0242ac110002row86_col3\" class=\"data row86 col3\" >0</td> \n",
              "    </tr></tbody> \n",
              "</table> "
            ],
            "text/plain": [
              "<pandas.io.formats.style.Styler at 0x7f26a13b41d0>"
            ]
          },
          "metadata": {
            "tags": []
          },
          "execution_count": 18
        }
      ]
    },
    {
      "metadata": {
        "id": "G_qHBYvojtbO",
        "colab_type": "text"
      },
      "cell_type": "markdown",
      "source": [
        "# Extract Kenya's data"
      ]
    },
    {
      "metadata": {
        "id": "p7iY0Y4usHGE",
        "colab_type": "code",
        "colab": {
          "autoexec": {
            "startup": false,
            "wait_interval": 0
          }
        }
      },
      "cell_type": "code",
      "source": [
        "kenya_loans = kiva_loans[(kiva_loans['country']==\"Kenya\") | (kiva_loans['country_code']==\"KE\")]"
      ],
      "execution_count": 0,
      "outputs": []
    },
    {
      "metadata": {
        "id": "mX4A81QsozUy",
        "colab_type": "code",
        "colab": {
          "autoexec": {
            "startup": false,
            "wait_interval": 0
          },
          "base_uri": "https://localhost:8080/",
          "height": 86
        },
        "outputId": "8ea0727d-4eee-4121-8427-6dc71c98c7c6",
        "executionInfo": {
          "status": "ok",
          "timestamp": 1526315118235,
          "user_tz": -180,
          "elapsed": 1197,
          "user": {
            "displayName": "martin muchui",
            "photoUrl": "https://lh3.googleusercontent.com/a/default-user=s128",
            "userId": "118445864454602802747"
          }
        }
      },
      "cell_type": "code",
      "source": [
        "kenya_loans = kenya_loans.dropna()\n",
        "# kenya_loans.describe()\n",
        "kenya_loans.columns"
      ],
      "execution_count": 20,
      "outputs": [
        {
          "output_type": "execute_result",
          "data": {
            "text/plain": [
              "Index(['id', 'funded_amount', 'activity', 'sector', 'country_code', 'country',\n",
              "       'region', 'partner_id', 'term_in_months', 'lender_count',\n",
              "       'borrower_genders', 'repayment_interval', 'time_to_fund'],\n",
              "      dtype='object')"
            ]
          },
          "metadata": {
            "tags": []
          },
          "execution_count": 20
        }
      ]
    },
    {
      "metadata": {
        "id": "IKK6zMCvbBDw",
        "colab_type": "code",
        "colab": {
          "autoexec": {
            "startup": false,
            "wait_interval": 0
          }
        }
      },
      "cell_type": "code",
      "source": [
        "kiva_mpi_region_kenya = kiva_mpi_region_locations[(kiva_mpi_region_locations['country']==\"Kenya\") | (kiva_mpi_region_locations['ISO']==\"KEN\")]"
      ],
      "execution_count": 0,
      "outputs": []
    },
    {
      "metadata": {
        "id": "KBMKzmD6uaNM",
        "colab_type": "code",
        "colab": {
          "autoexec": {
            "startup": false,
            "wait_interval": 0
          },
          "base_uri": "https://localhost:8080/",
          "height": 286
        },
        "outputId": "efe41102-2b81-45e1-9384-226a0fbb86e4",
        "executionInfo": {
          "status": "ok",
          "timestamp": 1526315128561,
          "user_tz": -180,
          "elapsed": 1057,
          "user": {
            "displayName": "martin muchui",
            "photoUrl": "https://lh3.googleusercontent.com/a/default-user=s128",
            "userId": "118445864454602802747"
          }
        }
      },
      "cell_type": "code",
      "source": [
        "kiva_mpi_region_kenya.head(10)"
      ],
      "execution_count": 22,
      "outputs": [
        {
          "output_type": "execute_result",
          "data": {
            "text/html": [
              "<div>\n",
              "<style scoped>\n",
              "    .dataframe tbody tr th:only-of-type {\n",
              "        vertical-align: middle;\n",
              "    }\n",
              "\n",
              "    .dataframe tbody tr th {\n",
              "        vertical-align: top;\n",
              "    }\n",
              "\n",
              "    .dataframe thead th {\n",
              "        text-align: right;\n",
              "    }\n",
              "</style>\n",
              "<table border=\"1\" class=\"dataframe\">\n",
              "  <thead>\n",
              "    <tr style=\"text-align: right;\">\n",
              "      <th></th>\n",
              "      <th>ISO</th>\n",
              "      <th>country</th>\n",
              "      <th>region</th>\n",
              "      <th>world_region</th>\n",
              "      <th>MPI</th>\n",
              "      <th>geo</th>\n",
              "    </tr>\n",
              "  </thead>\n",
              "  <tbody>\n",
              "    <tr>\n",
              "      <th>450</th>\n",
              "      <td>KEN</td>\n",
              "      <td>Kenya</td>\n",
              "      <td>Central</td>\n",
              "      <td>Sub-Saharan Africa</td>\n",
              "      <td>0.075</td>\n",
              "      <td>(-4.0627412, 39.6771481)</td>\n",
              "    </tr>\n",
              "    <tr>\n",
              "      <th>451</th>\n",
              "      <td>KEN</td>\n",
              "      <td>Kenya</td>\n",
              "      <td>Coast</td>\n",
              "      <td>Sub-Saharan Africa</td>\n",
              "      <td>0.242</td>\n",
              "      <td>(-3.2096898, 40.1169399)</td>\n",
              "    </tr>\n",
              "    <tr>\n",
              "      <th>452</th>\n",
              "      <td>KEN</td>\n",
              "      <td>Kenya</td>\n",
              "      <td>Eastern</td>\n",
              "      <td>Sub-Saharan Africa</td>\n",
              "      <td>0.190</td>\n",
              "      <td>(0.7137256, 35.517938)</td>\n",
              "    </tr>\n",
              "    <tr>\n",
              "      <th>453</th>\n",
              "      <td>KEN</td>\n",
              "      <td>Kenya</td>\n",
              "      <td>Nairobi</td>\n",
              "      <td>Sub-Saharan Africa</td>\n",
              "      <td>0.020</td>\n",
              "      <td>(-1.2920659, 36.8219462)</td>\n",
              "    </tr>\n",
              "    <tr>\n",
              "      <th>454</th>\n",
              "      <td>KEN</td>\n",
              "      <td>Kenya</td>\n",
              "      <td>North Eastern</td>\n",
              "      <td>Sub-Saharan Africa</td>\n",
              "      <td>0.509</td>\n",
              "      <td>(-0.0190061, 37.6480812)</td>\n",
              "    </tr>\n",
              "    <tr>\n",
              "      <th>455</th>\n",
              "      <td>KEN</td>\n",
              "      <td>Kenya</td>\n",
              "      <td>Nyanza</td>\n",
              "      <td>Sub-Saharan Africa</td>\n",
              "      <td>0.211</td>\n",
              "      <td>(-1.2849963, 36.8272273)</td>\n",
              "    </tr>\n",
              "    <tr>\n",
              "      <th>456</th>\n",
              "      <td>KEN</td>\n",
              "      <td>Kenya</td>\n",
              "      <td>Rift Valley</td>\n",
              "      <td>Sub-Saharan Africa</td>\n",
              "      <td>0.205</td>\n",
              "      <td>(-18.382333, 47.2923893)</td>\n",
              "    </tr>\n",
              "    <tr>\n",
              "      <th>457</th>\n",
              "      <td>KEN</td>\n",
              "      <td>Kenya</td>\n",
              "      <td>Western</td>\n",
              "      <td>Sub-Saharan Africa</td>\n",
              "      <td>0.223</td>\n",
              "      <td>(-0.115003, 34.851379)</td>\n",
              "    </tr>\n",
              "  </tbody>\n",
              "</table>\n",
              "</div>"
            ],
            "text/plain": [
              "     ISO country         region        world_region    MPI  \\\n",
              "450  KEN   Kenya        Central  Sub-Saharan Africa  0.075   \n",
              "451  KEN   Kenya          Coast  Sub-Saharan Africa  0.242   \n",
              "452  KEN   Kenya        Eastern  Sub-Saharan Africa  0.190   \n",
              "453  KEN   Kenya        Nairobi  Sub-Saharan Africa  0.020   \n",
              "454  KEN   Kenya  North Eastern  Sub-Saharan Africa  0.509   \n",
              "455  KEN   Kenya         Nyanza  Sub-Saharan Africa  0.211   \n",
              "456  KEN   Kenya    Rift Valley  Sub-Saharan Africa  0.205   \n",
              "457  KEN   Kenya        Western  Sub-Saharan Africa  0.223   \n",
              "\n",
              "                          geo  \n",
              "450  (-4.0627412, 39.6771481)  \n",
              "451  (-3.2096898, 40.1169399)  \n",
              "452    (0.7137256, 35.517938)  \n",
              "453  (-1.2920659, 36.8219462)  \n",
              "454  (-0.0190061, 37.6480812)  \n",
              "455  (-1.2849963, 36.8272273)  \n",
              "456  (-18.382333, 47.2923893)  \n",
              "457    (-0.115003, 34.851379)  "
            ]
          },
          "metadata": {
            "tags": []
          },
          "execution_count": 22
        }
      ]
    },
    {
      "metadata": {
        "id": "rBpfDjKZsvjd",
        "colab_type": "code",
        "colab": {
          "autoexec": {
            "startup": false,
            "wait_interval": 0
          }
        }
      },
      "cell_type": "code",
      "source": [
        "set(kenya_loans.region);"
      ],
      "execution_count": 0,
      "outputs": []
    },
    {
      "metadata": {
        "id": "fUfQjF26vT7F",
        "colab_type": "code",
        "colab": {
          "autoexec": {
            "startup": false,
            "wait_interval": 0
          }
        }
      },
      "cell_type": "code",
      "source": [
        "kenya_loans.to_csv(path_or_buf = \"kenya_loans.csv\")\n",
        "files.download('kenya_loans.csv')"
      ],
      "execution_count": 0,
      "outputs": []
    },
    {
      "metadata": {
        "id": "KJeOIOizk1xF",
        "colab_type": "text"
      },
      "cell_type": "markdown",
      "source": [
        "The statement \"set(kenya_loans.region);\" was used to obtain unique locations in Kenya contained in the data.\n",
        "This data was matched against the dataset - **kenya-poverty-metrics-by-district** and parameters such as *Poverty Gap*, *MPI*, *Severity of Poverty* were obtained.\n",
        "\n",
        "The aim of doing this is to merge Kiva's data on Kenya and data from the **kenya-poverty-metrics-by-district** in order to come up with one dataset that can be used to create a model.\n",
        "\n",
        "The model created using this compiled data(after training) would thereafter be used to estimate the poverty index. "
      ]
    },
    {
      "metadata": {
        "id": "uv-XbTeunQ5z",
        "colab_type": "text"
      },
      "cell_type": "markdown",
      "source": [
        "# Analysis on Kenya's data"
      ]
    },
    {
      "metadata": {
        "id": "dbfKGl8vnp0R",
        "colab_type": "code",
        "colab": {
          "autoexec": {
            "startup": false,
            "wait_interval": 0
          },
          "base_uri": "https://localhost:8080/",
          "height": 201
        },
        "outputId": "5412d72f-815e-4086-c848-487b7126ebdf",
        "executionInfo": {
          "status": "ok",
          "timestamp": 1526317068374,
          "user_tz": -180,
          "elapsed": 6704,
          "user": {
            "displayName": "martin muchui",
            "photoUrl": "https://lh3.googleusercontent.com/a/default-user=s128",
            "userId": "118445864454602802747"
          }
        }
      },
      "cell_type": "code",
      "source": [
        "# 1. Authenticate and create the PyDrive client.\n",
        "auth.authenticate_user()\n",
        "gauth = GoogleAuth()\n",
        "gauth.credentials = GoogleCredentials.get_application_default()\n",
        "drive = GoogleDrive(gauth)\n",
        "\n",
        "file_list = drive.ListFile({'q': \"'1sLFU_eR_2d31kBVl60Wm9ztZ7dqKAAau' in parents and trashed=false\"}).GetList()\n",
        "for file1 in file_list:\n",
        "  try:\n",
        "    f_holder = drive.CreateFile({'id': file1['id']})\n",
        "    f_holder.GetContentFile(file1['title'])\n",
        "    print('title: %s, id: %s' % (file1['title'], file1['id']))\n",
        "  except Exception as e:\n",
        "    print(e)\n",
        "  kenya_loans = pd.read_csv(\"kenya_loans.csv\")\n",
        "    "
      ],
      "execution_count": 49,
      "outputs": [
        {
          "output_type": "stream",
          "text": [
            "title: kenya_loans.csv, id: 1uWvHyvzxCp44Na38xwx3FLgDziAIM7kT\n",
            "title: wb_subnational_poverty_data.csv, id: 1PHLWhaI0-EQ61GnwZ-77eI47TBZPp5Sy\n",
            "title: Untitled.ipynb, id: 1ra_xxCVVoNK0jb_i0AHH5PLPvEo8pgBf\n",
            "title: subnational_poverty_footnote.csv, id: 1FAH2ysuv8fXVSDaOAOPuNFZxivcUJ6xD\n",
            "title: subnational_poverty_country.csv, id: 1sAAnalPC_hHqJMz-5TRvt7fIJ2FCcSkF\n",
            "title: MPI_subnational.csv, id: 1P3Qc2g0f1FkDWtpsbU82vTeFeuhxJqgN\n",
            "title: MPI_national.csv, id: 12Nk_U_5fRlfDNuQPqXctJfUHzPFguv-Z\n",
            "No downloadLink/exportLinks for mimetype found in metadata\n",
            "No downloadLink/exportLinks for mimetype found in metadata\n",
            "No downloadLink/exportLinks for mimetype found in metadata\n",
            "No downloadLink/exportLinks for mimetype found in metadata\n"
          ],
          "name": "stdout"
        }
      ]
    },
    {
      "metadata": {
        "id": "LWH-Y2Kbnp0V",
        "colab_type": "text"
      },
      "cell_type": "markdown",
      "source": [
        "# Data Preprocessing"
      ]
    },
    {
      "metadata": {
        "id": "w9caIUIOBlA4",
        "colab_type": "code",
        "colab": {
          "autoexec": {
            "startup": false,
            "wait_interval": 0
          },
          "base_uri": "https://localhost:8080/",
          "height": 286
        },
        "outputId": "e7292b54-80cd-42aa-b934-f88b269b4609",
        "executionInfo": {
          "status": "ok",
          "timestamp": 1526317072241,
          "user_tz": -180,
          "elapsed": 1346,
          "user": {
            "displayName": "martin muchui",
            "photoUrl": "https://lh3.googleusercontent.com/a/default-user=s128",
            "userId": "118445864454602802747"
          }
        }
      },
      "cell_type": "code",
      "source": [
        "# statistical summary of data\n",
        "kenya_loans.describe()"
      ],
      "execution_count": 50,
      "outputs": [
        {
          "output_type": "execute_result",
          "data": {
            "text/html": [
              "<div>\n",
              "<style scoped>\n",
              "    .dataframe tbody tr th:only-of-type {\n",
              "        vertical-align: middle;\n",
              "    }\n",
              "\n",
              "    .dataframe tbody tr th {\n",
              "        vertical-align: top;\n",
              "    }\n",
              "\n",
              "    .dataframe thead th {\n",
              "        text-align: right;\n",
              "    }\n",
              "</style>\n",
              "<table border=\"1\" class=\"dataframe\">\n",
              "  <thead>\n",
              "    <tr style=\"text-align: right;\">\n",
              "      <th></th>\n",
              "      <th>id</th>\n",
              "      <th>funded_amount</th>\n",
              "      <th>partner_id</th>\n",
              "      <th>term_in_months</th>\n",
              "      <th>lender_count</th>\n",
              "      <th>MPI</th>\n",
              "      <th>Poverty Gap</th>\n",
              "      <th>rural_pct</th>\n",
              "      <th>Severity of Poverty</th>\n",
              "    </tr>\n",
              "  </thead>\n",
              "  <tbody>\n",
              "    <tr>\n",
              "      <th>count</th>\n",
              "      <td>6.183900e+04</td>\n",
              "      <td>61839.000000</td>\n",
              "      <td>61839.000000</td>\n",
              "      <td>61839.000000</td>\n",
              "      <td>61839.000000</td>\n",
              "      <td>61839.000000</td>\n",
              "      <td>61839.000000</td>\n",
              "      <td>60620.000000</td>\n",
              "      <td>61839.000000</td>\n",
              "    </tr>\n",
              "    <tr>\n",
              "      <th>mean</th>\n",
              "      <td>9.959779e+05</td>\n",
              "      <td>461.291418</td>\n",
              "      <td>181.976859</td>\n",
              "      <td>13.601465</td>\n",
              "      <td>14.017820</td>\n",
              "      <td>0.197718</td>\n",
              "      <td>9.241762</td>\n",
              "      <td>70.614748</td>\n",
              "      <td>3.621525</td>\n",
              "    </tr>\n",
              "    <tr>\n",
              "      <th>std</th>\n",
              "      <td>1.922022e+05</td>\n",
              "      <td>759.314374</td>\n",
              "      <td>75.812857</td>\n",
              "      <td>7.833545</td>\n",
              "      <td>22.328336</td>\n",
              "      <td>0.053038</td>\n",
              "      <td>4.200141</td>\n",
              "      <td>38.834722</td>\n",
              "      <td>2.090779</td>\n",
              "    </tr>\n",
              "    <tr>\n",
              "      <th>min</th>\n",
              "      <td>6.531570e+05</td>\n",
              "      <td>25.000000</td>\n",
              "      <td>133.000000</td>\n",
              "      <td>2.000000</td>\n",
              "      <td>1.000000</td>\n",
              "      <td>0.020000</td>\n",
              "      <td>2.400000</td>\n",
              "      <td>0.000000</td>\n",
              "      <td>0.500000</td>\n",
              "    </tr>\n",
              "    <tr>\n",
              "      <th>25%</th>\n",
              "      <td>8.399360e+05</td>\n",
              "      <td>225.000000</td>\n",
              "      <td>138.000000</td>\n",
              "      <td>11.000000</td>\n",
              "      <td>7.000000</td>\n",
              "      <td>0.205000</td>\n",
              "      <td>7.500000</td>\n",
              "      <td>65.000000</td>\n",
              "      <td>2.700000</td>\n",
              "    </tr>\n",
              "    <tr>\n",
              "      <th>50%</th>\n",
              "      <td>9.952440e+05</td>\n",
              "      <td>350.000000</td>\n",
              "      <td>156.000000</td>\n",
              "      <td>14.000000</td>\n",
              "      <td>10.000000</td>\n",
              "      <td>0.205000</td>\n",
              "      <td>9.100000</td>\n",
              "      <td>99.000000</td>\n",
              "      <td>3.400000</td>\n",
              "    </tr>\n",
              "    <tr>\n",
              "      <th>75%</th>\n",
              "      <td>1.174202e+06</td>\n",
              "      <td>550.000000</td>\n",
              "      <td>164.000000</td>\n",
              "      <td>14.000000</td>\n",
              "      <td>17.000000</td>\n",
              "      <td>0.223000</td>\n",
              "      <td>10.800000</td>\n",
              "      <td>99.000000</td>\n",
              "      <td>4.000000</td>\n",
              "    </tr>\n",
              "    <tr>\n",
              "      <th>max</th>\n",
              "      <td>1.335884e+06</td>\n",
              "      <td>50000.000000</td>\n",
              "      <td>529.000000</td>\n",
              "      <td>122.000000</td>\n",
              "      <td>1589.000000</td>\n",
              "      <td>0.509000</td>\n",
              "      <td>46.000000</td>\n",
              "      <td>99.000000</td>\n",
              "      <td>30.800000</td>\n",
              "    </tr>\n",
              "  </tbody>\n",
              "</table>\n",
              "</div>"
            ],
            "text/plain": [
              "                 id  funded_amount    partner_id  term_in_months  \\\n",
              "count  6.183900e+04   61839.000000  61839.000000    61839.000000   \n",
              "mean   9.959779e+05     461.291418    181.976859       13.601465   \n",
              "std    1.922022e+05     759.314374     75.812857        7.833545   \n",
              "min    6.531570e+05      25.000000    133.000000        2.000000   \n",
              "25%    8.399360e+05     225.000000    138.000000       11.000000   \n",
              "50%    9.952440e+05     350.000000    156.000000       14.000000   \n",
              "75%    1.174202e+06     550.000000    164.000000       14.000000   \n",
              "max    1.335884e+06   50000.000000    529.000000      122.000000   \n",
              "\n",
              "       lender_count           MPI   Poverty Gap     rural_pct  \\\n",
              "count  61839.000000  61839.000000  61839.000000  60620.000000   \n",
              "mean      14.017820      0.197718      9.241762     70.614748   \n",
              "std       22.328336      0.053038      4.200141     38.834722   \n",
              "min        1.000000      0.020000      2.400000      0.000000   \n",
              "25%        7.000000      0.205000      7.500000     65.000000   \n",
              "50%       10.000000      0.205000      9.100000     99.000000   \n",
              "75%       17.000000      0.223000     10.800000     99.000000   \n",
              "max     1589.000000      0.509000     46.000000     99.000000   \n",
              "\n",
              "       Severity of Poverty  \n",
              "count         61839.000000  \n",
              "mean              3.621525  \n",
              "std               2.090779  \n",
              "min               0.500000  \n",
              "25%               2.700000  \n",
              "50%               3.400000  \n",
              "75%               4.000000  \n",
              "max              30.800000  "
            ]
          },
          "metadata": {
            "tags": []
          },
          "execution_count": 50
        }
      ]
    },
    {
      "metadata": {
        "id": "jkO7-SSjWgrz",
        "colab_type": "text"
      },
      "cell_type": "markdown",
      "source": [
        "**Remove rows with NA (blank) cells**"
      ]
    },
    {
      "metadata": {
        "id": "KZsJrsEt_KID",
        "colab_type": "code",
        "colab": {
          "autoexec": {
            "startup": false,
            "wait_interval": 0
          }
        }
      },
      "cell_type": "code",
      "source": [
        "kenya_loans = kenya_loans.dropna()"
      ],
      "execution_count": 0,
      "outputs": []
    },
    {
      "metadata": {
        "id": "sRk5NKb4CbTN",
        "colab_type": "code",
        "colab": {
          "autoexec": {
            "startup": false,
            "wait_interval": 0
          },
          "base_uri": "https://localhost:8080/",
          "height": 333
        },
        "outputId": "2fccd186-9f74-4c8e-d5e4-9e9198188602",
        "executionInfo": {
          "status": "ok",
          "timestamp": 1526317081389,
          "user_tz": -180,
          "elapsed": 972,
          "user": {
            "displayName": "martin muchui",
            "photoUrl": "https://lh3.googleusercontent.com/a/default-user=s128",
            "userId": "118445864454602802747"
          }
        }
      },
      "cell_type": "code",
      "source": [
        "kenya_loans.head()"
      ],
      "execution_count": 52,
      "outputs": [
        {
          "output_type": "execute_result",
          "data": {
            "text/html": [
              "<div>\n",
              "<style scoped>\n",
              "    .dataframe tbody tr th:only-of-type {\n",
              "        vertical-align: middle;\n",
              "    }\n",
              "\n",
              "    .dataframe tbody tr th {\n",
              "        vertical-align: top;\n",
              "    }\n",
              "\n",
              "    .dataframe thead th {\n",
              "        text-align: right;\n",
              "    }\n",
              "</style>\n",
              "<table border=\"1\" class=\"dataframe\">\n",
              "  <thead>\n",
              "    <tr style=\"text-align: right;\">\n",
              "      <th></th>\n",
              "      <th>id</th>\n",
              "      <th>funded_amount</th>\n",
              "      <th>activity</th>\n",
              "      <th>sector</th>\n",
              "      <th>country_code</th>\n",
              "      <th>country</th>\n",
              "      <th>region</th>\n",
              "      <th>partner_id</th>\n",
              "      <th>term_in_months</th>\n",
              "      <th>lender_count</th>\n",
              "      <th>borrower_genders</th>\n",
              "      <th>repayment_interval</th>\n",
              "      <th>time_to_fund</th>\n",
              "      <th>MPI</th>\n",
              "      <th>Poverty Gap</th>\n",
              "      <th>Loan Theme ID</th>\n",
              "      <th>Loan Theme Type</th>\n",
              "      <th>For_Kiva</th>\n",
              "      <th>rural_pct</th>\n",
              "      <th>Severity of Poverty</th>\n",
              "    </tr>\n",
              "  </thead>\n",
              "  <tbody>\n",
              "    <tr>\n",
              "      <th>0</th>\n",
              "      <td>653185</td>\n",
              "      <td>250</td>\n",
              "      <td>Fruits &amp; Vegetables</td>\n",
              "      <td>Food</td>\n",
              "      <td>KE</td>\n",
              "      <td>Kenya</td>\n",
              "      <td>Voi</td>\n",
              "      <td>164</td>\n",
              "      <td>13</td>\n",
              "      <td>7</td>\n",
              "      <td>female</td>\n",
              "      <td>irregular</td>\n",
              "      <td>21 days 10:40:01.000000000</td>\n",
              "      <td>0.242</td>\n",
              "      <td>7.7</td>\n",
              "      <td>a1050000000wf14</td>\n",
              "      <td>General</td>\n",
              "      <td>No</td>\n",
              "      <td>99.0</td>\n",
              "      <td>2.7</td>\n",
              "    </tr>\n",
              "    <tr>\n",
              "      <th>1</th>\n",
              "      <td>653237</td>\n",
              "      <td>250</td>\n",
              "      <td>Cosmetics Sales</td>\n",
              "      <td>Retail</td>\n",
              "      <td>KE</td>\n",
              "      <td>Kenya</td>\n",
              "      <td>Likoni</td>\n",
              "      <td>164</td>\n",
              "      <td>14</td>\n",
              "      <td>3</td>\n",
              "      <td>female</td>\n",
              "      <td>irregular</td>\n",
              "      <td>26 days 23:33:21.000000000</td>\n",
              "      <td>0.242</td>\n",
              "      <td>7.5</td>\n",
              "      <td>a1050000000wf14</td>\n",
              "      <td>General</td>\n",
              "      <td>No</td>\n",
              "      <td>99.0</td>\n",
              "      <td>3.3</td>\n",
              "    </tr>\n",
              "    <tr>\n",
              "      <th>2</th>\n",
              "      <td>653229</td>\n",
              "      <td>250</td>\n",
              "      <td>Tailoring</td>\n",
              "      <td>Services</td>\n",
              "      <td>KE</td>\n",
              "      <td>Kenya</td>\n",
              "      <td>Likoni</td>\n",
              "      <td>164</td>\n",
              "      <td>14</td>\n",
              "      <td>1</td>\n",
              "      <td>female</td>\n",
              "      <td>irregular</td>\n",
              "      <td>24 days 13:56:07.000000000</td>\n",
              "      <td>0.242</td>\n",
              "      <td>7.5</td>\n",
              "      <td>a1050000000wf14</td>\n",
              "      <td>General</td>\n",
              "      <td>No</td>\n",
              "      <td>99.0</td>\n",
              "      <td>3.3</td>\n",
              "    </tr>\n",
              "    <tr>\n",
              "      <th>3</th>\n",
              "      <td>653247</td>\n",
              "      <td>250</td>\n",
              "      <td>Food Stall</td>\n",
              "      <td>Food</td>\n",
              "      <td>KE</td>\n",
              "      <td>Kenya</td>\n",
              "      <td>Voi</td>\n",
              "      <td>164</td>\n",
              "      <td>13</td>\n",
              "      <td>9</td>\n",
              "      <td>female</td>\n",
              "      <td>irregular</td>\n",
              "      <td>31 days 11:53:40.000000000</td>\n",
              "      <td>0.242</td>\n",
              "      <td>7.7</td>\n",
              "      <td>a1050000000wf14</td>\n",
              "      <td>General</td>\n",
              "      <td>No</td>\n",
              "      <td>99.0</td>\n",
              "      <td>2.7</td>\n",
              "    </tr>\n",
              "    <tr>\n",
              "      <th>4</th>\n",
              "      <td>653345</td>\n",
              "      <td>600</td>\n",
              "      <td>Fruits &amp; Vegetables</td>\n",
              "      <td>Food</td>\n",
              "      <td>KE</td>\n",
              "      <td>Kenya</td>\n",
              "      <td>Likoni</td>\n",
              "      <td>164</td>\n",
              "      <td>14</td>\n",
              "      <td>22</td>\n",
              "      <td>female</td>\n",
              "      <td>irregular</td>\n",
              "      <td>25 days 14:25:13.000000000</td>\n",
              "      <td>0.242</td>\n",
              "      <td>7.5</td>\n",
              "      <td>a1050000000wf14</td>\n",
              "      <td>General</td>\n",
              "      <td>No</td>\n",
              "      <td>99.0</td>\n",
              "      <td>3.3</td>\n",
              "    </tr>\n",
              "  </tbody>\n",
              "</table>\n",
              "</div>"
            ],
            "text/plain": [
              "       id  funded_amount             activity    sector country_code country  \\\n",
              "0  653185            250  Fruits & Vegetables      Food           KE   Kenya   \n",
              "1  653237            250      Cosmetics Sales    Retail           KE   Kenya   \n",
              "2  653229            250            Tailoring  Services           KE   Kenya   \n",
              "3  653247            250           Food Stall      Food           KE   Kenya   \n",
              "4  653345            600  Fruits & Vegetables      Food           KE   Kenya   \n",
              "\n",
              "   region  partner_id  term_in_months  lender_count borrower_genders  \\\n",
              "0     Voi         164              13             7           female   \n",
              "1  Likoni         164              14             3           female   \n",
              "2  Likoni         164              14             1           female   \n",
              "3     Voi         164              13             9           female   \n",
              "4  Likoni         164              14            22           female   \n",
              "\n",
              "  repayment_interval                time_to_fund    MPI  Poverty Gap  \\\n",
              "0          irregular  21 days 10:40:01.000000000  0.242          7.7   \n",
              "1          irregular  26 days 23:33:21.000000000  0.242          7.5   \n",
              "2          irregular  24 days 13:56:07.000000000  0.242          7.5   \n",
              "3          irregular  31 days 11:53:40.000000000  0.242          7.7   \n",
              "4          irregular  25 days 14:25:13.000000000  0.242          7.5   \n",
              "\n",
              "     Loan Theme ID Loan Theme Type For_Kiva  rural_pct  Severity of Poverty  \n",
              "0  a1050000000wf14         General       No       99.0                  2.7  \n",
              "1  a1050000000wf14         General       No       99.0                  3.3  \n",
              "2  a1050000000wf14         General       No       99.0                  3.3  \n",
              "3  a1050000000wf14         General       No       99.0                  2.7  \n",
              "4  a1050000000wf14         General       No       99.0                  3.3  "
            ]
          },
          "metadata": {
            "tags": []
          },
          "execution_count": 52
        }
      ]
    },
    {
      "metadata": {
        "id": "MULal7HvaMdZ",
        "colab_type": "text"
      },
      "cell_type": "markdown",
      "source": [
        "# **Visualize relationships in data**"
      ]
    },
    {
      "metadata": {
        "id": "5NG8cFSZCkY6",
        "colab_type": "code",
        "colab": {
          "autoexec": {
            "startup": false,
            "wait_interval": 0
          }
        }
      },
      "cell_type": "code",
      "source": [
        "data = kenya_loans\n",
        "labels = data['Severity of Poverty']"
      ],
      "execution_count": 0,
      "outputs": []
    },
    {
      "metadata": {
        "id": "2CHftARUYDlH",
        "colab_type": "text"
      },
      "cell_type": "markdown",
      "source": [
        "Separate labels from the rest of the data"
      ]
    },
    {
      "metadata": {
        "id": "V_d0KU4TeXiK",
        "colab_type": "code",
        "colab": {
          "autoexec": {
            "startup": false,
            "wait_interval": 0
          },
          "base_uri": "https://localhost:8080/",
          "height": 758
        },
        "outputId": "bdf42983-27fa-4e74-9c25-e416c6b776ca",
        "executionInfo": {
          "status": "ok",
          "timestamp": 1526317089352,
          "user_tz": -180,
          "elapsed": 2065,
          "user": {
            "displayName": "martin muchui",
            "photoUrl": "https://lh3.googleusercontent.com/a/default-user=s128",
            "userId": "118445864454602802747"
          }
        }
      },
      "cell_type": "code",
      "source": [
        "#Correlation Matrix\n",
        "corr = data.corr()\n",
        "plt.figure(figsize=(20,12))\n",
        "sns.heatmap(corr, \n",
        "            xticklabels=corr.columns.values,\n",
        "            yticklabels=corr.columns.values, annot=True, cmap='cubehelix', square=True)\n",
        "plt.title('Correlation between different features')"
      ],
      "execution_count": 54,
      "outputs": [
        {
          "output_type": "execute_result",
          "data": {
            "text/plain": [
              "Text(0.5,1,'Correlation between different features')"
            ]
          },
          "metadata": {
            "tags": []
          },
          "execution_count": 54
        },
        {
          "output_type": "display_data",
          "data": {
            "image/png": "[encoded data removed]",
            "text/plain": [
              "<matplotlib.figure.Figure at 0x7f26a39dcd30>"
            ]
          },
          "metadata": {
            "tags": []
          }
        }
      ]
    },
    {
      "metadata": {
        "id": "XpN01Cpsfem1",
        "colab_type": "code",
        "colab": {
          "autoexec": {
            "startup": false,
            "wait_interval": 0
          },
          "base_uri": "https://localhost:8080/",
          "height": 572
        },
        "outputId": "54ec2ae0-0f35-420e-dd26-5038914666eb",
        "executionInfo": {
          "status": "ok",
          "timestamp": 1526317164571,
          "user_tz": -180,
          "elapsed": 1558,
          "user": {
            "displayName": "martin muchui",
            "photoUrl": "https://lh3.googleusercontent.com/a/default-user=s128",
            "userId": "118445864454602802747"
          }
        }
      },
      "cell_type": "code",
      "source": [
        "plt.figure(figsize=(15,8))\n",
        "count = data['region'].value_counts().head(10)\n",
        "sns.barplot(count.values, count.index)\n",
        "for i, v in enumerate(count.values):\n",
        "    plt.text(0.8,i,v,color='k',fontsize=19)\n",
        "plt.xlabel('Count', fontsize=14)\n",
        "plt.ylabel('Most funded regions in Kenya', fontsize=14)\n",
        "plt.title(\"Top 10 funded regions in Kenya\", fontsize=20)"
      ],
      "execution_count": 55,
      "outputs": [
        {
          "output_type": "stream",
          "text": [
            "/usr/local/lib/python3.6/dist-packages/seaborn/categorical.py:1428: FutureWarning: remove_na is deprecated and is a private function. Do not use.\n",
            "  stat_data = remove_na(group_data)\n"
          ],
          "name": "stderr"
        },
        {
          "output_type": "execute_result",
          "data": {
            "text/plain": [
              "Text(0.5,1,'Top 10 funded regions in Kenya')"
            ]
          },
          "metadata": {
            "tags": []
          },
          "execution_count": 55
        },
        {
          "output_type": "display_data",
          "data": {
            "image/png": "[encoded data removed]",
            "text/plain": [
              "<matplotlib.figure.Figure at 0x7f269e4b2f28>"
            ]
          },
          "metadata": {
            "tags": []
          }
        }
      ]
    },
    {
      "metadata": {
        "id": "kbwWKq2ChHWR",
        "colab_type": "code",
        "colab": {
          "autoexec": {
            "startup": false,
            "wait_interval": 0
          },
          "base_uri": "https://localhost:8080/",
          "height": 572
        },
        "outputId": "a67bfd7c-3eb1-4aa0-94bf-24dcef392894",
        "executionInfo": {
          "status": "ok",
          "timestamp": 1526315178386,
          "user_tz": -180,
          "elapsed": 1899,
          "user": {
            "displayName": "martin muchui",
            "photoUrl": "https://lh3.googleusercontent.com/a/default-user=s128",
            "userId": "118445864454602802747"
          }
        }
      },
      "cell_type": "code",
      "source": [
        "plt.figure(figsize=(15,8))\n",
        "count = data['sector'].value_counts().head(10)\n",
        "sns.barplot(count.values, count.index)\n",
        "for i, v in enumerate(count.values):\n",
        "    plt.text(0.8,i,v,color='k',fontsize=19)\n",
        "plt.xlabel('Count', fontsize=14)\n",
        "plt.ylabel('Most funded sectors in Kenya', fontsize=14)\n",
        "plt.title(\"Top 10 funded sectorss in Kenya\", fontsize=20)"
      ],
      "execution_count": 30,
      "outputs": [
        {
          "output_type": "stream",
          "text": [
            "/usr/local/lib/python3.6/dist-packages/seaborn/categorical.py:1428: FutureWarning: remove_na is deprecated and is a private function. Do not use.\n",
            "  stat_data = remove_na(group_data)\n"
          ],
          "name": "stderr"
        },
        {
          "output_type": "execute_result",
          "data": {
            "text/plain": [
              "Text(0.5,1,'Top 10 funded sectorss in Kenya')"
            ]
          },
          "metadata": {
            "tags": []
          },
          "execution_count": 30
        },
        {
          "output_type": "display_data",
          "data": {
            "image/png": "[encoded data removed]",
            "text/plain": [
              "<matplotlib.figure.Figure at 0x7f269e468278>"
            ]
          },
          "metadata": {
            "tags": []
          }
        }
      ]
    },
    {
      "metadata": {
        "id": "w0GMSPpl_3bY",
        "colab_type": "code",
        "colab": {
          "autoexec": {
            "startup": false,
            "wait_interval": 0
          }
        }
      },
      "cell_type": "code",
      "source": [
        "data['time_to_fund'] = [(int(i[:2])) for i in data.time_to_fund]\n",
        "data = data.drop(['country_code', 'country', 'region'], axis=1)"
      ],
      "execution_count": 0,
      "outputs": []
    },
    {
      "metadata": {
        "id": "RLt-QRR7l-u3",
        "colab_type": "code",
        "colab": {
          "autoexec": {
            "startup": false,
            "wait_interval": 0
          },
          "base_uri": "https://localhost:8080/",
          "height": 286
        },
        "outputId": "3639e639-b76f-4224-f13c-4ce1462cad6c",
        "executionInfo": {
          "status": "ok",
          "timestamp": 1526317189494,
          "user_tz": -180,
          "elapsed": 1042,
          "user": {
            "displayName": "martin muchui",
            "photoUrl": "https://lh3.googleusercontent.com/a/default-user=s128",
            "userId": "118445864454602802747"
          }
        }
      },
      "cell_type": "code",
      "source": [
        "data.describe()"
      ],
      "execution_count": 57,
      "outputs": [
        {
          "output_type": "execute_result",
          "data": {
            "text/html": [
              "<div>\n",
              "<style scoped>\n",
              "    .dataframe tbody tr th:only-of-type {\n",
              "        vertical-align: middle;\n",
              "    }\n",
              "\n",
              "    .dataframe tbody tr th {\n",
              "        vertical-align: top;\n",
              "    }\n",
              "\n",
              "    .dataframe thead th {\n",
              "        text-align: right;\n",
              "    }\n",
              "</style>\n",
              "<table border=\"1\" class=\"dataframe\">\n",
              "  <thead>\n",
              "    <tr style=\"text-align: right;\">\n",
              "      <th></th>\n",
              "      <th>id</th>\n",
              "      <th>funded_amount</th>\n",
              "      <th>partner_id</th>\n",
              "      <th>term_in_months</th>\n",
              "      <th>lender_count</th>\n",
              "      <th>time_to_fund</th>\n",
              "      <th>MPI</th>\n",
              "      <th>Poverty Gap</th>\n",
              "      <th>rural_pct</th>\n",
              "      <th>Severity of Poverty</th>\n",
              "    </tr>\n",
              "  </thead>\n",
              "  <tbody>\n",
              "    <tr>\n",
              "      <th>count</th>\n",
              "      <td>6.062000e+04</td>\n",
              "      <td>60620.000000</td>\n",
              "      <td>60620.000000</td>\n",
              "      <td>60620.000000</td>\n",
              "      <td>60620.000000</td>\n",
              "      <td>60620.000000</td>\n",
              "      <td>60620.000000</td>\n",
              "      <td>60620.000000</td>\n",
              "      <td>60620.000000</td>\n",
              "      <td>60620.000000</td>\n",
              "    </tr>\n",
              "    <tr>\n",
              "      <th>mean</th>\n",
              "      <td>1.000916e+06</td>\n",
              "      <td>452.472781</td>\n",
              "      <td>179.953563</td>\n",
              "      <td>12.852243</td>\n",
              "      <td>13.724233</td>\n",
              "      <td>24.426971</td>\n",
              "      <td>0.197530</td>\n",
              "      <td>9.236115</td>\n",
              "      <td>70.614748</td>\n",
              "      <td>3.618159</td>\n",
              "    </tr>\n",
              "    <tr>\n",
              "      <th>std</th>\n",
              "      <td>1.907112e+05</td>\n",
              "      <td>688.395432</td>\n",
              "      <td>74.903392</td>\n",
              "      <td>4.270713</td>\n",
              "      <td>20.397489</td>\n",
              "      <td>16.796169</td>\n",
              "      <td>0.053186</td>\n",
              "      <td>4.229563</td>\n",
              "      <td>38.834722</td>\n",
              "      <td>2.105645</td>\n",
              "    </tr>\n",
              "    <tr>\n",
              "      <th>min</th>\n",
              "      <td>6.531570e+05</td>\n",
              "      <td>25.000000</td>\n",
              "      <td>133.000000</td>\n",
              "      <td>2.000000</td>\n",
              "      <td>1.000000</td>\n",
              "      <td>-9.000000</td>\n",
              "      <td>0.020000</td>\n",
              "      <td>2.400000</td>\n",
              "      <td>0.000000</td>\n",
              "      <td>0.500000</td>\n",
              "    </tr>\n",
              "    <tr>\n",
              "      <th>25%</th>\n",
              "      <td>8.497898e+05</td>\n",
              "      <td>225.000000</td>\n",
              "      <td>138.000000</td>\n",
              "      <td>11.000000</td>\n",
              "      <td>7.000000</td>\n",
              "      <td>11.000000</td>\n",
              "      <td>0.205000</td>\n",
              "      <td>7.500000</td>\n",
              "      <td>65.000000</td>\n",
              "      <td>2.700000</td>\n",
              "    </tr>\n",
              "    <tr>\n",
              "      <th>50%</th>\n",
              "      <td>1.001801e+06</td>\n",
              "      <td>350.000000</td>\n",
              "      <td>156.000000</td>\n",
              "      <td>14.000000</td>\n",
              "      <td>10.000000</td>\n",
              "      <td>24.000000</td>\n",
              "      <td>0.205000</td>\n",
              "      <td>9.100000</td>\n",
              "      <td>99.000000</td>\n",
              "      <td>3.400000</td>\n",
              "    </tr>\n",
              "    <tr>\n",
              "      <th>75%</th>\n",
              "      <td>1.178655e+06</td>\n",
              "      <td>550.000000</td>\n",
              "      <td>164.000000</td>\n",
              "      <td>14.000000</td>\n",
              "      <td>17.000000</td>\n",
              "      <td>36.000000</td>\n",
              "      <td>0.223000</td>\n",
              "      <td>10.800000</td>\n",
              "      <td>99.000000</td>\n",
              "      <td>4.000000</td>\n",
              "    </tr>\n",
              "    <tr>\n",
              "      <th>max</th>\n",
              "      <td>1.335884e+06</td>\n",
              "      <td>50000.000000</td>\n",
              "      <td>529.000000</td>\n",
              "      <td>122.000000</td>\n",
              "      <td>1589.000000</td>\n",
              "      <td>94.000000</td>\n",
              "      <td>0.242000</td>\n",
              "      <td>46.000000</td>\n",
              "      <td>99.000000</td>\n",
              "      <td>30.800000</td>\n",
              "    </tr>\n",
              "  </tbody>\n",
              "</table>\n",
              "</div>"
            ],
            "text/plain": [
              "                 id  funded_amount    partner_id  term_in_months  \\\n",
              "count  6.062000e+04   60620.000000  60620.000000    60620.000000   \n",
              "mean   1.000916e+06     452.472781    179.953563       12.852243   \n",
              "std    1.907112e+05     688.395432     74.903392        4.270713   \n",
              "min    6.531570e+05      25.000000    133.000000        2.000000   \n",
              "25%    8.497898e+05     225.000000    138.000000       11.000000   \n",
              "50%    1.001801e+06     350.000000    156.000000       14.000000   \n",
              "75%    1.178655e+06     550.000000    164.000000       14.000000   \n",
              "max    1.335884e+06   50000.000000    529.000000      122.000000   \n",
              "\n",
              "       lender_count  time_to_fund           MPI   Poverty Gap     rural_pct  \\\n",
              "count  60620.000000  60620.000000  60620.000000  60620.000000  60620.000000   \n",
              "mean      13.724233     24.426971      0.197530      9.236115     70.614748   \n",
              "std       20.397489     16.796169      0.053186      4.229563     38.834722   \n",
              "min        1.000000     -9.000000      0.020000      2.400000      0.000000   \n",
              "25%        7.000000     11.000000      0.205000      7.500000     65.000000   \n",
              "50%       10.000000     24.000000      0.205000      9.100000     99.000000   \n",
              "75%       17.000000     36.000000      0.223000     10.800000     99.000000   \n",
              "max     1589.000000     94.000000      0.242000     46.000000     99.000000   \n",
              "\n",
              "       Severity of Poverty  \n",
              "count         60620.000000  \n",
              "mean              3.618159  \n",
              "std               2.105645  \n",
              "min               0.500000  \n",
              "25%               2.700000  \n",
              "50%               3.400000  \n",
              "75%               4.000000  \n",
              "max              30.800000  "
            ]
          },
          "metadata": {
            "tags": []
          },
          "execution_count": 57
        }
      ]
    },
    {
      "metadata": {
        "id": "dhVWx2QZXD9r",
        "colab_type": "text"
      },
      "cell_type": "markdown",
      "source": [
        "*Drop columns with data that we'll not require to build a model*"
      ]
    },
    {
      "metadata": {
        "id": "VODrzrV-PbWe",
        "colab_type": "code",
        "colab": {
          "autoexec": {
            "startup": false,
            "wait_interval": 0
          },
          "base_uri": "https://localhost:8080/",
          "height": 33
        },
        "outputId": "2c6a1b97-50ef-4c24-cc37-c583bf2a8776",
        "executionInfo": {
          "status": "ok",
          "timestamp": 1526317204905,
          "user_tz": -180,
          "elapsed": 1225,
          "user": {
            "displayName": "martin muchui",
            "photoUrl": "https://lh3.googleusercontent.com/a/default-user=s128",
            "userId": "118445864454602802747"
          }
        }
      },
      "cell_type": "code",
      "source": [
        "len(set(data['borrower_genders']))\n"
      ],
      "execution_count": 58,
      "outputs": [
        {
          "output_type": "execute_result",
          "data": {
            "text/plain": [
              "4689"
            ]
          },
          "metadata": {
            "tags": []
          },
          "execution_count": 58
        }
      ]
    },
    {
      "metadata": {
        "id": "vNYGMv49XgGl",
        "colab_type": "text"
      },
      "cell_type": "markdown",
      "source": [
        "*Notice how many unique values are contained in 'borrower_genders' column.\n",
        "These would lead to many unnecessary columns being created after label encoding has been done*"
      ]
    },
    {
      "metadata": {
        "id": "7Wk5rgL3PzKm",
        "colab_type": "code",
        "colab": {
          "autoexec": {
            "startup": false,
            "wait_interval": 0
          }
        }
      },
      "cell_type": "code",
      "source": [
        "data.borrower_genders = [\"male\" if i[0]==\"m\" else \"female\" for i in data.borrower_genders]"
      ],
      "execution_count": 0,
      "outputs": []
    },
    {
      "metadata": {
        "id": "4Oh9YZs6YSbr",
        "colab_type": "text"
      },
      "cell_type": "markdown",
      "source": [
        "Reduce the number of unique gender values to \"male\" and \"female\""
      ]
    },
    {
      "metadata": {
        "id": "1BUlYdo9DGQn",
        "colab_type": "code",
        "colab": {
          "autoexec": {
            "startup": false,
            "wait_interval": 0
          }
        }
      },
      "cell_type": "code",
      "source": [
        "set(data.activity);"
      ],
      "execution_count": 0,
      "outputs": []
    },
    {
      "metadata": {
        "id": "KsygpaT1C3gw",
        "colab_type": "code",
        "colab": {
          "autoexec": {
            "startup": false,
            "wait_interval": 0
          },
          "base_uri": "https://localhost:8080/",
          "height": 513
        },
        "outputId": "31498693-bcb5-41d7-faa7-e2f9899640ae",
        "executionInfo": {
          "status": "error",
          "timestamp": 1526317276497,
          "user_tz": -180,
          "elapsed": 1090,
          "user": {
            "displayName": "martin muchui",
            "photoUrl": "https://lh3.googleusercontent.com/a/default-user=s128",
            "userId": "118445864454602802747"
          }
        }
      },
      "cell_type": "code",
      "source": [
        "data = data.drop(['id', 'activity','Severity of Poverty', 'Loan Theme ID'], axis=1)\n",
        "# data = data.drop(['id', 'activity','Severity of Poverty', 'Loan Theme ID', 'Poverty Gap'], axis=1)"
      ],
      "execution_count": 62,
      "outputs": [
        {
          "output_type": "error",
          "ename": "ValueError",
          "evalue": "ignored",
          "traceback": [
            "\u001b[0;31m---------------------------------------------------------------------------\u001b[0m",
            "\u001b[0;31mValueError\u001b[0m                                Traceback (most recent call last)",
            "\u001b[0;32m<ipython-input-62-0fd50c433413>\u001b[0m in \u001b[0;36m<module>\u001b[0;34m()\u001b[0m\n\u001b[0;32m----> 1\u001b[0;31m \u001b[0mdata\u001b[0m \u001b[0;34m=\u001b[0m \u001b[0mdata\u001b[0m\u001b[0;34m.\u001b[0m\u001b[0mdrop\u001b[0m\u001b[0;34m(\u001b[0m\u001b[0;34m[\u001b[0m\u001b[0;34m'id'\u001b[0m\u001b[0;34m,\u001b[0m \u001b[0;34m'activity'\u001b[0m\u001b[0;34m,\u001b[0m\u001b[0;34m'Severity of Poverty'\u001b[0m\u001b[0;34m,\u001b[0m \u001b[0;34m'Loan Theme ID'\u001b[0m\u001b[0;34m,\u001b[0m \u001b[0;34m'Poverty Gap'\u001b[0m\u001b[0;34m]\u001b[0m\u001b[0;34m,\u001b[0m \u001b[0maxis\u001b[0m\u001b[0;34m=\u001b[0m\u001b[0;36m1\u001b[0m\u001b[0;34m)\u001b[0m\u001b[0;34m\u001b[0m\u001b[0m\n\u001b[0m",
            "\u001b[0;32m/usr/local/lib/python3.6/dist-packages/pandas/core/generic.py\u001b[0m in \u001b[0;36mdrop\u001b[0;34m(self, labels, axis, index, columns, level, inplace, errors)\u001b[0m\n\u001b[1;32m   2528\u001b[0m         \u001b[0;32mfor\u001b[0m \u001b[0maxis\u001b[0m\u001b[0;34m,\u001b[0m \u001b[0mlabels\u001b[0m \u001b[0;32min\u001b[0m \u001b[0maxes\u001b[0m\u001b[0;34m.\u001b[0m\u001b[0mitems\u001b[0m\u001b[0;34m(\u001b[0m\u001b[0;34m)\u001b[0m\u001b[0;34m:\u001b[0m\u001b[0;34m\u001b[0m\u001b[0m\n\u001b[1;32m   2529\u001b[0m             \u001b[0;32mif\u001b[0m \u001b[0mlabels\u001b[0m \u001b[0;32mis\u001b[0m \u001b[0;32mnot\u001b[0m \u001b[0;32mNone\u001b[0m\u001b[0;34m:\u001b[0m\u001b[0;34m\u001b[0m\u001b[0m\n\u001b[0;32m-> 2530\u001b[0;31m                 \u001b[0mobj\u001b[0m \u001b[0;34m=\u001b[0m \u001b[0mobj\u001b[0m\u001b[0;34m.\u001b[0m\u001b[0m_drop_axis\u001b[0m\u001b[0;34m(\u001b[0m\u001b[0mlabels\u001b[0m\u001b[0;34m,\u001b[0m \u001b[0maxis\u001b[0m\u001b[0;34m,\u001b[0m \u001b[0mlevel\u001b[0m\u001b[0;34m=\u001b[0m\u001b[0mlevel\u001b[0m\u001b[0;34m,\u001b[0m \u001b[0merrors\u001b[0m\u001b[0;34m=\u001b[0m\u001b[0merrors\u001b[0m\u001b[0;34m)\u001b[0m\u001b[0;34m\u001b[0m\u001b[0m\n\u001b[0m\u001b[1;32m   2531\u001b[0m \u001b[0;34m\u001b[0m\u001b[0m\n\u001b[1;32m   2532\u001b[0m         \u001b[0;32mif\u001b[0m \u001b[0minplace\u001b[0m\u001b[0;34m:\u001b[0m\u001b[0;34m\u001b[0m\u001b[0m\n",
            "\u001b[0;32m/usr/local/lib/python3.6/dist-packages/pandas/core/generic.py\u001b[0m in \u001b[0;36m_drop_axis\u001b[0;34m(self, labels, axis, level, errors)\u001b[0m\n\u001b[1;32m   2560\u001b[0m                 \u001b[0mnew_axis\u001b[0m \u001b[0;34m=\u001b[0m \u001b[0maxis\u001b[0m\u001b[0;34m.\u001b[0m\u001b[0mdrop\u001b[0m\u001b[0;34m(\u001b[0m\u001b[0mlabels\u001b[0m\u001b[0;34m,\u001b[0m \u001b[0mlevel\u001b[0m\u001b[0;34m=\u001b[0m\u001b[0mlevel\u001b[0m\u001b[0;34m,\u001b[0m \u001b[0merrors\u001b[0m\u001b[0;34m=\u001b[0m\u001b[0merrors\u001b[0m\u001b[0;34m)\u001b[0m\u001b[0;34m\u001b[0m\u001b[0m\n\u001b[1;32m   2561\u001b[0m             \u001b[0;32melse\u001b[0m\u001b[0;34m:\u001b[0m\u001b[0;34m\u001b[0m\u001b[0m\n\u001b[0;32m-> 2562\u001b[0;31m                 \u001b[0mnew_axis\u001b[0m \u001b[0;34m=\u001b[0m \u001b[0maxis\u001b[0m\u001b[0;34m.\u001b[0m\u001b[0mdrop\u001b[0m\u001b[0;34m(\u001b[0m\u001b[0mlabels\u001b[0m\u001b[0;34m,\u001b[0m \u001b[0merrors\u001b[0m\u001b[0;34m=\u001b[0m\u001b[0merrors\u001b[0m\u001b[0;34m)\u001b[0m\u001b[0;34m\u001b[0m\u001b[0m\n\u001b[0m\u001b[1;32m   2563\u001b[0m             \u001b[0mdropped\u001b[0m \u001b[0;34m=\u001b[0m \u001b[0mself\u001b[0m\u001b[0;34m.\u001b[0m\u001b[0mreindex\u001b[0m\u001b[0;34m(\u001b[0m\u001b[0;34m**\u001b[0m\u001b[0;34m{\u001b[0m\u001b[0maxis_name\u001b[0m\u001b[0;34m:\u001b[0m \u001b[0mnew_axis\u001b[0m\u001b[0;34m}\u001b[0m\u001b[0;34m)\u001b[0m\u001b[0;34m\u001b[0m\u001b[0m\n\u001b[1;32m   2564\u001b[0m             \u001b[0;32mtry\u001b[0m\u001b[0;34m:\u001b[0m\u001b[0;34m\u001b[0m\u001b[0m\n",
            "\u001b[0;32m/usr/local/lib/python3.6/dist-packages/pandas/core/indexes/base.py\u001b[0m in \u001b[0;36mdrop\u001b[0;34m(self, labels, errors)\u001b[0m\n\u001b[1;32m   3742\u001b[0m             \u001b[0;32mif\u001b[0m \u001b[0merrors\u001b[0m \u001b[0;34m!=\u001b[0m \u001b[0;34m'ignore'\u001b[0m\u001b[0;34m:\u001b[0m\u001b[0;34m\u001b[0m\u001b[0m\n\u001b[1;32m   3743\u001b[0m                 raise ValueError('labels %s not contained in axis' %\n\u001b[0;32m-> 3744\u001b[0;31m                                  labels[mask])\n\u001b[0m\u001b[1;32m   3745\u001b[0m             \u001b[0mindexer\u001b[0m \u001b[0;34m=\u001b[0m \u001b[0mindexer\u001b[0m\u001b[0;34m[\u001b[0m\u001b[0;34m~\u001b[0m\u001b[0mmask\u001b[0m\u001b[0;34m]\u001b[0m\u001b[0;34m\u001b[0m\u001b[0m\n\u001b[1;32m   3746\u001b[0m         \u001b[0;32mreturn\u001b[0m \u001b[0mself\u001b[0m\u001b[0;34m.\u001b[0m\u001b[0mdelete\u001b[0m\u001b[0;34m(\u001b[0m\u001b[0mindexer\u001b[0m\u001b[0;34m)\u001b[0m\u001b[0;34m\u001b[0m\u001b[0m\n",
            "\u001b[0;31mValueError\u001b[0m: labels ['id' 'activity' 'Severity of Poverty' 'Loan Theme ID'] not contained in axis"
          ]
        }
      ]
    },
    {
      "metadata": {
        "id": "6IOvGizAENhv",
        "colab_type": "code",
        "colab": {
          "autoexec": {
            "startup": false,
            "wait_interval": 0
          },
          "base_uri": "https://localhost:8080/",
          "height": 250
        },
        "outputId": "22ddc188-c4bf-4c2f-d747-2fdf298817ca",
        "executionInfo": {
          "status": "ok",
          "timestamp": 1526317287743,
          "user_tz": -180,
          "elapsed": 1090,
          "user": {
            "displayName": "martin muchui",
            "photoUrl": "https://lh3.googleusercontent.com/a/default-user=s128",
            "userId": "118445864454602802747"
          }
        }
      },
      "cell_type": "code",
      "source": [
        "data.head()"
      ],
      "execution_count": 63,
      "outputs": [
        {
          "output_type": "execute_result",
          "data": {
            "text/html": [
              "<div>\n",
              "<style scoped>\n",
              "    .dataframe tbody tr th:only-of-type {\n",
              "        vertical-align: middle;\n",
              "    }\n",
              "\n",
              "    .dataframe tbody tr th {\n",
              "        vertical-align: top;\n",
              "    }\n",
              "\n",
              "    .dataframe thead th {\n",
              "        text-align: right;\n",
              "    }\n",
              "</style>\n",
              "<table border=\"1\" class=\"dataframe\">\n",
              "  <thead>\n",
              "    <tr style=\"text-align: right;\">\n",
              "      <th></th>\n",
              "      <th>funded_amount</th>\n",
              "      <th>sector</th>\n",
              "      <th>partner_id</th>\n",
              "      <th>term_in_months</th>\n",
              "      <th>lender_count</th>\n",
              "      <th>borrower_genders</th>\n",
              "      <th>repayment_interval</th>\n",
              "      <th>time_to_fund</th>\n",
              "      <th>MPI</th>\n",
              "      <th>Poverty Gap</th>\n",
              "      <th>Loan Theme Type</th>\n",
              "      <th>For_Kiva</th>\n",
              "      <th>rural_pct</th>\n",
              "    </tr>\n",
              "  </thead>\n",
              "  <tbody>\n",
              "    <tr>\n",
              "      <th>0</th>\n",
              "      <td>250</td>\n",
              "      <td>Food</td>\n",
              "      <td>164</td>\n",
              "      <td>13</td>\n",
              "      <td>7</td>\n",
              "      <td>female</td>\n",
              "      <td>irregular</td>\n",
              "      <td>21</td>\n",
              "      <td>0.242</td>\n",
              "      <td>7.7</td>\n",
              "      <td>General</td>\n",
              "      <td>No</td>\n",
              "      <td>99.0</td>\n",
              "    </tr>\n",
              "    <tr>\n",
              "      <th>1</th>\n",
              "      <td>250</td>\n",
              "      <td>Retail</td>\n",
              "      <td>164</td>\n",
              "      <td>14</td>\n",
              "      <td>3</td>\n",
              "      <td>female</td>\n",
              "      <td>irregular</td>\n",
              "      <td>26</td>\n",
              "      <td>0.242</td>\n",
              "      <td>7.5</td>\n",
              "      <td>General</td>\n",
              "      <td>No</td>\n",
              "      <td>99.0</td>\n",
              "    </tr>\n",
              "    <tr>\n",
              "      <th>2</th>\n",
              "      <td>250</td>\n",
              "      <td>Services</td>\n",
              "      <td>164</td>\n",
              "      <td>14</td>\n",
              "      <td>1</td>\n",
              "      <td>female</td>\n",
              "      <td>irregular</td>\n",
              "      <td>24</td>\n",
              "      <td>0.242</td>\n",
              "      <td>7.5</td>\n",
              "      <td>General</td>\n",
              "      <td>No</td>\n",
              "      <td>99.0</td>\n",
              "    </tr>\n",
              "    <tr>\n",
              "      <th>3</th>\n",
              "      <td>250</td>\n",
              "      <td>Food</td>\n",
              "      <td>164</td>\n",
              "      <td>13</td>\n",
              "      <td>9</td>\n",
              "      <td>female</td>\n",
              "      <td>irregular</td>\n",
              "      <td>31</td>\n",
              "      <td>0.242</td>\n",
              "      <td>7.7</td>\n",
              "      <td>General</td>\n",
              "      <td>No</td>\n",
              "      <td>99.0</td>\n",
              "    </tr>\n",
              "    <tr>\n",
              "      <th>4</th>\n",
              "      <td>600</td>\n",
              "      <td>Food</td>\n",
              "      <td>164</td>\n",
              "      <td>14</td>\n",
              "      <td>22</td>\n",
              "      <td>female</td>\n",
              "      <td>irregular</td>\n",
              "      <td>25</td>\n",
              "      <td>0.242</td>\n",
              "      <td>7.5</td>\n",
              "      <td>General</td>\n",
              "      <td>No</td>\n",
              "      <td>99.0</td>\n",
              "    </tr>\n",
              "  </tbody>\n",
              "</table>\n",
              "</div>"
            ],
            "text/plain": [
              "   funded_amount    sector  partner_id  term_in_months  lender_count  \\\n",
              "0            250      Food         164              13             7   \n",
              "1            250    Retail         164              14             3   \n",
              "2            250  Services         164              14             1   \n",
              "3            250      Food         164              13             9   \n",
              "4            600      Food         164              14            22   \n",
              "\n",
              "  borrower_genders repayment_interval  time_to_fund    MPI  Poverty Gap  \\\n",
              "0           female          irregular            21  0.242          7.7   \n",
              "1           female          irregular            26  0.242          7.5   \n",
              "2           female          irregular            24  0.242          7.5   \n",
              "3           female          irregular            31  0.242          7.7   \n",
              "4           female          irregular            25  0.242          7.5   \n",
              "\n",
              "  Loan Theme Type For_Kiva  rural_pct  \n",
              "0         General       No       99.0  \n",
              "1         General       No       99.0  \n",
              "2         General       No       99.0  \n",
              "3         General       No       99.0  \n",
              "4         General       No       99.0  "
            ]
          },
          "metadata": {
            "tags": []
          },
          "execution_count": 63
        }
      ]
    },
    {
      "metadata": {
        "id": "RAM9ZRM1Y3pZ",
        "colab_type": "text"
      },
      "cell_type": "markdown",
      "source": [
        "**Perform one Hot encoding**"
      ]
    },
    {
      "metadata": {
        "id": "m4zQo9YFEgvu",
        "colab_type": "code",
        "colab": {
          "autoexec": {
            "startup": false,
            "wait_interval": 0
          }
        }
      },
      "cell_type": "code",
      "source": [
        "data = pd.get_dummies(data, prefix=['sector', 'sex', 'interv', 'theme'], columns=['sector', 'borrower_genders', 'repayment_interval', 'Loan Theme Type'])\n"
      ],
      "execution_count": 0,
      "outputs": []
    },
    {
      "metadata": {
        "id": "8JdnUtyJY-F6",
        "colab_type": "text"
      },
      "cell_type": "markdown",
      "source": [
        "Use label encoder to encode data contained in \"For_Kiva\" column"
      ]
    },
    {
      "metadata": {
        "id": "jqeAn-R7Jv5o",
        "colab_type": "code",
        "colab": {
          "autoexec": {
            "startup": false,
            "wait_interval": 0
          }
        }
      },
      "cell_type": "code",
      "source": [
        "le = LabelEncoder()\n",
        "data.For_Kiva = le.fit_transform(data.For_Kiva)"
      ],
      "execution_count": 0,
      "outputs": []
    },
    {
      "metadata": {
        "id": "98cbvYxEmhPX",
        "colab_type": "code",
        "colab": {
          "autoexec": {
            "startup": false,
            "wait_interval": 0
          }
        }
      },
      "cell_type": "code",
      "source": [
        "data = data.drop(['Poverty Gap'], axis=1)"
      ],
      "execution_count": 0,
      "outputs": []
    },
    {
      "metadata": {
        "id": "xlymDDoCGwF8",
        "colab_type": "code",
        "colab": {
          "autoexec": {
            "startup": false,
            "wait_interval": 0
          },
          "base_uri": "https://localhost:8080/",
          "height": 33
        },
        "outputId": "88393ab0-a48b-4a66-f323-f67611c17023",
        "executionInfo": {
          "status": "ok",
          "timestamp": 1526317340578,
          "user_tz": -180,
          "elapsed": 1297,
          "user": {
            "displayName": "martin muchui",
            "photoUrl": "https://lh3.googleusercontent.com/a/default-user=s128",
            "userId": "118445864454602802747"
          }
        }
      },
      "cell_type": "code",
      "source": [
        "# print(data.head())\n",
        "print(data.shape)\n"
      ],
      "execution_count": 67,
      "outputs": [
        {
          "output_type": "stream",
          "text": [
            "(60620, 53)\n"
          ],
          "name": "stdout"
        }
      ]
    },
    {
      "metadata": {
        "id": "n4BQ-8dJRR-0",
        "colab_type": "code",
        "colab": {
          "autoexec": {
            "startup": false,
            "wait_interval": 0
          },
          "base_uri": "https://localhost:8080/",
          "height": 84
        },
        "outputId": "6097991d-abef-4862-b99b-1318d55e37b3",
        "executionInfo": {
          "status": "ok",
          "timestamp": 1526317343843,
          "user_tz": -180,
          "elapsed": 1089,
          "user": {
            "displayName": "martin muchui",
            "photoUrl": "https://lh3.googleusercontent.com/a/default-user=s128",
            "userId": "118445864454602802747"
          }
        }
      },
      "cell_type": "code",
      "source": [
        "X_train, X_test, y_train, y_test = train_test_split(data, labels, test_size=0.2)\n",
        "print(X_train.shape)\n",
        "print(X_test.shape)\n",
        "print(y_train.shape)\n",
        "print(y_test.shape)"
      ],
      "execution_count": 68,
      "outputs": [
        {
          "output_type": "stream",
          "text": [
            "(48496, 53)\n",
            "(12124, 53)\n",
            "(48496,)\n",
            "(12124,)\n"
          ],
          "name": "stdout"
        }
      ]
    },
    {
      "metadata": {
        "id": "X7npWeMBqE4H",
        "colab_type": "text"
      },
      "cell_type": "markdown",
      "source": [
        "Split training and testing data"
      ]
    },
    {
      "metadata": {
        "id": "pZMnVuy3qOCn",
        "colab_type": "text"
      },
      "cell_type": "markdown",
      "source": [
        "# Model Building"
      ]
    },
    {
      "metadata": {
        "id": "3fv9XQOVqfZh",
        "colab_type": "code",
        "colab": {
          "autoexec": {
            "startup": false,
            "wait_interval": 0
          }
        }
      },
      "cell_type": "code",
      "source": [
        "lm = linear_model.LinearRegression()\n",
        "model = lm.fit(X_train,y_train)"
      ],
      "execution_count": 0,
      "outputs": []
    },
    {
      "metadata": {
        "id": "D1eUGER_sRgh",
        "colab_type": "code",
        "colab": {
          "autoexec": {
            "startup": false,
            "wait_interval": 0
          }
        }
      },
      "cell_type": "code",
      "source": [
        "y_pred = model.predict(X_test)"
      ],
      "execution_count": 0,
      "outputs": []
    },
    {
      "metadata": {
        "id": "YC1l2mFasTvt",
        "colab_type": "code",
        "colab": {
          "autoexec": {
            "startup": false,
            "wait_interval": 0
          }
        }
      },
      "cell_type": "code",
      "source": [
        "def accuracy_check(y_test, y_pred, tolerance):\n",
        "  y_test = list(y_test)\n",
        "  if len(y_test) != len(y_pred):\n",
        "    return \"Error! Y_test and Y_pred must be of equal size!\"\n",
        "  else:\n",
        "    correct = 0.0\n",
        "    for i in range(len(y_test)):\n",
        "      error = abs(y_test[i] - y_pred[i])\n",
        "      if error < tolerance:\n",
        "        correct += 1\n",
        "    return correct/len(y_test)\n",
        "\n",
        "  \n"
      ],
      "execution_count": 0,
      "outputs": []
    },
    {
      "metadata": {
        "id": "GOUCliw3t7-e",
        "colab_type": "code",
        "colab": {
          "autoexec": {
            "startup": false,
            "wait_interval": 0
          },
          "base_uri": "https://localhost:8080/",
          "height": 33
        },
        "outputId": "79369c65-4173-44c2-8d95-6884ec66d9ac",
        "executionInfo": {
          "status": "ok",
          "timestamp": 1526317358552,
          "user_tz": -180,
          "elapsed": 963,
          "user": {
            "displayName": "martin muchui",
            "photoUrl": "https://lh3.googleusercontent.com/a/default-user=s128",
            "userId": "118445864454602802747"
          }
        }
      },
      "cell_type": "code",
      "source": [
        "accuracy_check(y_test, y_pred, 0.5)"
      ],
      "execution_count": 72,
      "outputs": [
        {
          "output_type": "execute_result",
          "data": {
            "text/plain": [
              "0.31012867040580666"
            ]
          },
          "metadata": {
            "tags": []
          },
          "execution_count": 72
        }
      ]
    },
    {
      "metadata": {
        "id": "J-kU8jGddlAU",
        "colab_type": "code",
        "colab": {
          "autoexec": {
            "startup": false,
            "wait_interval": 0
          },
          "base_uri": "https://localhost:8080/",
          "height": 33
        },
        "outputId": "b73defba-1709-4cd5-fbb4-1ac0e6bf0790",
        "executionInfo": {
          "status": "ok",
          "timestamp": 1526317382808,
          "user_tz": -180,
          "elapsed": 963,
          "user": {
            "displayName": "martin muchui",
            "photoUrl": "https://lh3.googleusercontent.com/a/default-user=s128",
            "userId": "118445864454602802747"
          }
        }
      },
      "cell_type": "code",
      "source": [
        "accuracy_check(y_test, y_pred, 1)"
      ],
      "execution_count": 75,
      "outputs": [
        {
          "output_type": "execute_result",
          "data": {
            "text/plain": [
              "0.6112669086110195"
            ]
          },
          "metadata": {
            "tags": []
          },
          "execution_count": 75
        }
      ]
    },
    {
      "metadata": {
        "id": "EO8KQ8CfmxPu",
        "colab_type": "code",
        "colab": {
          "autoexec": {
            "startup": false,
            "wait_interval": 0
          },
          "base_uri": "https://localhost:8080/",
          "height": 33
        },
        "outputId": "7c4467e0-03ab-45e7-9eb7-2e1d77f3d945",
        "executionInfo": {
          "status": "ok",
          "timestamp": 1526317481000,
          "user_tz": -180,
          "elapsed": 892,
          "user": {
            "displayName": "martin muchui",
            "photoUrl": "https://lh3.googleusercontent.com/a/default-user=s128",
            "userId": "118445864454602802747"
          }
        }
      },
      "cell_type": "code",
      "source": [
        "accuracy_check(y_test, y_pred, 2)"
      ],
      "execution_count": 80,
      "outputs": [
        {
          "output_type": "execute_result",
          "data": {
            "text/plain": [
              "0.8834543055097328"
            ]
          },
          "metadata": {
            "tags": []
          },
          "execution_count": 80
        }
      ]
    }
  ]
}