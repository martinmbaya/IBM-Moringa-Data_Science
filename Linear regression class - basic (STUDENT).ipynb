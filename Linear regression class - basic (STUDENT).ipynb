{
 "cells": [
  {
   "cell_type": "markdown",
   "metadata": {},
   "source": [
    "# Basic linear regression"
   ]
  },
  {
   "cell_type": "markdown",
   "metadata": {},
   "source": [
    "## Import packages"
   ]
  },
  {
   "cell_type": "markdown",
   "metadata": {},
   "source": [
    "First things first, let's import the packages we need:\n",
    "\n",
    "- pandas: import and clean data\n",
    "- numpy: anything to do with arrays and numbers\n",
    "- matplotlib: visualize data (seaborn is also a good alternative for graphs)\n",
    "- scikit-learn: machine learning package that does preprocessing, model fitting, testing"
   ]
  },
  {
   "cell_type": "code",
   "execution_count": 45,
   "metadata": {},
   "outputs": [],
   "source": [
    "import pandas as pd\n",
    "import numpy as np\n",
    "import matplotlib.pyplot as plt\n",
    "from sklearn import linear_model\n"
   ]
  },
  {
   "cell_type": "markdown",
   "metadata": {},
   "source": [
    "## Read in dataset"
   ]
  },
  {
   "cell_type": "code",
   "execution_count": 21,
   "metadata": {
    "scrolled": true
   },
   "outputs": [
    {
     "name": "stdout",
     "output_type": "stream",
     "text": [
      "(15, 2)\n",
      "['Temperature', 'Chirps per minute']\n"
     ]
    },
    {
     "data": {
      "text/plain": [
       "<bound method NDFrame.head of     Temperature  Chirps per minute\n",
       "0     20.000000          88.599998\n",
       "1     16.000000          71.599998\n",
       "2     19.799999          93.300003\n",
       "3     18.400000          84.300003\n",
       "4     17.100000          80.599998\n",
       "5     15.500000          75.199997\n",
       "6     14.700000          69.699997\n",
       "7     17.100000          82.000000\n",
       "8     15.400000          69.400002\n",
       "9     16.200001          83.300003\n",
       "10    15.000000          79.599998\n",
       "11    17.200001          82.599998\n",
       "12    16.000000          80.599998\n",
       "13    17.000000          83.500000\n",
       "14    14.400000          76.300003>"
      ]
     },
     "execution_count": 21,
     "metadata": {},
     "output_type": "execute_result"
    }
   ],
   "source": [
    "# File path\n",
    "fp = (\"C:/Users/Martin Mbaya/Desktop/Parsel Tongue/IBM/Student Info Class 3/crickets.xlsx\")\n",
    "\n",
    "data = pd.read_excel(fp, sheet_name = \"data\" )\n",
    "\n",
    "df_shape = data.shape\n",
    "print(df_shape)\n",
    "print(list(data))\n",
    "data.head"
   ]
  },
  {
   "cell_type": "markdown",
   "metadata": {},
   "source": [
    "## Pre-process the data\n",
    "\n",
    "Let's split the data into two arrays: the target variable (the one we're trying to predict, chirps per minute) and the independent variable (temperature)"
   ]
  },
  {
   "cell_type": "code",
   "execution_count": 25,
   "metadata": {},
   "outputs": [
    {
     "name": "stdout",
     "output_type": "stream",
     "text": [
      "Shape of x:  (15,)\n",
      "Shape of y:  (15,)\n"
     ]
    }
   ],
   "source": [
    "# define the predictor variable\n",
    "x = data.Temperature.values\n",
    "print ('Shape of x: ', x.shape)\n",
    "\n",
    "# Put the target in another DataFrame\n",
    "y = data['Chirps per minute'].values\n",
    "print ('Shape of y: ', y.shape)\n",
    "\n"
   ]
  },
  {
   "cell_type": "markdown",
   "metadata": {},
   "source": [
    "## Plot the data"
   ]
  },
  {
   "cell_type": "code",
   "execution_count": 34,
   "metadata": {},
   "outputs": [
    {
     "data": {
      "image/png": "[encoded data removed]",
      "text/plain": [
       "<matplotlib.figure.Figure at 0x209f954bc88>"
      ]
     },
     "metadata": {},
     "output_type": "display_data"
    }
   ],
   "source": [
    "plt.plot(x, y, '>', color='blue');\n",
    "\n",
    "# Range of variables\n",
    "plt.axis([0, 25, 0, 100])\n",
    "plt.xlabel('Temperature (deg C)')\n",
    "plt.ylabel('Chirps/ min')\n",
    "plt.title('Crickets: Chirps per minute as a function of temperature')\n",
    "\n",
    "plt.show()"
   ]
  },
  {
   "cell_type": "markdown",
   "metadata": {},
   "source": [
    "## Fit the model"
   ]
  },
  {
   "cell_type": "code",
   "execution_count": 36,
   "metadata": {
    "scrolled": true
   },
   "outputs": [],
   "source": [
    "lm = linear_model.LinearRegression()\n",
    "\n",
    "# Reshapes the data from a 15, matrix to 15,1\n",
    "model = lm.fit(x.reshape(-1,1), y)"
   ]
  },
  {
   "cell_type": "code",
   "execution_count": 37,
   "metadata": {},
   "outputs": [
    {
     "name": "stdout",
     "output_type": "stream",
     "text": [
      "Coefficient:  [3.29109457]\n",
      "Intercept:  25.232304983426012\n"
     ]
    }
   ],
   "source": [
    "print ('Coefficient: ', str(model.coef_))\n",
    "print ('Intercept: ', str(model.intercept_))"
   ]
  },
  {
   "cell_type": "markdown",
   "metadata": {},
   "source": [
    "# # Plot the regression line \n",
    "\n",
    "Let's make sure that our regression fit makes sense"
   ]
  },
  {
   "cell_type": "code",
   "execution_count": 44,
   "metadata": {},
   "outputs": [
    {
     "data": {
      "image/png": "[encoded data removed]",
      "text/plain": [
       "<matplotlib.figure.Figure at 0x209f72a9be0>"
      ]
     },
     "metadata": {},
     "output_type": "display_data"
    }
   ],
   "source": [
    "x_show = np.linspace(0,25)\n",
    "y_show = lm.intercept_ + (lm.coef_[0] * x_show)\n",
    "\n",
    "#fit function\n",
    "f = lambda x: lm.coef_[0]*x + lm.intercept_\n",
    "\n",
    "plt.plot(x, y, 'o', color='blue');\n",
    "\n",
    "# Replacing y_show with f(x_show) achieves the same result\n",
    "plt.plot( x_show, y_show, c ='red');\n",
    "\n",
    "plt.axis([0, 25, 0, 100])\n",
    "plt.xlabel('Temperature (deg C)')\n",
    "plt.ylabel('Chirps/ min')\n",
    "plt.title('Crickets: Chirps per minute as a function of temperature')\n",
    "\n",
    "plt.show()"
   ]
  },
  {
   "cell_type": "markdown",
   "metadata": {},
   "source": [
    "# # How well does our model perform?\n",
    "\n",
    "Let's get the R^2 coefficient for our model "
   ]
  },
  {
   "cell_type": "code",
   "execution_count": 42,
   "metadata": {},
   "outputs": [
    {
     "name": "stdout",
     "output_type": "stream",
     "text": [
      "R^2:  0.6974651450167398\n"
     ]
    }
   ],
   "source": [
    "print ('R^2: ', lm.score(x.reshape(-1, 1), y))"
   ]
  },
  {
   "cell_type": "code",
   "execution_count": null,
   "metadata": {},
   "outputs": [],
   "source": []
  },
  {
   "cell_type": "code",
   "execution_count": null,
   "metadata": {},
   "outputs": [],
   "source": []
  }
 ],
 "metadata": {
  "kernelspec": {
   "display_name": "Python 3",
   "language": "python",
   "name": "python3"
  },
  "language_info": {
   "codemirror_mode": {
    "name": "ipython",
    "version": 3
   },
   "file_extension": ".py",
   "mimetype": "text/x-python",
   "name": "python",
   "nbconvert_exporter": "python",
   "pygments_lexer": "ipython3",
   "version": "3.5.0"
  }
 },
 "nbformat": 4,
 "nbformat_minor": 2
}
