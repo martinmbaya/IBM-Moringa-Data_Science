{
 "cells": [
  {
   "cell_type": "code",
   "execution_count": 1,
   "metadata": {
    "ExecuteTime": {
     "end_time": "2018-05-02T11:01:36.911844Z",
     "start_time": "2018-05-02T11:01:34.650361Z"
    }
   },
   "outputs": [
    {
     "name": "stderr",
     "output_type": "stream",
     "text": [
      "/usr/local/lib/python3.6/site-packages/h5py/__init__.py:36: FutureWarning: Conversion of the second argument of issubdtype from `float` to `np.floating` is deprecated. In future, it will be treated as `np.float64 == np.dtype(float).type`.\n",
      "  from ._conv import register_converters as _register_converters\n"
     ]
    }
   ],
   "source": [
    "import tensorflow as tf\n",
    "import numpy as np"
   ]
  },
  {
   "cell_type": "code",
   "execution_count": 2,
   "metadata": {
    "ExecuteTime": {
     "end_time": "2018-05-02T11:02:05.793992Z",
     "start_time": "2018-05-02T11:02:05.791566Z"
    }
   },
   "outputs": [],
   "source": [
    "from tensorflow.examples.tutorials.mnist import input_data\n",
    "from tensorflow"
   ]
  },
  {
   "cell_type": "code",
   "execution_count": 3,
   "metadata": {
    "ExecuteTime": {
     "end_time": "2018-05-02T11:02:30.369329Z",
     "start_time": "2018-05-02T11:02:30.366799Z"
    }
   },
   "outputs": [],
   "source": [
    "lr = 0.01\n",
    "batch_size = 128\n",
    "n_epochs = 30"
   ]
  },
  {
   "cell_type": "code",
   "execution_count": 5,
   "metadata": {
    "ExecuteTime": {
     "end_time": "2018-05-02T11:04:13.776025Z",
     "start_time": "2018-05-02T11:04:13.279144Z"
    }
   },
   "outputs": [
    {
     "name": "stdout",
     "output_type": "stream",
     "text": [
      "Extracting ./data/mnist/train-images-idx3-ubyte.gz\n",
      "Extracting ./data/mnist/train-labels-idx1-ubyte.gz\n",
      "Extracting ./data/mnist/t10k-images-idx3-ubyte.gz\n",
      "Extracting ./data/mnist/t10k-labels-idx1-ubyte.gz\n"
     ]
    }
   ],
   "source": [
    "mnist = input_data.read_data_sets('./data/mnist', one_hot=True)"
   ]
  },
  {
   "cell_type": "code",
   "execution_count": 6,
   "metadata": {
    "ExecuteTime": {
     "end_time": "2018-05-02T11:04:18.105138Z",
     "start_time": "2018-05-02T11:04:18.094892Z"
    }
   },
   "outputs": [
    {
     "data": {
      "text/plain": [
       "Datasets(train=<tensorflow.contrib.learn.python.learn.datasets.mnist.DataSet object at 0x11a4827f0>, validation=<tensorflow.contrib.learn.python.learn.datasets.mnist.DataSet object at 0x11a482e48>, test=<tensorflow.contrib.learn.python.learn.datasets.mnist.DataSet object at 0x11a482cc0>)"
      ]
     },
     "execution_count": 6,
     "metadata": {},
     "output_type": "execute_result"
    }
   ],
   "source": [
    "mnist"
   ]
  },
  {
   "cell_type": "code",
   "execution_count": 13,
   "metadata": {
    "ExecuteTime": {
     "end_time": "2018-05-02T11:14:08.808009Z",
     "start_time": "2018-05-02T11:14:08.736135Z"
    }
   },
   "outputs": [],
   "source": [
    "tf.reset_default_graph()\n",
    "\n",
    "#We first make spaces for sending in your data. (Placeholder)\n",
    "X = tf.placeholder(tf.float32, shape=[None, 784], name='input')\n",
    "y = tf.placeholder(tf.float32, shape=[None, 10], name='labels')\n",
    "\n",
    "#We create weights and biases here. Remember Variable is a class and not a function. In this case we want our initial values to be zeros.\n",
    "W = tf.Variable(tf.zeros([784,10]), name='weights')\n",
    "b = tf.Variable(tf.zeros([10]), name='bias')\n",
    "\n",
    "# An operation in the graph to perform amtrix multiplication. \n",
    "y_ = tf.matmul(X,W) + b\n",
    "\n",
    "#Take a look at today's slides for more info on crossentropy loss. \n",
    "entropy = tf.nn.softmax_cross_entropy_with_logits_v2(labels=y, logits=y_)\n",
    "#Loss needs to be reduced\n",
    "loss = tf.reduce_mean(entropy)\n",
    "optimizer = tf.train.AdamOptimizer(learning_rate=lr).minimize(loss)"
   ]
  },
  {
   "cell_type": "code",
   "execution_count": 18,
   "metadata": {
    "ExecuteTime": {
     "end_time": "2018-05-02T11:17:26.372962Z",
     "start_time": "2018-05-02T11:17:25.588088Z"
    }
   },
   "outputs": [
    {
     "name": "stdout",
     "output_type": "stream",
     "text": [
      "0.923\n"
     ]
    }
   ],
   "source": [
    "sess = tf.InteractiveSession()\n",
    "# Train\n",
    "for _ in range(n_epochs):\n",
    "    sess.run(tf.global_variables_initializer())\n",
    "    batch_xs, batch_ys = mnist.train.next_batch(batch_size)\n",
    "    sess.run(optimizer, feed_dict={X: batch_xs, y: batch_ys})\n",
    "\n",
    "# Test trained model\n",
    "correct_prediction = tf.equal(tf.argmax(y, 1), tf.argmax(y_, 1))\n",
    "accuracy = tf.reduce_mean(tf.cast(correct_prediction, tf.float32))\n",
    "print(sess.run(accuracy, feed_dict={X: mnist.test.images, y: mnist.test.labels}))\n"
   ]
  },
  {
   "cell_type": "code",
   "execution_count": null,
   "metadata": {},
   "outputs": [],
   "source": []
  }
 ],
 "metadata": {
  "kernelspec": {
   "display_name": "Python 3",
   "language": "python",
   "name": "python3"
  },
  "language_info": {
   "codemirror_mode": {
    "name": "ipython",
    "version": 3
   },
   "file_extension": ".py",
   "mimetype": "text/x-python",
   "name": "python",
   "nbconvert_exporter": "python",
   "pygments_lexer": "ipython3",
   "version": "3.6.5"
  }
 },
 "nbformat": 4,
 "nbformat_minor": 2
}
