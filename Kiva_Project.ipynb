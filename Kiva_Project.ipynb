{
  "nbformat": 4,
  "nbformat_minor": 0,
  "metadata": {
    "colab": {
      "name": "Kiva Project.ipynb",
      "version": "0.3.2",
      "views": {},
      "default_view": {},
      "provenance": [],
      "collapsed_sections": []
    },
    "kernelspec": {
      "name": "python3",
      "display_name": "Python 3"
    },
    "accelerator": "GPU"
  },
  "cells": [
    {
      "metadata": {
        "id": "o8m0q6elXlp_",
        "colab_type": "code",
        "colab": {
          "autoexec": {
            "startup": false,
            "wait_interval": 0
          },
          "base_uri": "https://localhost:8080/",
          "height": 34
        },
        "outputId": "ca2bb112-75cd-4708-bf66-2213c2f56630",
        "executionInfo": {
          "status": "ok",
          "timestamp": 1526267338147,
          "user_tz": -180,
          "elapsed": 2243,
          "user": {
            "displayName": "martin muchui",
            "photoUrl": "https://lh3.googleusercontent.com/a/default-user=s128",
            "userId": "118445864454602802747"
          }
        }
      },
      "cell_type": "code",
      "source": [
        "import pandas as pd\n",
        "import tensorflow as tf\n",
        "from google.colab import files\n",
        "tf.test.gpu_device_name()"
      ],
      "execution_count": 16,
      "outputs": [
        {
          "output_type": "execute_result",
          "data": {
            "text/plain": [
              "'/device:GPU:0'"
            ]
          },
          "metadata": {
            "tags": []
          },
          "execution_count": 16
        }
      ]
    },
    {
      "metadata": {
        "id": "9CZEuBPfX2TN",
        "colab_type": "code",
        "colab": {
          "autoexec": {
            "startup": false,
            "wait_interval": 0
          }
        }
      },
      "cell_type": "code",
      "source": [
        "!pip install -U -q PyDrive\n",
        " \n",
        "from pydrive.auth import GoogleAuth\n",
        "from pydrive.drive import GoogleDrive\n",
        "from google.colab import auth\n",
        "from oauth2client.client import GoogleCredentials\n",
        " \n",
        "# 1. Authenticate and create the PyDrive client.\n",
        "auth.authenticate_user()\n",
        "gauth = GoogleAuth()\n",
        "gauth.credentials = GoogleCredentials.get_application_default()\n",
        "drive = GoogleDrive(gauth)"
      ],
      "execution_count": 0,
      "outputs": []
    },
    {
      "metadata": {
        "id": "EJVdghSmX_Ha",
        "colab_type": "code",
        "colab": {
          "autoexec": {
            "startup": false,
            "wait_interval": 0
          },
          "base_uri": "https://localhost:8080/",
          "height": 84
        },
        "outputId": "d6ad4a5f-cdb8-4a1a-a43c-154d25908b9e",
        "executionInfo": {
          "status": "ok",
          "timestamp": 1526267216015,
          "user_tz": -180,
          "elapsed": 7289,
          "user": {
            "displayName": "martin muchui",
            "photoUrl": "https://lh3.googleusercontent.com/a/default-user=s128",
            "userId": "118445864454602802747"
          }
        }
      },
      "cell_type": "code",
      "source": [
        "file_list = drive.ListFile({'q': \"'1_H-maiuG9bzIRPocVVuONmGaIw5KWUVp' in parents and trashed=false\"}).GetList()\n",
        "for file1 in file_list:\n",
        "  f_holder = drive.CreateFile({'id': file1['id']})\n",
        "  f_holder.GetContentFile(file1['title'])\n",
        "  print('title: %s, id: %s' % (file1['title'], file1['id']))"
      ],
      "execution_count": 5,
      "outputs": [
        {
          "output_type": "stream",
          "text": [
            "title: loan_theme_ids.csv, id: 1IEkguTBV_nkWiVnkOMQQ_F_eCZFphETR\n",
            "title: loan_themes_by_region.csv, id: 1MjzjJ2GoNE8sGNQObb4Lkm8gVjpfXthb\n",
            "title: kiva_loans.csv, id: 1Sg463xEjvswu_YjVzZIRQBeVeGQiyarB\n",
            "title: kiva_mpi_region_locations.csv, id: 1nle-bNa--Bd7eO61wQwU7_lketCjYorK\n"
          ],
          "name": "stdout"
        }
      ]
    },
    {
      "metadata": {
        "id": "TxDji3fbYjR6",
        "colab_type": "code",
        "colab": {
          "autoexec": {
            "startup": false,
            "wait_interval": 0
          }
        }
      },
      "cell_type": "code",
      "source": [
        "kiva_loans = pd.read_csv(\"kiva_loans.csv\")\n",
        "kiva_mpi_region_locations = pd.read_csv(\"kiva_mpi_region_locations.csv\") \n",
        "loan_theme_ids = pd.read_csv(\"loan_theme_ids.csv\") \n",
        "loan_themes_by_region = pd.read_csv(\"loan_themes_by_region.csv\") "
      ],
      "execution_count": 0,
      "outputs": []
    },
    {
      "metadata": {
        "id": "eX4HWjc6aD9y",
        "colab_type": "code",
        "colab": {
          "autoexec": {
            "startup": false,
            "wait_interval": 0
          },
          "base_uri": "https://localhost:8080/",
          "height": 118
        },
        "outputId": "24a0df72-e4be-4636-f8e7-cd4ac9c546a3",
        "executionInfo": {
          "status": "ok",
          "timestamp": 1526251572116,
          "user_tz": -180,
          "elapsed": 1607,
          "user": {
            "displayName": "martin muchui",
            "photoUrl": "https://lh3.googleusercontent.com/a/default-user=s128",
            "userId": "118445864454602802747"
          }
        }
      },
      "cell_type": "code",
      "source": [
        "kiva_loans.columns"
      ],
      "execution_count": 9,
      "outputs": [
        {
          "output_type": "execute_result",
          "data": {
            "text/plain": [
              "Index(['id', 'funded_amount', 'loan_amount', 'activity', 'sector', 'use',\n",
              "       'country_code', 'country', 'region', 'currency', 'partner_id',\n",
              "       'posted_time', 'disbursed_time', 'funded_time', 'term_in_months',\n",
              "       'lender_count', 'tags', 'borrower_genders', 'repayment_interval',\n",
              "       'date'],\n",
              "      dtype='object')"
            ]
          },
          "metadata": {
            "tags": []
          },
          "execution_count": 9
        }
      ]
    },
    {
      "metadata": {
        "id": "d_IwjvfeagCs",
        "colab_type": "code",
        "colab": {
          "autoexec": {
            "startup": false,
            "wait_interval": 0
          },
          "base_uri": "https://localhost:8080/",
          "height": 299
        },
        "outputId": "c5a78f53-206b-4758-df68-61f6d6436113",
        "executionInfo": {
          "status": "ok",
          "timestamp": 1526267226336,
          "user_tz": -180,
          "elapsed": 3042,
          "user": {
            "displayName": "martin muchui",
            "photoUrl": "https://lh3.googleusercontent.com/a/default-user=s128",
            "userId": "118445864454602802747"
          }
        }
      },
      "cell_type": "code",
      "source": [
        "kiva_loans[\"time_to_fund\"] = (pd.to_datetime(kiva_loans.funded_time) - pd.to_datetime(kiva_loans.disbursed_time))\n",
        "kiva_loans = kiva_loans.drop(['posted_time','loan_amount','use','tags','disbursed_time', 'funded_time', 'date', 'currency'], axis=1)\n",
        "kiva_loans.head()"
      ],
      "execution_count": 7,
      "outputs": [
        {
          "output_type": "execute_result",
          "data": {
            "text/html": [
              "<div>\n",
              "<style scoped>\n",
              "    .dataframe tbody tr th:only-of-type {\n",
              "        vertical-align: middle;\n",
              "    }\n",
              "\n",
              "    .dataframe tbody tr th {\n",
              "        vertical-align: top;\n",
              "    }\n",
              "\n",
              "    .dataframe thead th {\n",
              "        text-align: right;\n",
              "    }\n",
              "</style>\n",
              "<table border=\"1\" class=\"dataframe\">\n",
              "  <thead>\n",
              "    <tr style=\"text-align: right;\">\n",
              "      <th></th>\n",
              "      <th>id</th>\n",
              "      <th>funded_amount</th>\n",
              "      <th>activity</th>\n",
              "      <th>sector</th>\n",
              "      <th>country_code</th>\n",
              "      <th>country</th>\n",
              "      <th>region</th>\n",
              "      <th>partner_id</th>\n",
              "      <th>term_in_months</th>\n",
              "      <th>lender_count</th>\n",
              "      <th>borrower_genders</th>\n",
              "      <th>repayment_interval</th>\n",
              "      <th>time_to_fund</th>\n",
              "    </tr>\n",
              "  </thead>\n",
              "  <tbody>\n",
              "    <tr>\n",
              "      <th>0</th>\n",
              "      <td>653051</td>\n",
              "      <td>300.0</td>\n",
              "      <td>Fruits &amp; Vegetables</td>\n",
              "      <td>Food</td>\n",
              "      <td>PK</td>\n",
              "      <td>Pakistan</td>\n",
              "      <td>Lahore</td>\n",
              "      <td>247.0</td>\n",
              "      <td>12.0</td>\n",
              "      <td>12</td>\n",
              "      <td>female</td>\n",
              "      <td>irregular</td>\n",
              "      <td>16 days 02:06:32</td>\n",
              "    </tr>\n",
              "    <tr>\n",
              "      <th>1</th>\n",
              "      <td>653053</td>\n",
              "      <td>575.0</td>\n",
              "      <td>Rickshaw</td>\n",
              "      <td>Transportation</td>\n",
              "      <td>PK</td>\n",
              "      <td>Pakistan</td>\n",
              "      <td>Lahore</td>\n",
              "      <td>247.0</td>\n",
              "      <td>11.0</td>\n",
              "      <td>14</td>\n",
              "      <td>female, female</td>\n",
              "      <td>irregular</td>\n",
              "      <td>16 days 01:17:23</td>\n",
              "    </tr>\n",
              "    <tr>\n",
              "      <th>2</th>\n",
              "      <td>653068</td>\n",
              "      <td>150.0</td>\n",
              "      <td>Transportation</td>\n",
              "      <td>Transportation</td>\n",
              "      <td>IN</td>\n",
              "      <td>India</td>\n",
              "      <td>Maynaguri</td>\n",
              "      <td>334.0</td>\n",
              "      <td>43.0</td>\n",
              "      <td>6</td>\n",
              "      <td>female</td>\n",
              "      <td>bullet</td>\n",
              "      <td>15 days 08:01:36</td>\n",
              "    </tr>\n",
              "    <tr>\n",
              "      <th>3</th>\n",
              "      <td>653063</td>\n",
              "      <td>200.0</td>\n",
              "      <td>Embroidery</td>\n",
              "      <td>Arts</td>\n",
              "      <td>PK</td>\n",
              "      <td>Pakistan</td>\n",
              "      <td>Lahore</td>\n",
              "      <td>247.0</td>\n",
              "      <td>11.0</td>\n",
              "      <td>8</td>\n",
              "      <td>female</td>\n",
              "      <td>irregular</td>\n",
              "      <td>8 days 05:00:00</td>\n",
              "    </tr>\n",
              "    <tr>\n",
              "      <th>4</th>\n",
              "      <td>653084</td>\n",
              "      <td>400.0</td>\n",
              "      <td>Milk Sales</td>\n",
              "      <td>Food</td>\n",
              "      <td>PK</td>\n",
              "      <td>Pakistan</td>\n",
              "      <td>Abdul Hakeem</td>\n",
              "      <td>245.0</td>\n",
              "      <td>14.0</td>\n",
              "      <td>16</td>\n",
              "      <td>female</td>\n",
              "      <td>monthly</td>\n",
              "      <td>15 days 11:18:51</td>\n",
              "    </tr>\n",
              "  </tbody>\n",
              "</table>\n",
              "</div>"
            ],
            "text/plain": [
              "       id  funded_amount             activity          sector country_code  \\\n",
              "0  653051          300.0  Fruits & Vegetables            Food           PK   \n",
              "1  653053          575.0             Rickshaw  Transportation           PK   \n",
              "2  653068          150.0       Transportation  Transportation           IN   \n",
              "3  653063          200.0           Embroidery            Arts           PK   \n",
              "4  653084          400.0           Milk Sales            Food           PK   \n",
              "\n",
              "    country        region  partner_id  term_in_months  lender_count  \\\n",
              "0  Pakistan        Lahore       247.0            12.0            12   \n",
              "1  Pakistan        Lahore       247.0            11.0            14   \n",
              "2     India     Maynaguri       334.0            43.0             6   \n",
              "3  Pakistan        Lahore       247.0            11.0             8   \n",
              "4  Pakistan  Abdul Hakeem       245.0            14.0            16   \n",
              "\n",
              "  borrower_genders repayment_interval     time_to_fund  \n",
              "0           female          irregular 16 days 02:06:32  \n",
              "1   female, female          irregular 16 days 01:17:23  \n",
              "2           female             bullet 15 days 08:01:36  \n",
              "3           female          irregular  8 days 05:00:00  \n",
              "4           female            monthly 15 days 11:18:51  "
            ]
          },
          "metadata": {
            "tags": []
          },
          "execution_count": 7
        }
      ]
    },
    {
      "metadata": {
        "id": "2QpOFWZPaptZ",
        "colab_type": "code",
        "colab": {
          "autoexec": {
            "startup": false,
            "wait_interval": 0
          },
          "base_uri": "https://localhost:8080/",
          "height": 195
        },
        "outputId": "a5ba1692-b747-49d6-f110-17b38f55bb41",
        "executionInfo": {
          "status": "ok",
          "timestamp": 1526267230880,
          "user_tz": -180,
          "elapsed": 948,
          "user": {
            "displayName": "martin muchui",
            "photoUrl": "https://lh3.googleusercontent.com/a/default-user=s128",
            "userId": "118445864454602802747"
          }
        }
      },
      "cell_type": "code",
      "source": [
        "kiva_mpi_region_locations.head()"
      ],
      "execution_count": 8,
      "outputs": [
        {
          "output_type": "execute_result",
          "data": {
            "text/html": [
              "<div>\n",
              "<style scoped>\n",
              "    .dataframe tbody tr th:only-of-type {\n",
              "        vertical-align: middle;\n",
              "    }\n",
              "\n",
              "    .dataframe tbody tr th {\n",
              "        vertical-align: top;\n",
              "    }\n",
              "\n",
              "    .dataframe thead th {\n",
              "        text-align: right;\n",
              "    }\n",
              "</style>\n",
              "<table border=\"1\" class=\"dataframe\">\n",
              "  <thead>\n",
              "    <tr style=\"text-align: right;\">\n",
              "      <th></th>\n",
              "      <th>LocationName</th>\n",
              "      <th>ISO</th>\n",
              "      <th>country</th>\n",
              "      <th>region</th>\n",
              "      <th>world_region</th>\n",
              "      <th>MPI</th>\n",
              "      <th>geo</th>\n",
              "      <th>lat</th>\n",
              "      <th>lon</th>\n",
              "    </tr>\n",
              "  </thead>\n",
              "  <tbody>\n",
              "    <tr>\n",
              "      <th>0</th>\n",
              "      <td>Badakhshan, Afghanistan</td>\n",
              "      <td>AFG</td>\n",
              "      <td>Afghanistan</td>\n",
              "      <td>Badakhshan</td>\n",
              "      <td>South Asia</td>\n",
              "      <td>0.387</td>\n",
              "      <td>(36.7347725, 70.81199529999999)</td>\n",
              "      <td>36.734772</td>\n",
              "      <td>70.811995</td>\n",
              "    </tr>\n",
              "    <tr>\n",
              "      <th>1</th>\n",
              "      <td>Badghis, Afghanistan</td>\n",
              "      <td>AFG</td>\n",
              "      <td>Afghanistan</td>\n",
              "      <td>Badghis</td>\n",
              "      <td>South Asia</td>\n",
              "      <td>0.466</td>\n",
              "      <td>(35.1671339, 63.7695384)</td>\n",
              "      <td>35.167134</td>\n",
              "      <td>63.769538</td>\n",
              "    </tr>\n",
              "    <tr>\n",
              "      <th>2</th>\n",
              "      <td>Baghlan, Afghanistan</td>\n",
              "      <td>AFG</td>\n",
              "      <td>Afghanistan</td>\n",
              "      <td>Baghlan</td>\n",
              "      <td>South Asia</td>\n",
              "      <td>0.300</td>\n",
              "      <td>(35.8042947, 69.2877535)</td>\n",
              "      <td>35.804295</td>\n",
              "      <td>69.287754</td>\n",
              "    </tr>\n",
              "    <tr>\n",
              "      <th>3</th>\n",
              "      <td>Balkh, Afghanistan</td>\n",
              "      <td>AFG</td>\n",
              "      <td>Afghanistan</td>\n",
              "      <td>Balkh</td>\n",
              "      <td>South Asia</td>\n",
              "      <td>0.301</td>\n",
              "      <td>(36.7550603, 66.8975372)</td>\n",
              "      <td>36.755060</td>\n",
              "      <td>66.897537</td>\n",
              "    </tr>\n",
              "    <tr>\n",
              "      <th>4</th>\n",
              "      <td>Bamyan, Afghanistan</td>\n",
              "      <td>AFG</td>\n",
              "      <td>Afghanistan</td>\n",
              "      <td>Bamyan</td>\n",
              "      <td>South Asia</td>\n",
              "      <td>0.325</td>\n",
              "      <td>(34.8100067, 67.8212104)</td>\n",
              "      <td>34.810007</td>\n",
              "      <td>67.821210</td>\n",
              "    </tr>\n",
              "  </tbody>\n",
              "</table>\n",
              "</div>"
            ],
            "text/plain": [
              "              LocationName  ISO      country      region world_region    MPI  \\\n",
              "0  Badakhshan, Afghanistan  AFG  Afghanistan  Badakhshan   South Asia  0.387   \n",
              "1     Badghis, Afghanistan  AFG  Afghanistan     Badghis   South Asia  0.466   \n",
              "2     Baghlan, Afghanistan  AFG  Afghanistan     Baghlan   South Asia  0.300   \n",
              "3       Balkh, Afghanistan  AFG  Afghanistan       Balkh   South Asia  0.301   \n",
              "4      Bamyan, Afghanistan  AFG  Afghanistan      Bamyan   South Asia  0.325   \n",
              "\n",
              "                               geo        lat        lon  \n",
              "0  (36.7347725, 70.81199529999999)  36.734772  70.811995  \n",
              "1         (35.1671339, 63.7695384)  35.167134  63.769538  \n",
              "2         (35.8042947, 69.2877535)  35.804295  69.287754  \n",
              "3         (36.7550603, 66.8975372)  36.755060  66.897537  \n",
              "4         (34.8100067, 67.8212104)  34.810007  67.821210  "
            ]
          },
          "metadata": {
            "tags": []
          },
          "execution_count": 8
        }
      ]
    },
    {
      "metadata": {
        "id": "AuhHbObTarTW",
        "colab_type": "code",
        "colab": {
          "autoexec": {
            "startup": false,
            "wait_interval": 0
          },
          "base_uri": "https://localhost:8080/",
          "height": 195
        },
        "outputId": "fb3b92da-3283-4661-ea3f-2c4bcdbfb560",
        "executionInfo": {
          "status": "ok",
          "timestamp": 1526267233966,
          "user_tz": -180,
          "elapsed": 969,
          "user": {
            "displayName": "martin muchui",
            "photoUrl": "https://lh3.googleusercontent.com/a/default-user=s128",
            "userId": "118445864454602802747"
          }
        }
      },
      "cell_type": "code",
      "source": [
        "kiva_mpi_region_locations = kiva_mpi_region_locations.dropna(thresh=2);\n",
        "kiva_mpi_region_locations = kiva_mpi_region_locations.drop(['LocationName', 'lat', 'lon'], axis=1);\n",
        "kiva_mpi_region_locations.head()"
      ],
      "execution_count": 9,
      "outputs": [
        {
          "output_type": "execute_result",
          "data": {
            "text/html": [
              "<div>\n",
              "<style scoped>\n",
              "    .dataframe tbody tr th:only-of-type {\n",
              "        vertical-align: middle;\n",
              "    }\n",
              "\n",
              "    .dataframe tbody tr th {\n",
              "        vertical-align: top;\n",
              "    }\n",
              "\n",
              "    .dataframe thead th {\n",
              "        text-align: right;\n",
              "    }\n",
              "</style>\n",
              "<table border=\"1\" class=\"dataframe\">\n",
              "  <thead>\n",
              "    <tr style=\"text-align: right;\">\n",
              "      <th></th>\n",
              "      <th>ISO</th>\n",
              "      <th>country</th>\n",
              "      <th>region</th>\n",
              "      <th>world_region</th>\n",
              "      <th>MPI</th>\n",
              "      <th>geo</th>\n",
              "    </tr>\n",
              "  </thead>\n",
              "  <tbody>\n",
              "    <tr>\n",
              "      <th>0</th>\n",
              "      <td>AFG</td>\n",
              "      <td>Afghanistan</td>\n",
              "      <td>Badakhshan</td>\n",
              "      <td>South Asia</td>\n",
              "      <td>0.387</td>\n",
              "      <td>(36.7347725, 70.81199529999999)</td>\n",
              "    </tr>\n",
              "    <tr>\n",
              "      <th>1</th>\n",
              "      <td>AFG</td>\n",
              "      <td>Afghanistan</td>\n",
              "      <td>Badghis</td>\n",
              "      <td>South Asia</td>\n",
              "      <td>0.466</td>\n",
              "      <td>(35.1671339, 63.7695384)</td>\n",
              "    </tr>\n",
              "    <tr>\n",
              "      <th>2</th>\n",
              "      <td>AFG</td>\n",
              "      <td>Afghanistan</td>\n",
              "      <td>Baghlan</td>\n",
              "      <td>South Asia</td>\n",
              "      <td>0.300</td>\n",
              "      <td>(35.8042947, 69.2877535)</td>\n",
              "    </tr>\n",
              "    <tr>\n",
              "      <th>3</th>\n",
              "      <td>AFG</td>\n",
              "      <td>Afghanistan</td>\n",
              "      <td>Balkh</td>\n",
              "      <td>South Asia</td>\n",
              "      <td>0.301</td>\n",
              "      <td>(36.7550603, 66.8975372)</td>\n",
              "    </tr>\n",
              "    <tr>\n",
              "      <th>4</th>\n",
              "      <td>AFG</td>\n",
              "      <td>Afghanistan</td>\n",
              "      <td>Bamyan</td>\n",
              "      <td>South Asia</td>\n",
              "      <td>0.325</td>\n",
              "      <td>(34.8100067, 67.8212104)</td>\n",
              "    </tr>\n",
              "  </tbody>\n",
              "</table>\n",
              "</div>"
            ],
            "text/plain": [
              "   ISO      country      region world_region    MPI  \\\n",
              "0  AFG  Afghanistan  Badakhshan   South Asia  0.387   \n",
              "1  AFG  Afghanistan     Badghis   South Asia  0.466   \n",
              "2  AFG  Afghanistan     Baghlan   South Asia  0.300   \n",
              "3  AFG  Afghanistan       Balkh   South Asia  0.301   \n",
              "4  AFG  Afghanistan      Bamyan   South Asia  0.325   \n",
              "\n",
              "                               geo  \n",
              "0  (36.7347725, 70.81199529999999)  \n",
              "1         (35.1671339, 63.7695384)  \n",
              "2         (35.8042947, 69.2877535)  \n",
              "3         (36.7550603, 66.8975372)  \n",
              "4         (34.8100067, 67.8212104)  "
            ]
          },
          "metadata": {
            "tags": []
          },
          "execution_count": 9
        }
      ]
    },
    {
      "metadata": {
        "id": "uggF8Nvvaw4t",
        "colab_type": "code",
        "colab": {
          "autoexec": {
            "startup": false,
            "wait_interval": 0
          },
          "base_uri": "https://localhost:8080/",
          "height": 195
        },
        "outputId": "aecdfef5-701a-4824-a553-ee7649895792",
        "executionInfo": {
          "status": "ok",
          "timestamp": 1526267239764,
          "user_tz": -180,
          "elapsed": 937,
          "user": {
            "displayName": "martin muchui",
            "photoUrl": "https://lh3.googleusercontent.com/a/default-user=s128",
            "userId": "118445864454602802747"
          }
        }
      },
      "cell_type": "code",
      "source": [
        "loan_theme_ids.head()"
      ],
      "execution_count": 10,
      "outputs": [
        {
          "output_type": "execute_result",
          "data": {
            "text/html": [
              "<div>\n",
              "<style scoped>\n",
              "    .dataframe tbody tr th:only-of-type {\n",
              "        vertical-align: middle;\n",
              "    }\n",
              "\n",
              "    .dataframe tbody tr th {\n",
              "        vertical-align: top;\n",
              "    }\n",
              "\n",
              "    .dataframe thead th {\n",
              "        text-align: right;\n",
              "    }\n",
              "</style>\n",
              "<table border=\"1\" class=\"dataframe\">\n",
              "  <thead>\n",
              "    <tr style=\"text-align: right;\">\n",
              "      <th></th>\n",
              "      <th>id</th>\n",
              "      <th>Loan Theme ID</th>\n",
              "      <th>Loan Theme Type</th>\n",
              "      <th>Partner ID</th>\n",
              "    </tr>\n",
              "  </thead>\n",
              "  <tbody>\n",
              "    <tr>\n",
              "      <th>0</th>\n",
              "      <td>638631</td>\n",
              "      <td>a1050000000skGl</td>\n",
              "      <td>General</td>\n",
              "      <td>151.0</td>\n",
              "    </tr>\n",
              "    <tr>\n",
              "      <th>1</th>\n",
              "      <td>640322</td>\n",
              "      <td>a1050000000skGl</td>\n",
              "      <td>General</td>\n",
              "      <td>151.0</td>\n",
              "    </tr>\n",
              "    <tr>\n",
              "      <th>2</th>\n",
              "      <td>641006</td>\n",
              "      <td>a1050000002X1ij</td>\n",
              "      <td>Higher Education</td>\n",
              "      <td>160.0</td>\n",
              "    </tr>\n",
              "    <tr>\n",
              "      <th>3</th>\n",
              "      <td>641019</td>\n",
              "      <td>a1050000002X1ij</td>\n",
              "      <td>Higher Education</td>\n",
              "      <td>160.0</td>\n",
              "    </tr>\n",
              "    <tr>\n",
              "      <th>4</th>\n",
              "      <td>641594</td>\n",
              "      <td>a1050000002VbsW</td>\n",
              "      <td>Subsistence Agriculture</td>\n",
              "      <td>336.0</td>\n",
              "    </tr>\n",
              "  </tbody>\n",
              "</table>\n",
              "</div>"
            ],
            "text/plain": [
              "       id    Loan Theme ID          Loan Theme Type  Partner ID\n",
              "0  638631  a1050000000skGl                  General       151.0\n",
              "1  640322  a1050000000skGl                  General       151.0\n",
              "2  641006  a1050000002X1ij         Higher Education       160.0\n",
              "3  641019  a1050000002X1ij         Higher Education       160.0\n",
              "4  641594  a1050000002VbsW  Subsistence Agriculture       336.0"
            ]
          },
          "metadata": {
            "tags": []
          },
          "execution_count": 10
        }
      ]
    },
    {
      "metadata": {
        "id": "ZHalZbEIa0Vv",
        "colab_type": "code",
        "colab": {
          "autoexec": {
            "startup": false,
            "wait_interval": 0
          }
        }
      },
      "cell_type": "code",
      "source": [
        "loan_themes_by_region.columns\n",
        "loan_themes_by_region = loan_themes_by_region.drop(['Field Partner Name', 'sector', 'LocationName', 'lat', 'lon', 'names','mpi_region', 'geocode_old', 'geocode', 'mpi_geo'], axis=1)"
      ],
      "execution_count": 0,
      "outputs": []
    },
    {
      "metadata": {
        "id": "n31SymxAa3g7",
        "colab_type": "code",
        "colab": {
          "autoexec": {
            "startup": false,
            "wait_interval": 0
          },
          "base_uri": "https://localhost:8080/",
          "height": 195
        },
        "outputId": "eb5849f7-2e12-471a-82a6-e9d45c2f5968",
        "executionInfo": {
          "status": "ok",
          "timestamp": 1526230385080,
          "user_tz": -180,
          "elapsed": 820,
          "user": {
            "displayName": "martin muchui",
            "photoUrl": "https://lh3.googleusercontent.com/a/default-user=s128",
            "userId": "118445864454602802747"
          }
        }
      },
      "cell_type": "code",
      "source": [
        "loan_themes_by_region.head()"
      ],
      "execution_count": 15,
      "outputs": [
        {
          "output_type": "execute_result",
          "data": {
            "text/html": [
              "<div>\n",
              "<style scoped>\n",
              "    .dataframe tbody tr th:only-of-type {\n",
              "        vertical-align: middle;\n",
              "    }\n",
              "\n",
              "    .dataframe tbody tr th {\n",
              "        vertical-align: top;\n",
              "    }\n",
              "\n",
              "    .dataframe thead th {\n",
              "        text-align: right;\n",
              "    }\n",
              "</style>\n",
              "<table border=\"1\" class=\"dataframe\">\n",
              "  <thead>\n",
              "    <tr style=\"text-align: right;\">\n",
              "      <th></th>\n",
              "      <th>Partner ID</th>\n",
              "      <th>Loan Theme ID</th>\n",
              "      <th>Loan Theme Type</th>\n",
              "      <th>country</th>\n",
              "      <th>forkiva</th>\n",
              "      <th>region</th>\n",
              "      <th>ISO</th>\n",
              "      <th>number</th>\n",
              "      <th>amount</th>\n",
              "      <th>geo</th>\n",
              "      <th>rural_pct</th>\n",
              "    </tr>\n",
              "  </thead>\n",
              "  <tbody>\n",
              "    <tr>\n",
              "      <th>0</th>\n",
              "      <td>9</td>\n",
              "      <td>a1050000000slfi</td>\n",
              "      <td>Higher Education</td>\n",
              "      <td>Cambodia</td>\n",
              "      <td>No</td>\n",
              "      <td>Banteay Meanchey</td>\n",
              "      <td>KHM</td>\n",
              "      <td>1</td>\n",
              "      <td>450</td>\n",
              "      <td>(13.6672596, 102.8975098)</td>\n",
              "      <td>90.0</td>\n",
              "    </tr>\n",
              "    <tr>\n",
              "      <th>1</th>\n",
              "      <td>9</td>\n",
              "      <td>a10500000068jPe</td>\n",
              "      <td>Vulnerable Populations</td>\n",
              "      <td>Cambodia</td>\n",
              "      <td>No</td>\n",
              "      <td>Battambang Province</td>\n",
              "      <td>KHM</td>\n",
              "      <td>58</td>\n",
              "      <td>20275</td>\n",
              "      <td>(13.0286971, 102.989615)</td>\n",
              "      <td>90.0</td>\n",
              "    </tr>\n",
              "    <tr>\n",
              "      <th>2</th>\n",
              "      <td>9</td>\n",
              "      <td>a1050000000slfi</td>\n",
              "      <td>Higher Education</td>\n",
              "      <td>Cambodia</td>\n",
              "      <td>No</td>\n",
              "      <td>Battambang Province</td>\n",
              "      <td>KHM</td>\n",
              "      <td>7</td>\n",
              "      <td>9150</td>\n",
              "      <td>(13.0286971, 102.989615)</td>\n",
              "      <td>90.0</td>\n",
              "    </tr>\n",
              "    <tr>\n",
              "      <th>3</th>\n",
              "      <td>9</td>\n",
              "      <td>a10500000068jPe</td>\n",
              "      <td>Vulnerable Populations</td>\n",
              "      <td>Cambodia</td>\n",
              "      <td>No</td>\n",
              "      <td>Kampong Cham Province</td>\n",
              "      <td>KHM</td>\n",
              "      <td>1383</td>\n",
              "      <td>604950</td>\n",
              "      <td>(12.0982918, 105.3131185)</td>\n",
              "      <td>90.0</td>\n",
              "    </tr>\n",
              "    <tr>\n",
              "      <th>4</th>\n",
              "      <td>9</td>\n",
              "      <td>a1050000002X1Uu</td>\n",
              "      <td>Sanitation</td>\n",
              "      <td>Cambodia</td>\n",
              "      <td>No</td>\n",
              "      <td>Kampong Cham Province</td>\n",
              "      <td>KHM</td>\n",
              "      <td>3</td>\n",
              "      <td>275</td>\n",
              "      <td>(12.0982918, 105.3131185)</td>\n",
              "      <td>90.0</td>\n",
              "    </tr>\n",
              "  </tbody>\n",
              "</table>\n",
              "</div>"
            ],
            "text/plain": [
              "   Partner ID    Loan Theme ID         Loan Theme Type   country forkiva  \\\n",
              "0           9  a1050000000slfi        Higher Education  Cambodia      No   \n",
              "1           9  a10500000068jPe  Vulnerable Populations  Cambodia      No   \n",
              "2           9  a1050000000slfi        Higher Education  Cambodia      No   \n",
              "3           9  a10500000068jPe  Vulnerable Populations  Cambodia      No   \n",
              "4           9  a1050000002X1Uu              Sanitation  Cambodia      No   \n",
              "\n",
              "                  region  ISO  number  amount                        geo  \\\n",
              "0       Banteay Meanchey  KHM       1     450  (13.6672596, 102.8975098)   \n",
              "1    Battambang Province  KHM      58   20275   (13.0286971, 102.989615)   \n",
              "2    Battambang Province  KHM       7    9150   (13.0286971, 102.989615)   \n",
              "3  Kampong Cham Province  KHM    1383  604950  (12.0982918, 105.3131185)   \n",
              "4  Kampong Cham Province  KHM       3     275  (12.0982918, 105.3131185)   \n",
              "\n",
              "   rural_pct  \n",
              "0       90.0  \n",
              "1       90.0  \n",
              "2       90.0  \n",
              "3       90.0  \n",
              "4       90.0  "
            ]
          },
          "metadata": {
            "tags": []
          },
          "execution_count": 15
        }
      ]
    },
    {
      "metadata": {
        "id": "lerCvAbMyogN",
        "colab_type": "code",
        "colab": {
          "autoexec": {
            "startup": false,
            "wait_interval": 0
          }
        }
      },
      "cell_type": "code",
      "source": [
        ""
      ],
      "execution_count": 0,
      "outputs": []
    },
    {
      "metadata": {
        "id": "p7iY0Y4usHGE",
        "colab_type": "code",
        "colab": {
          "autoexec": {
            "startup": false,
            "wait_interval": 0
          }
        }
      },
      "cell_type": "code",
      "source": [
        "kenya_loans = kiva_loans[(kiva_loans['country']==\"Kenya\") | (kiva_loans['country_code']==\"KE\")]"
      ],
      "execution_count": 0,
      "outputs": []
    },
    {
      "metadata": {
        "id": "mX4A81QsozUy",
        "colab_type": "code",
        "colab": {
          "autoexec": {
            "startup": false,
            "wait_interval": 0
          }
        }
      },
      "cell_type": "code",
      "source": [
        "kenya_loans = kenya_loans.dropna()"
      ],
      "execution_count": 0,
      "outputs": []
    },
    {
      "metadata": {
        "id": "rBpfDjKZsvjd",
        "colab_type": "code",
        "colab": {
          "autoexec": {
            "startup": false,
            "wait_interval": 0
          },
          "base_uri": "https://localhost:8080/",
          "height": 84
        },
        "outputId": "9a5b8460-17a2-4c10-aa3a-34e2404efe42",
        "executionInfo": {
          "status": "ok",
          "timestamp": 1526267596408,
          "user_tz": -180,
          "elapsed": 1173,
          "user": {
            "displayName": "martin muchui",
            "photoUrl": "https://lh3.googleusercontent.com/a/default-user=s128",
            "userId": "118445864454602802747"
          }
        }
      },
      "cell_type": "code",
      "source": [
        "# kenya_loans.describe()\n",
        "kenya_loans.columns\n",
        "# set(kenya_loans.region)"
      ],
      "execution_count": 20,
      "outputs": [
        {
          "output_type": "execute_result",
          "data": {
            "text/plain": [
              "Index(['id', 'funded_amount', 'activity', 'sector', 'country_code', 'country',\n",
              "       'region', 'partner_id', 'term_in_months', 'lender_count',\n",
              "       'borrower_genders', 'repayment_interval', 'time_to_fund'],\n",
              "      dtype='object')"
            ]
          },
          "metadata": {
            "tags": []
          },
          "execution_count": 20
        }
      ]
    },
    {
      "metadata": {
        "id": "IKK6zMCvbBDw",
        "colab_type": "code",
        "colab": {
          "autoexec": {
            "startup": false,
            "wait_interval": 0
          }
        }
      },
      "cell_type": "code",
      "source": [
        "kiva_mpi_region_kenya = kiva_mpi_region_locations[(kiva_mpi_region_locations['country']==\"Kenya\") | (kiva_mpi_region_locations['ISO']==\"Kenya\")]"
      ],
      "execution_count": 0,
      "outputs": []
    },
    {
      "metadata": {
        "id": "KBMKzmD6uaNM",
        "colab_type": "code",
        "colab": {
          "autoexec": {
            "startup": false,
            "wait_interval": 0
          },
          "base_uri": "https://localhost:8080/",
          "height": 284
        },
        "outputId": "00d6a6e3-3413-4f00-fc90-8d6dbae67bf6",
        "executionInfo": {
          "status": "ok",
          "timestamp": 1526267604847,
          "user_tz": -180,
          "elapsed": 680,
          "user": {
            "displayName": "martin muchui",
            "photoUrl": "https://lh3.googleusercontent.com/a/default-user=s128",
            "userId": "118445864454602802747"
          }
        }
      },
      "cell_type": "code",
      "source": [
        "kiva_mpi_region_kenya.head(10)"
      ],
      "execution_count": 22,
      "outputs": [
        {
          "output_type": "execute_result",
          "data": {
            "text/html": [
              "<div>\n",
              "<style scoped>\n",
              "    .dataframe tbody tr th:only-of-type {\n",
              "        vertical-align: middle;\n",
              "    }\n",
              "\n",
              "    .dataframe tbody tr th {\n",
              "        vertical-align: top;\n",
              "    }\n",
              "\n",
              "    .dataframe thead th {\n",
              "        text-align: right;\n",
              "    }\n",
              "</style>\n",
              "<table border=\"1\" class=\"dataframe\">\n",
              "  <thead>\n",
              "    <tr style=\"text-align: right;\">\n",
              "      <th></th>\n",
              "      <th>ISO</th>\n",
              "      <th>country</th>\n",
              "      <th>region</th>\n",
              "      <th>world_region</th>\n",
              "      <th>MPI</th>\n",
              "      <th>geo</th>\n",
              "    </tr>\n",
              "  </thead>\n",
              "  <tbody>\n",
              "    <tr>\n",
              "      <th>450</th>\n",
              "      <td>KEN</td>\n",
              "      <td>Kenya</td>\n",
              "      <td>Central</td>\n",
              "      <td>Sub-Saharan Africa</td>\n",
              "      <td>0.075</td>\n",
              "      <td>(-4.0627412, 39.6771481)</td>\n",
              "    </tr>\n",
              "    <tr>\n",
              "      <th>451</th>\n",
              "      <td>KEN</td>\n",
              "      <td>Kenya</td>\n",
              "      <td>Coast</td>\n",
              "      <td>Sub-Saharan Africa</td>\n",
              "      <td>0.242</td>\n",
              "      <td>(-3.2096898, 40.1169399)</td>\n",
              "    </tr>\n",
              "    <tr>\n",
              "      <th>452</th>\n",
              "      <td>KEN</td>\n",
              "      <td>Kenya</td>\n",
              "      <td>Eastern</td>\n",
              "      <td>Sub-Saharan Africa</td>\n",
              "      <td>0.190</td>\n",
              "      <td>(0.7137256, 35.517938)</td>\n",
              "    </tr>\n",
              "    <tr>\n",
              "      <th>453</th>\n",
              "      <td>KEN</td>\n",
              "      <td>Kenya</td>\n",
              "      <td>Nairobi</td>\n",
              "      <td>Sub-Saharan Africa</td>\n",
              "      <td>0.020</td>\n",
              "      <td>(-1.2920659, 36.8219462)</td>\n",
              "    </tr>\n",
              "    <tr>\n",
              "      <th>454</th>\n",
              "      <td>KEN</td>\n",
              "      <td>Kenya</td>\n",
              "      <td>North Eastern</td>\n",
              "      <td>Sub-Saharan Africa</td>\n",
              "      <td>0.509</td>\n",
              "      <td>(-0.0190061, 37.6480812)</td>\n",
              "    </tr>\n",
              "    <tr>\n",
              "      <th>455</th>\n",
              "      <td>KEN</td>\n",
              "      <td>Kenya</td>\n",
              "      <td>Nyanza</td>\n",
              "      <td>Sub-Saharan Africa</td>\n",
              "      <td>0.211</td>\n",
              "      <td>(-1.2849963, 36.8272273)</td>\n",
              "    </tr>\n",
              "    <tr>\n",
              "      <th>456</th>\n",
              "      <td>KEN</td>\n",
              "      <td>Kenya</td>\n",
              "      <td>Rift Valley</td>\n",
              "      <td>Sub-Saharan Africa</td>\n",
              "      <td>0.205</td>\n",
              "      <td>(-18.382333, 47.2923893)</td>\n",
              "    </tr>\n",
              "    <tr>\n",
              "      <th>457</th>\n",
              "      <td>KEN</td>\n",
              "      <td>Kenya</td>\n",
              "      <td>Western</td>\n",
              "      <td>Sub-Saharan Africa</td>\n",
              "      <td>0.223</td>\n",
              "      <td>(-0.115003, 34.851379)</td>\n",
              "    </tr>\n",
              "  </tbody>\n",
              "</table>\n",
              "</div>"
            ],
            "text/plain": [
              "     ISO country         region        world_region    MPI  \\\n",
              "450  KEN   Kenya        Central  Sub-Saharan Africa  0.075   \n",
              "451  KEN   Kenya          Coast  Sub-Saharan Africa  0.242   \n",
              "452  KEN   Kenya        Eastern  Sub-Saharan Africa  0.190   \n",
              "453  KEN   Kenya        Nairobi  Sub-Saharan Africa  0.020   \n",
              "454  KEN   Kenya  North Eastern  Sub-Saharan Africa  0.509   \n",
              "455  KEN   Kenya         Nyanza  Sub-Saharan Africa  0.211   \n",
              "456  KEN   Kenya    Rift Valley  Sub-Saharan Africa  0.205   \n",
              "457  KEN   Kenya        Western  Sub-Saharan Africa  0.223   \n",
              "\n",
              "                          geo  \n",
              "450  (-4.0627412, 39.6771481)  \n",
              "451  (-3.2096898, 40.1169399)  \n",
              "452    (0.7137256, 35.517938)  \n",
              "453  (-1.2920659, 36.8219462)  \n",
              "454  (-0.0190061, 37.6480812)  \n",
              "455  (-1.2849963, 36.8272273)  \n",
              "456  (-18.382333, 47.2923893)  \n",
              "457    (-0.115003, 34.851379)  "
            ]
          },
          "metadata": {
            "tags": []
          },
          "execution_count": 22
        }
      ]
    },
    {
      "metadata": {
        "id": "fUfQjF26vT7F",
        "colab_type": "code",
        "colab": {
          "autoexec": {
            "startup": false,
            "wait_interval": 0
          }
        }
      },
      "cell_type": "code",
      "source": [
        "kenya_loans.to_csv(path_or_buf = \"kenya_loans.csv\")\n",
        "files.download('kenya_loans.csv')\n",
        "# loan_theme_ids.head()\n",
        "# # loan_theme_ids['Loan Theme ID'][4]\n",
        "# kenya_theme_ids = []\n",
        "# for k in kenya_loans.id:\n",
        "#     for v in range(len(loan_theme_ids.id)):\n",
        "#         if k == loan_theme_ids.id[v]:\n",
        "#             kenya_theme_ids.append(loan_theme_ids['Loan Theme ID'][v])\n",
        "#             break"
      ],
      "execution_count": 0,
      "outputs": []
    },
    {
      "metadata": {
        "id": "Xvj9MKTebFTo",
        "colab_type": "code",
        "colab": {
          "autoexec": {
            "startup": false,
            "wait_interval": 0
          }
        }
      },
      "cell_type": "code",
      "source": [
        "Get_mpi = []\n",
        "for k in compiled_file.region:\n",
        "    for v in range(len(kiva_mpi_region_locations.region)):\n",
        "        if k == kiva_mpi_region_locations.region[v]:\n",
        "            Get_mpi.append(kiva_mpi_region_locations.MPI[v])"
      ],
      "execution_count": 0,
      "outputs": []
    },
    {
      "metadata": {
        "id": "0XOCUs9ddf6L",
        "colab_type": "code",
        "colab": {
          "autoexec": {
            "startup": false,
            "wait_interval": 0
          }
        }
      },
      "cell_type": "code",
      "source": [
        "regions = compiled_file.region\n",
        "cdd = kiva_mpi_region_locations.loc[kiva_mpi_region_locations]"
      ],
      "execution_count": 0,
      "outputs": []
    }
  ]
}